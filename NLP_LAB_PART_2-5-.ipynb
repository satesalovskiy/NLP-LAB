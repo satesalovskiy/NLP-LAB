{
 "cells": [
  {
   "cell_type": "code",
   "execution_count": 1,
   "metadata": {},
   "outputs": [
    {
     "name": "stderr",
     "output_type": "stream",
     "text": [
      "[nltk_data] Downloading package punkt to /Users/tessergey/nltk_data...\n",
      "[nltk_data]   Package punkt is already up-to-date!\n",
      "[nltk_data] Downloading package wordnet to\n",
      "[nltk_data]     /Users/tessergey/nltk_data...\n",
      "[nltk_data]   Package wordnet is already up-to-date!\n",
      "[nltk_data] Downloading package stopwords to\n",
      "[nltk_data]     /Users/tessergey/nltk_data...\n",
      "[nltk_data]   Package stopwords is already up-to-date!\n"
     ]
    }
   ],
   "source": [
    "import pandas as pd\n",
    "import numpy as np\n",
    "import tqdm\n",
    "import string\n",
    "from sklearn.model_selection import train_test_split\n",
    "from sklearn.preprocessing      import LabelEncoder\n",
    "from sklearn.model_selection    import GridSearchCV\n",
    "from sklearn.neighbors          import KNeighborsClassifier\n",
    "from sklearn.naive_bayes        import GaussianNB\n",
    "from sklearn.svm import SVC, LinearSVC \n",
    "from sklearn.model_selection import cross_val_score, KFold\n",
    "import nltk\n",
    "from nltk.corpus import stopwords \n",
    "from nltk.tokenize import word_tokenize   \n",
    "from nltk.stem import WordNetLemmatizer \n",
    "nltk.download('punkt')\n",
    "nltk.download('wordnet')\n",
    "nltk.download('stopwords')\n",
    "from gensim.models import Word2Vec\n",
    "from nltk.tokenize import WordPunctTokenizer\n",
    "from sklearn.model_selection import train_test_split\n",
    "from sklearn.preprocessing      import LabelEncoder\n",
    "from sklearn.model_selection    import GridSearchCV\n",
    "from sklearn.neighbors          import KNeighborsClassifier\n",
    "from sklearn.naive_bayes        import GaussianNB\n",
    "from sklearn.svm import SVC, LinearSVC \n",
    "from sklearn.model_selection import cross_val_score, KFold"
   ]
  },
  {
   "cell_type": "code",
   "execution_count": 2,
   "metadata": {},
   "outputs": [],
   "source": [
    "train = pd.read_csv('/Users/tessergey/train_clear.csv')"
   ]
  },
  {
   "cell_type": "code",
   "execution_count": 3,
   "metadata": {},
   "outputs": [
    {
     "data": {
      "text/html": [
       "<div>\n",
       "<style scoped>\n",
       "    .dataframe tbody tr th:only-of-type {\n",
       "        vertical-align: middle;\n",
       "    }\n",
       "\n",
       "    .dataframe tbody tr th {\n",
       "        vertical-align: top;\n",
       "    }\n",
       "\n",
       "    .dataframe thead th {\n",
       "        text-align: right;\n",
       "    }\n",
       "</style>\n",
       "<table border=\"1\" class=\"dataframe\">\n",
       "  <thead>\n",
       "    <tr style=\"text-align: right;\">\n",
       "      <th></th>\n",
       "      <th>Id</th>\n",
       "      <th>target</th>\n",
       "      <th>text</th>\n",
       "    </tr>\n",
       "  </thead>\n",
       "  <tbody>\n",
       "    <tr>\n",
       "      <th>0</th>\n",
       "      <td>34862324</td>\n",
       "      <td>2</td>\n",
       "      <td>java algorithm graph algorithm implement minim...</td>\n",
       "    </tr>\n",
       "    <tr>\n",
       "      <th>1</th>\n",
       "      <td>47303682</td>\n",
       "      <td>2</td>\n",
       "      <td>html dataframe studio date convert number make...</td>\n",
       "    </tr>\n",
       "    <tr>\n",
       "      <th>2</th>\n",
       "      <td>46431243</td>\n",
       "      <td>0</td>\n",
       "      <td>python pandas dataframe pandas groupby pandas ...</td>\n",
       "    </tr>\n",
       "    <tr>\n",
       "      <th>3</th>\n",
       "      <td>45306324</td>\n",
       "      <td>0</td>\n",
       "      <td>angular typescript rxjs cast result observable...</td>\n",
       "    </tr>\n",
       "    <tr>\n",
       "      <th>4</th>\n",
       "      <td>49479547</td>\n",
       "      <td>1</td>\n",
       "      <td>c window batch file environment variable set b...</td>\n",
       "    </tr>\n",
       "  </tbody>\n",
       "</table>\n",
       "</div>"
      ],
      "text/plain": [
       "         Id  target                                               text\n",
       "0  34862324       2  java algorithm graph algorithm implement minim...\n",
       "1  47303682       2  html dataframe studio date convert number make...\n",
       "2  46431243       0  python pandas dataframe pandas groupby pandas ...\n",
       "3  45306324       0  angular typescript rxjs cast result observable...\n",
       "4  49479547       1  c window batch file environment variable set b..."
      ]
     },
     "execution_count": 3,
     "metadata": {},
     "output_type": "execute_result"
    }
   ],
   "source": [
    "train.head()"
   ]
  },
  {
   "cell_type": "markdown",
   "metadata": {},
   "source": [
    "# Part 2"
   ]
  },
  {
   "cell_type": "markdown",
   "metadata": {},
   "source": [
    "## Embeddings"
   ]
  },
  {
   "cell_type": "markdown",
   "metadata": {},
   "source": [
    "В этом разделе текстовые данные преобразуются в числовые вектора, с использованием различных инструментов: Word2Vec, Fasttext, и TF-IDF, для последующего использования в ML алгоритмах. Основное различие между FastText и Word2Vec заключается в использовании n-граммов. Word2Vec создает векторы только для полных слов. В свою очередь, FastText использует Skip-gramm, игнорируя структуру слова, но для веторизации состовных слов, была также добавлена subword модель для представления целых слов через цепочки символов (n-граммы). В TF-IDF учитывается вес некоторого слова, который пропорционален частоте употребления этого слова в выборке, например, предлоги или междометия получают очень низкий вес, тк часто встречаются в документах."
   ]
  },
  {
   "cell_type": "markdown",
   "metadata": {},
   "source": [
    "### Word2Vec own"
   ]
  },
  {
   "cell_type": "code",
   "execution_count": 4,
   "metadata": {},
   "outputs": [
    {
     "data": {
      "text/plain": [
       "0    java algorithm graph algorithm implement minim...\n",
       "1    html dataframe studio date convert number make...\n",
       "2    python pandas dataframe pandas groupby pandas ...\n",
       "3    angular typescript rxjs cast result observable...\n",
       "4    c window batch file environment variable set b...\n",
       "dtype: object"
      ]
     },
     "execution_count": 4,
     "metadata": {},
     "output_type": "execute_result"
    }
   ],
   "source": [
    "tokenizer = WordPunctTokenizer()\n",
    "\n",
    "# Select features from original dataset to form a new dataframe \n",
    "df1 = train[['text']]\n",
    "\n",
    "# For each row, combine all the columns into one column\n",
    "df2 = df1.apply(lambda x: ','.join(x.astype(str)), axis=1)\n",
    "df2.head()"
   ]
  },
  {
   "cell_type": "code",
   "execution_count": 5,
   "metadata": {},
   "outputs": [],
   "source": [
    "# Tokenzie setences \n",
    "data_tok = [tokenizer.tokenize(u) for u in df2]"
   ]
  },
  {
   "cell_type": "code",
   "execution_count": 6,
   "metadata": {},
   "outputs": [],
   "source": [
    "# Store them in a pandas dataframe\n",
    "df_clean = pd.DataFrame({'clean': data_tok})"
   ]
  },
  {
   "cell_type": "code",
   "execution_count": 7,
   "metadata": {},
   "outputs": [
    {
     "data": {
      "text/html": [
       "<div>\n",
       "<style scoped>\n",
       "    .dataframe tbody tr th:only-of-type {\n",
       "        vertical-align: middle;\n",
       "    }\n",
       "\n",
       "    .dataframe tbody tr th {\n",
       "        vertical-align: top;\n",
       "    }\n",
       "\n",
       "    .dataframe thead th {\n",
       "        text-align: right;\n",
       "    }\n",
       "</style>\n",
       "<table border=\"1\" class=\"dataframe\">\n",
       "  <thead>\n",
       "    <tr style=\"text-align: right;\">\n",
       "      <th></th>\n",
       "      <th>clean</th>\n",
       "    </tr>\n",
       "  </thead>\n",
       "  <tbody>\n",
       "    <tr>\n",
       "      <th>0</th>\n",
       "      <td>[java, algorithm, graph, algorithm, implement,...</td>\n",
       "    </tr>\n",
       "    <tr>\n",
       "      <th>1</th>\n",
       "      <td>[html, dataframe, studio, date, convert, numbe...</td>\n",
       "    </tr>\n",
       "    <tr>\n",
       "      <th>2</th>\n",
       "      <td>[python, pandas, dataframe, pandas, groupby, p...</td>\n",
       "    </tr>\n",
       "    <tr>\n",
       "      <th>3</th>\n",
       "      <td>[angular, typescript, rxjs, cast, result, obse...</td>\n",
       "    </tr>\n",
       "    <tr>\n",
       "      <th>4</th>\n",
       "      <td>[c, window, batch, file, environment, variable...</td>\n",
       "    </tr>\n",
       "  </tbody>\n",
       "</table>\n",
       "</div>"
      ],
      "text/plain": [
       "                                               clean\n",
       "0  [java, algorithm, graph, algorithm, implement,...\n",
       "1  [html, dataframe, studio, date, convert, numbe...\n",
       "2  [python, pandas, dataframe, pandas, groupby, p...\n",
       "3  [angular, typescript, rxjs, cast, result, obse...\n",
       "4  [c, window, batch, file, environment, variable..."
      ]
     },
     "execution_count": 7,
     "metadata": {},
     "output_type": "execute_result"
    }
   ],
   "source": [
    "df_clean.head()"
   ]
  },
  {
   "cell_type": "code",
   "execution_count": 8,
   "metadata": {},
   "outputs": [],
   "source": [
    "#size: The number of dimensions of the embeddings and the default is 100.\n",
    "#window: The maximum distance between a target word and words around the target word. The default window is 5.\n",
    "#min_count: The minimum count of words to consider when training the model; words with occurrence less than this count will be ignored. The default for min_count is 5.\n",
    "#workers: The number of partitions during training and the default workers is 3.\n",
    "#sg: The training algorithm, either CBOW(0) or skip gram(1). The default training algorithm is CBOW.\n",
    "my_w2v_model = Word2Vec(data_tok, min_count=1,size= 50,workers=3, window =3, sg = 1)\n"
   ]
  },
  {
   "cell_type": "code",
   "execution_count": 9,
   "metadata": {},
   "outputs": [],
   "source": [
    "#my_w2v_model.wv.vocab"
   ]
  },
  {
   "cell_type": "code",
   "execution_count": 10,
   "metadata": {},
   "outputs": [
    {
     "name": "stderr",
     "output_type": "stream",
     "text": [
      "<ipython-input-10-53a9080c1cb0>:1: DeprecationWarning: Call to deprecated `__getitem__` (Method will be removed in 4.0.0, use self.wv.__getitem__() instead).\n",
      "  my_w2v_model['kotlin']\n"
     ]
    },
    {
     "data": {
      "text/plain": [
       "array([-0.09987386, -0.59043705, -0.5938913 , -0.08355111, -0.21114188,\n",
       "       -0.56753045,  0.36817208, -1.1141336 ,  0.46637088,  0.25679344,\n",
       "       -0.5180071 ,  0.40621987, -0.836233  ,  0.7962864 , -0.48769364,\n",
       "       -1.3860939 ,  0.04135939, -0.10747735,  0.24069281, -0.6843251 ,\n",
       "        0.03727096, -0.1882288 ,  0.6690256 , -0.26146203, -0.03292085,\n",
       "       -0.8939067 , -1.3274273 ,  1.2636073 , -0.36386022, -0.04148968,\n",
       "       -1.0530113 ,  1.7829607 ,  1.133712  , -0.422164  ,  0.3021526 ,\n",
       "       -0.18909356,  0.8483769 , -0.17597607, -0.1818518 ,  0.6076436 ,\n",
       "       -0.49311596,  1.1167879 ,  0.3636723 , -0.03112642,  0.00322121,\n",
       "       -0.21261142, -0.31117356, -0.42031333, -1.1826173 ,  0.4763015 ],\n",
       "      dtype=float32)"
      ]
     },
     "execution_count": 10,
     "metadata": {},
     "output_type": "execute_result"
    }
   ],
   "source": [
    "my_w2v_model['kotlin']"
   ]
  },
  {
   "cell_type": "markdown",
   "metadata": {},
   "source": [
    "В отличие от FastText, здесь отчетливо видно, что word2vec алгоритм использует контект для составления векторов. Схожие слова не просто являются однокоренными, а относятся к общей области применения с языком kotlin"
   ]
  },
  {
   "cell_type": "code",
   "execution_count": 11,
   "metadata": {},
   "outputs": [
    {
     "name": "stderr",
     "output_type": "stream",
     "text": [
      "<ipython-input-11-283bc178f7ee>:1: DeprecationWarning: Call to deprecated `most_similar` (Method will be removed in 4.0.0, use self.wv.most_similar() instead).\n",
      "  my_w2v_model.most_similar('kotlin')\n"
     ]
    },
    {
     "data": {
      "text/plain": [
       "[('lombok', 0.8045623302459717),\n",
       " ('dagger', 0.7888753414154053),\n",
       " ('coroutines', 0.7869674563407898),\n",
       " ('kapt', 0.7848610877990723),\n",
       " ('jetbrain', 0.7847291827201843),\n",
       " ('rxjava', 0.7804551720619202),\n",
       " ('kdoc', 0.7761753797531128),\n",
       " ('bytecode', 0.7732182145118713),\n",
       " ('classrule', 0.7719128727912903),\n",
       " ('kotlinx', 0.7611885070800781)]"
      ]
     },
     "execution_count": 11,
     "metadata": {},
     "output_type": "execute_result"
    }
   ],
   "source": [
    "my_w2v_model.most_similar('kotlin')"
   ]
  },
  {
   "cell_type": "markdown",
   "metadata": {},
   "source": [
    "Хотя вот адроид и котлин не сильно дружат. Видимо данные в воборке немного устаревшие и джава все еще популярнее"
   ]
  },
  {
   "cell_type": "code",
   "execution_count": 12,
   "metadata": {},
   "outputs": [
    {
     "name": "stderr",
     "output_type": "stream",
     "text": [
      "<ipython-input-12-f0d4b7d8c424>:1: DeprecationWarning: Call to deprecated `similarity` (Method will be removed in 4.0.0, use self.wv.similarity() instead).\n",
      "  my_w2v_model.similarity('android', 'kotlin')\n"
     ]
    },
    {
     "data": {
      "text/plain": [
       "0.5751909"
      ]
     },
     "execution_count": 12,
     "metadata": {},
     "output_type": "execute_result"
    }
   ],
   "source": [
    "my_w2v_model.similarity('android', 'kotlin')"
   ]
  },
  {
   "cell_type": "markdown",
   "metadata": {},
   "source": [
    "#### T-SNE Visualization"
   ]
  },
  {
   "cell_type": "code",
   "execution_count": 13,
   "metadata": {},
   "outputs": [],
   "source": [
    "import matplotlib.pyplot as plt\n",
    "from sklearn.manifold import TSNE"
   ]
  },
  {
   "cell_type": "code",
   "execution_count": 14,
   "metadata": {},
   "outputs": [
    {
     "name": "stderr",
     "output_type": "stream",
     "text": [
      "<ipython-input-14-8d751a82f010>:6: DeprecationWarning: Call to deprecated `similar_by_word` (Method will be removed in 4.0.0, use self.wv.similar_by_word() instead).\n",
      "  close_words = model.similar_by_word(word)\n",
      "<ipython-input-14-8d751a82f010>:8: DeprecationWarning: Call to deprecated `__getitem__` (Method will be removed in 4.0.0, use self.wv.__getitem__() instead).\n",
      "  arr = np.append(arr, np.array([model[word]]), axis=0)\n",
      "<ipython-input-14-8d751a82f010>:10: DeprecationWarning: Call to deprecated `__getitem__` (Method will be removed in 4.0.0, use self.wv.__getitem__() instead).\n",
      "  wrd_vector = model[wrd_score[0]]\n"
     ]
    },
    {
     "data": {
      "image/png": "[encoded data removed]",
      "text/plain": [
       "<Figure size 432x288 with 1 Axes>"
      ]
     },
     "metadata": {
      "needs_background": "light"
     },
     "output_type": "display_data"
    }
   ],
   "source": [
    "def display_closestwords_tsnescatterplot(model, word, size):\n",
    "    \n",
    "    arr = np.empty((0,size), dtype='f')\n",
    "    word_labels = [word]\n",
    "\n",
    "    close_words = model.similar_by_word(word)\n",
    "\n",
    "    arr = np.append(arr, np.array([model[word]]), axis=0)\n",
    "    for wrd_score in close_words:\n",
    "        wrd_vector = model[wrd_score[0]]\n",
    "        word_labels.append(wrd_score[0])\n",
    "        arr = np.append(arr, np.array([wrd_vector]), axis=0)\n",
    "        \n",
    "    tsne = TSNE(n_components=2, random_state=0)\n",
    "    np.set_printoptions(suppress=True)\n",
    "    Y = tsne.fit_transform(arr)\n",
    "\n",
    "    x_coords = Y[:, 0]\n",
    "    y_coords = Y[:, 1]\n",
    "    plt.scatter(x_coords, y_coords)\n",
    "\n",
    "    for label, x, y in zip(word_labels, x_coords, y_coords):\n",
    "        plt.annotate(label, xy=(x, y), xytext=(0, 0), textcoords='offset points')\n",
    "    plt.xlim(x_coords.min()+0.00005, x_coords.max()+0.00005)\n",
    "    plt.ylim(y_coords.min()+0.00005, y_coords.max()+0.00005)\n",
    "    plt.show()\n",
    "    \n",
    "display_closestwords_tsnescatterplot(my_w2v_model, 'kotlin', 50) "
   ]
  },
  {
   "cell_type": "code",
   "execution_count": 15,
   "metadata": {},
   "outputs": [],
   "source": [
    "#words11 = sorted(my_w2v_model.vocab.keys(), key=lambda word: my_w2v_model.vocab[word].count,reverse=True)[:1000]\n",
    "\n",
    "#print(words[::100])"
   ]
  },
  {
   "cell_type": "code",
   "execution_count": 16,
   "metadata": {},
   "outputs": [],
   "source": [
    "#word_vectors11 = np.array([my_w2v_model.get_vector(vector) for vector in words11 ])"
   ]
  },
  {
   "cell_type": "code",
   "execution_count": 17,
   "metadata": {},
   "outputs": [],
   "source": [
    "#word_vectors11[0:10]"
   ]
  },
  {
   "cell_type": "code",
   "execution_count": 18,
   "metadata": {},
   "outputs": [],
   "source": [
    "def get_vectors(corpus, model):    \n",
    "    \n",
    "    def get_vector(sentence):   \n",
    "        word_tokens = word_tokenize(sentence)\n",
    "        vector = 0\n",
    "        for w in word_tokens:\n",
    "            try: \n",
    "                vector += model.wv[w]\n",
    "            except:\n",
    "                continue\n",
    "        return vector\n",
    "    \n",
    "    out_corpus = np.stack(corpus.apply(lambda x: get_vector(x)).to_numpy())\n",
    "    \n",
    "    return out_corpus"
   ]
  },
  {
   "cell_type": "code",
   "execution_count": 19,
   "metadata": {},
   "outputs": [],
   "source": [
    "word2vec_own_vector = get_vectors(train['text'], my_w2v_model)"
   ]
  },
  {
   "cell_type": "code",
   "execution_count": 20,
   "metadata": {},
   "outputs": [
    {
     "data": {
      "text/plain": [
       "array([[  14.713156  ,    9.740424  ,    0.77472496, ...,   26.669617  ,\n",
       "         -88.25145   ,   11.357673  ],\n",
       "       [  12.9667    ,    6.0938635 ,   -4.7402062 , ...,    6.646442  ,\n",
       "         -28.83625   ,   -3.0171273 ],\n",
       "       [  70.4106    ,   26.5899    ,  -31.91333   , ...,   68.257065  ,\n",
       "        -209.81349   ,   29.366915  ],\n",
       "       ...,\n",
       "       [  11.486951  ,   10.453823  ,    2.9546452 , ...,   14.559613  ,\n",
       "         -43.422886  ,   -1.1346167 ],\n",
       "       [  49.759323  ,    4.3835106 ,    1.874419  , ...,   24.532816  ,\n",
       "         -81.0034    ,  -11.032522  ],\n",
       "       [  16.667915  ,   -5.9919267 ,   -8.974178  , ...,   10.98005   ,\n",
       "         -35.81956   ,   -1.3164984 ]], dtype=float32)"
      ]
     },
     "execution_count": 20,
     "metadata": {},
     "output_type": "execute_result"
    }
   ],
   "source": [
    "word2vec_own_vector[:100]"
   ]
  },
  {
   "cell_type": "code",
   "execution_count": 21,
   "metadata": {},
   "outputs": [],
   "source": [
    "#model['java algorithm graph algorithm implement minimum span forrest algorihm java stick write loop algorithmm input graph g output set mst begin null e g edge vertex g create tree single vertex b add end repeat find edge e e minimum weight one end belong end belong tree add e e null m stick logic highlight block ve use simple object vertex edge tree set use array object']"
   ]
  },
  {
   "cell_type": "code",
   "execution_count": 22,
   "metadata": {},
   "outputs": [],
   "source": [
    "#model.similarity('java algorithm graph algorithm implement minimum span forrest algorihm java stick write loop algorithmm input graph g output set mst begin null e g edge vertex g create tree single vertex b add end repeat find edge e e minimum weight one end belong end belong tree add e e null m stick logic highlight block ve use simple object vertex edge tree set use array object',\n",
    "                 #'html dataframe studio date convert number make html datafrane convert datum frame html date convert number keep date')"
   ]
  },
  {
   "cell_type": "code",
   "execution_count": 23,
   "metadata": {},
   "outputs": [],
   "source": [
    "#model.most_similar('java algorithm graph algorithm implement minimum span forrest algorihm java stick write loop algorithmm input graph g output set mst begin null e g edge vertex g create tree single vertex b add end repeat find edge e e minimum weight one end belong end belong tree add e e null m stick logic highlight block ve use simple object vertex edge tree set use array object')[:2]"
   ]
  },
  {
   "cell_type": "markdown",
   "metadata": {},
   "source": [
    "### Word2Vec pretrained"
   ]
  },
  {
   "cell_type": "code",
   "execution_count": 24,
   "metadata": {},
   "outputs": [],
   "source": [
    " from wikipedia2vec import Wikipedia2Vec"
   ]
  },
  {
   "cell_type": "code",
   "execution_count": 25,
   "metadata": {},
   "outputs": [],
   "source": [
    "import gensim.downloader as api\n",
    "info = api.info()  # show info about available models/datasets\n",
    "pre_w2v_model = api.load(\"glove-twitter-25\")  # download the model and return as object ready for use"
   ]
  },
  {
   "cell_type": "markdown",
   "metadata": {},
   "source": [
    "Натренированная выборка тоже хорошо справляется с поиском схожих слов. Все найденно, так или иначе, относится к мобильным устройствам"
   ]
  },
  {
   "cell_type": "code",
   "execution_count": 26,
   "metadata": {},
   "outputs": [
    {
     "data": {
      "text/plain": [
       "[('ipad', 0.9595541954040527),\n",
       " ('ios', 0.9220892190933228),\n",
       " ('galaxy', 0.9118210077285767),\n",
       " ('nokia', 0.902863621711731),\n",
       " ('iphone', 0.9026746153831482),\n",
       " ('smartphone', 0.9002943634986877),\n",
       " ('samsung', 0.9002325534820557),\n",
       " ('windows', 0.8936947584152222),\n",
       " ('blackberry', 0.8787710666656494),\n",
       " ('apple', 0.8782057762145996)]"
      ]
     },
     "execution_count": 26,
     "metadata": {},
     "output_type": "execute_result"
    }
   ],
   "source": [
    "pre_w2v_model.most_similar(\"android\")"
   ]
  },
  {
   "cell_type": "code",
   "execution_count": 27,
   "metadata": {},
   "outputs": [
    {
     "name": "stderr",
     "output_type": "stream",
     "text": [
      "<ipython-input-18-d7d717576ed9>:8: DeprecationWarning: Call to deprecated `wv` (Attribute will be removed in 4.0.0, use self instead).\n",
      "  vector += model.wv[w]\n"
     ]
    }
   ],
   "source": [
    "word2vec_pretrained_vectors = get_vectors(train['text'], pre_w2v_model)"
   ]
  },
  {
   "cell_type": "code",
   "execution_count": 28,
   "metadata": {},
   "outputs": [
    {
     "data": {
      "text/plain": [
       "(48000, 25)"
      ]
     },
     "execution_count": 28,
     "metadata": {},
     "output_type": "execute_result"
    }
   ],
   "source": [
    "word2vec_pretrained_vectors.shape"
   ]
  },
  {
   "cell_type": "code",
   "execution_count": 29,
   "metadata": {},
   "outputs": [
    {
     "data": {
      "text/plain": [
       "array([[  15.585     ,    8.920469  ,  -10.0193    ,   -7.649794  ,\n",
       "           8.046451  ,    1.171929  ,   19.197783  ,  -16.500528  ,\n",
       "          40.88383   ,   -6.754441  ,   -8.033036  ,    2.980152  ,\n",
       "        -187.10594   ,    2.86724   ,  -13.051007  ,    5.1724224 ,\n",
       "          -1.5733786 ,    6.258718  ,    0.41600233,   -3.747053  ,\n",
       "         -31.328411  ,  -13.161798  ,    9.518203  ,    8.978402  ,\n",
       "         -20.009228  ],\n",
       "       [   6.10705   ,    5.690519  ,   -1.3116679 ,   -3.715793  ,\n",
       "           6.670304  ,   -4.4193    ,    9.347806  ,   -4.855344  ,\n",
       "           6.963854  ,   -1.416729  ,   -0.97706985,    2.223823  ,\n",
       "         -46.243813  ,   -3.4677298 ,   -3.1072166 ,    8.698366  ,\n",
       "           7.2478886 ,   -2.647496  ,   -0.2015    ,   -0.480526  ,\n",
       "          -8.932866  ,  -10.515438  ,   -3.7847507 ,    1.757353  ,\n",
       "          -8.655391  ],\n",
       "       [  19.150932  ,   51.270405  ,  -40.05735   ,  -41.37734   ,\n",
       "           0.45593613,  -32.072823  ,   21.032772  ,   26.95563   ,\n",
       "          42.921387  ,    1.1708784 ,  -19.44607   ,  -32.299644  ,\n",
       "        -378.0174    ,   13.933054  ,   -5.2329617 ,    2.409996  ,\n",
       "          -1.6508    ,   -8.019962  ,  -49.575035  ,    6.617034  ,\n",
       "         -44.19423   ,  -50.223797  ,   46.18534   ,    8.081781  ,\n",
       "          -7.1595683 ],\n",
       "       [  25.86992   ,   24.76093   ,  -35.399117  ,  -14.10526   ,\n",
       "          29.907104  ,  -16.853416  ,  107.27928   ,   38.14292   ,\n",
       "          63.306282  ,   19.238277  ,   -4.7364645 ,   31.442955  ,\n",
       "        -400.9684    ,   19.59427   ,    9.078698  ,  -31.072529  ,\n",
       "           0.11912882,    2.5894241 ,  -24.88005   ,  -14.138906  ,\n",
       "         -25.388338  ,  -74.355415  ,   -7.0570097 ,    8.826797  ,\n",
       "         -28.292065  ],\n",
       "       [  12.488768  ,    7.4946856 ,   -9.71913   ,   -7.3972178 ,\n",
       "          16.949913  ,   -5.1951966 ,    1.0131007 ,   -3.6502504 ,\n",
       "          19.637638  ,    5.9723325 ,    3.751734  ,   -4.5155354 ,\n",
       "         -91.28299   ,    7.1218576 ,   -2.805149  ,    6.9896655 ,\n",
       "           8.772936  ,    0.13361013,  -17.050272  ,    3.6055791 ,\n",
       "         -16.316093  ,  -15.288839  ,    3.6779451 ,    3.3584797 ,\n",
       "         -12.755888  ],\n",
       "       [   3.307816  ,    2.6888576 ,    1.4532398 ,    0.87439907,\n",
       "           1.1253152 ,   -3.8568716 ,   11.134593  ,   -7.0495205 ,\n",
       "           2.7214499 ,   -1.9553196 ,    1.1209571 ,    5.2266464 ,\n",
       "         -47.56401   ,   -6.590802  ,   -7.5494204 ,   13.271218  ,\n",
       "           3.6693883 ,   -2.5118332 ,   -2.1718042 ,   -3.9322948 ,\n",
       "          -6.7972755 ,   -4.866386  ,    7.2661667 ,   -0.541757  ,\n",
       "         -12.324289  ],\n",
       "       [  31.461466  ,   35.562496  ,  -32.28849   ,  -26.424244  ,\n",
       "          58.42708   ,  -36.490414  ,   25.41434   ,   -5.2352214 ,\n",
       "          68.22277   ,  -21.411512  ,  -11.349628  ,    7.1577444 ,\n",
       "        -274.87726   ,   -0.14090946,   14.920058  ,   10.6053295 ,\n",
       "          17.554256  ,    4.6302085 ,    8.710069  ,   17.213846  ,\n",
       "         -42.19087   ,  -43.181576  ,   -0.43320286,   10.933268  ,\n",
       "         -52.75379   ],\n",
       "       [  16.620722  ,   34.048218  ,  -24.532246  ,   -8.924213  ,\n",
       "          24.17101   ,  -18.182125  ,   40.19717   ,  -12.344238  ,\n",
       "          59.787514  ,    9.367039  ,   15.534462  ,    3.7801957 ,\n",
       "        -236.80148   ,  -12.334881  ,   12.092338  ,    3.8329563 ,\n",
       "          19.407621  ,    5.529419  ,   -0.2610017 ,  -24.902637  ,\n",
       "         -40.835167  ,  -61.072727  ,    1.1253408 ,   24.790535  ,\n",
       "         -19.924084  ],\n",
       "       [   9.8642845 ,    4.232958  ,   -6.083824  ,   -1.9498348 ,\n",
       "           7.323052  ,   -9.978426  ,    8.58497   ,   -3.22317   ,\n",
       "          13.148918  ,   -4.6017575 ,   -0.9730842 ,   -3.527372  ,\n",
       "         -74.16328   ,   -8.06328   ,    0.14375013,   10.124644  ,\n",
       "           3.629244  ,    1.9378262 ,    2.4191012 ,    1.0625668 ,\n",
       "         -11.482343  ,  -13.8779545 ,    0.21529076,    6.5349784 ,\n",
       "         -14.401073  ],\n",
       "       [   5.210385  ,    5.706376  ,   -1.616852  ,   -2.9343648 ,\n",
       "           6.9088244 ,    0.13277614,   16.03701   ,   -2.9690301 ,\n",
       "           8.246868  ,    4.3163466 ,    8.510346  ,    0.21308002,\n",
       "         -78.53361   ,  -11.5042    ,    1.0127159 ,    6.565157  ,\n",
       "           8.581528  ,   -7.2274284 ,    1.1142642 ,   -4.525483  ,\n",
       "         -12.13211   ,  -12.052566  ,    2.1794744 ,    3.1494281 ,\n",
       "          -6.80838   ]], dtype=float32)"
      ]
     },
     "execution_count": 29,
     "metadata": {},
     "output_type": "execute_result"
    }
   ],
   "source": [
    "word2vec_pretrained_vectors[:10]"
   ]
  },
  {
   "cell_type": "markdown",
   "metadata": {},
   "source": [
    "### Fasttext pretrained"
   ]
  },
  {
   "cell_type": "code",
   "execution_count": 41,
   "metadata": {},
   "outputs": [],
   "source": [
    "from gensim.models import KeyedVectors"
   ]
  },
  {
   "cell_type": "code",
   "execution_count": 42,
   "metadata": {},
   "outputs": [],
   "source": [
    "op = KeyedVectors.load_word2vec_format(\"/Users/tessergey/wiki-news-300d-1M.vec\")"
   ]
  },
  {
   "cell_type": "code",
   "execution_count": 43,
   "metadata": {},
   "outputs": [
    {
     "name": "stderr",
     "output_type": "stream",
     "text": [
      "<ipython-input-29-208de9636144>:8: DeprecationWarning: Call to deprecated `wv` (Attribute will be removed in 4.0.0, use self instead).\n",
      "  vector += model.wv[w]\n"
     ]
    }
   ],
   "source": [
    "fasttext_pretrained_vectors = get_vectors(train['text'], op)"
   ]
  },
  {
   "cell_type": "markdown",
   "metadata": {},
   "source": [
    "### Fasttext own"
   ]
  },
  {
   "cell_type": "code",
   "execution_count": 33,
   "metadata": {},
   "outputs": [
    {
     "name": "stdout",
     "output_type": "stream",
     "text": [
      "FastText(vocab=31682, size=300, alpha=0.025)\n"
     ]
    }
   ],
   "source": [
    "from gensim.models.fasttext import FastText as FT_trainable\n",
    "from gensim.test.utils import common_texts\n",
    "\n",
    "my_ft_model = FT_trainable(size=300)\n",
    "\n",
    "# build the vocabulary\n",
    "my_ft_model.build_vocab(sentences=data_tok)\n",
    "\n",
    "# train the model\n",
    "my_ft_model.train(\n",
    "    sentences=data_tok, epochs=my_ft_model.epochs,\n",
    "    total_examples=my_ft_model.corpus_count, total_words=my_ft_model.corpus_total_words\n",
    ")\n",
    "\n",
    "print(my_ft_model)"
   ]
  },
  {
   "cell_type": "code",
   "execution_count": 34,
   "metadata": {},
   "outputs": [
    {
     "name": "stderr",
     "output_type": "stream",
     "text": [
      "<ipython-input-34-b3df84763c6e>:1: DeprecationWarning: Call to deprecated `similarity` (Method will be removed in 4.0.0, use self.wv.similarity() instead).\n",
      "  my_ft_model.similarity(\"kotlin\",\"java\")\n"
     ]
    },
    {
     "data": {
      "text/plain": [
       "0.437947"
      ]
     },
     "execution_count": 34,
     "metadata": {},
     "output_type": "execute_result"
    }
   ],
   "source": [
    "my_ft_model.similarity(\"kotlin\",\"java\")"
   ]
  },
  {
   "cell_type": "markdown",
   "metadata": {},
   "source": [
    "Результаты фасттекста отчетливо показывают то, что контекст здесь не учитывается, зато, что касается sub-words и составных слов, тут виден явный акцент на поиск различных форм искомого слова"
   ]
  },
  {
   "cell_type": "code",
   "execution_count": 35,
   "metadata": {},
   "outputs": [
    {
     "name": "stderr",
     "output_type": "stream",
     "text": [
      "<ipython-input-35-920955a42583>:1: DeprecationWarning: Call to deprecated `most_similar` (Method will be removed in 4.0.0, use self.wv.most_similar() instead).\n",
      "  my_ft_model.most_similar(\"java\")\n"
     ]
    },
    {
     "data": {
      "text/plain": [
       "[('ljava', 0.9844433069229126),\n",
       " ('drjava', 0.9747886061668396),\n",
       " ('javaw', 0.9638990163803101),\n",
       " ('javah', 0.9637150764465332),\n",
       " ('justjava', 0.9538779258728027),\n",
       " ('djava', 0.9496346712112427),\n",
       " ('javacv', 0.9406332969665527),\n",
       " ('javaee', 0.9401933550834656),\n",
       " ('javac', 0.924591600894928),\n",
       " ('jav', 0.9172947406768799)]"
      ]
     },
     "execution_count": 35,
     "metadata": {},
     "output_type": "execute_result"
    }
   ],
   "source": [
    "my_ft_model.most_similar(\"java\")"
   ]
  },
  {
   "cell_type": "code",
   "execution_count": 36,
   "metadata": {},
   "outputs": [],
   "source": [
    "fasttext_own_vectors = get_vectors(train['text'], my_ft_model)"
   ]
  },
  {
   "cell_type": "markdown",
   "metadata": {},
   "source": [
    "### TF IDF"
   ]
  },
  {
   "cell_type": "code",
   "execution_count": 49,
   "metadata": {},
   "outputs": [],
   "source": [
    "from sklearn.feature_extraction.text import TfidfVectorizer\n",
    "\n",
    "tf_idf = TfidfVectorizer()"
   ]
  },
  {
   "cell_type": "code",
   "execution_count": 50,
   "metadata": {},
   "outputs": [],
   "source": [
    "tf_idf_pretrained_vectors = tf_idf.fit_transform(train['text'])\n",
    "#tf_idf_pretrained_vectors = tf_idf.transform(test['Full_text'])"
   ]
  },
  {
   "cell_type": "code",
   "execution_count": 51,
   "metadata": {},
   "outputs": [
    {
     "data": {
      "text/plain": [
       "(48000, 139828)"
      ]
     },
     "execution_count": 51,
     "metadata": {},
     "output_type": "execute_result"
    }
   ],
   "source": [
    "tf_idf_pretrained_vectors.shape"
   ]
  },
  {
   "cell_type": "code",
   "execution_count": 52,
   "metadata": {},
   "outputs": [
    {
     "data": {
      "text/plain": [
       "<10x139828 sparse matrix of type '<class 'numpy.float64'>'\n",
       "\twith 330 stored elements in Compressed Sparse Row format>"
      ]
     },
     "execution_count": 52,
     "metadata": {},
     "output_type": "execute_result"
    }
   ],
   "source": [
    "tf_idf_pretrained_vectors[:10]"
   ]
  },
  {
   "cell_type": "code",
   "execution_count": 53,
   "metadata": {},
   "outputs": [
    {
     "data": {
      "text/html": [
       "<div>\n",
       "<style scoped>\n",
       "    .dataframe tbody tr th:only-of-type {\n",
       "        vertical-align: middle;\n",
       "    }\n",
       "\n",
       "    .dataframe tbody tr th {\n",
       "        vertical-align: top;\n",
       "    }\n",
       "\n",
       "    .dataframe thead th {\n",
       "        text-align: right;\n",
       "    }\n",
       "</style>\n",
       "<table border=\"1\" class=\"dataframe\">\n",
       "  <thead>\n",
       "    <tr style=\"text-align: right;\">\n",
       "      <th></th>\n",
       "      <th>Id</th>\n",
       "      <th>target</th>\n",
       "      <th>text</th>\n",
       "    </tr>\n",
       "  </thead>\n",
       "  <tbody>\n",
       "    <tr>\n",
       "      <th>0</th>\n",
       "      <td>34862324</td>\n",
       "      <td>2</td>\n",
       "      <td>java algorithm graph algorithm implement minim...</td>\n",
       "    </tr>\n",
       "    <tr>\n",
       "      <th>1</th>\n",
       "      <td>47303682</td>\n",
       "      <td>2</td>\n",
       "      <td>html dataframe studio date convert number make...</td>\n",
       "    </tr>\n",
       "    <tr>\n",
       "      <th>2</th>\n",
       "      <td>46431243</td>\n",
       "      <td>0</td>\n",
       "      <td>python pandas dataframe pandas groupby pandas ...</td>\n",
       "    </tr>\n",
       "    <tr>\n",
       "      <th>3</th>\n",
       "      <td>45306324</td>\n",
       "      <td>0</td>\n",
       "      <td>angular typescript rxjs cast result observable...</td>\n",
       "    </tr>\n",
       "    <tr>\n",
       "      <th>4</th>\n",
       "      <td>49479547</td>\n",
       "      <td>1</td>\n",
       "      <td>c window batch file environment variable set b...</td>\n",
       "    </tr>\n",
       "  </tbody>\n",
       "</table>\n",
       "</div>"
      ],
      "text/plain": [
       "         Id  target                                               text\n",
       "0  34862324       2  java algorithm graph algorithm implement minim...\n",
       "1  47303682       2  html dataframe studio date convert number make...\n",
       "2  46431243       0  python pandas dataframe pandas groupby pandas ...\n",
       "3  45306324       0  angular typescript rxjs cast result observable...\n",
       "4  49479547       1  c window batch file environment variable set b..."
      ]
     },
     "execution_count": 53,
     "metadata": {},
     "output_type": "execute_result"
    }
   ],
   "source": [
    "train.head()"
   ]
  },
  {
   "cell_type": "code",
   "execution_count": null,
   "metadata": {},
   "outputs": [],
   "source": [
    "#display_closestwords_tsnescatterplot(, 'kotlin', 50) "
   ]
  },
  {
   "cell_type": "markdown",
   "metadata": {},
   "source": [
    "### One Hot Encoding"
   ]
  },
  {
   "cell_type": "code",
   "execution_count": 127,
   "metadata": {},
   "outputs": [],
   "source": [
    "from sklearn.preprocessing import OneHotEncoder\n",
    "from sklearn.feature_extraction.text import CountVectorizer"
   ]
  },
  {
   "cell_type": "code",
   "execution_count": 150,
   "metadata": {},
   "outputs": [],
   "source": [
    "vectorizer = CountVectorizer()\n",
    "ohe_vectors = vectorizer.fit_transform(train[\"text\"])"
   ]
  },
  {
   "cell_type": "code",
   "execution_count": 151,
   "metadata": {},
   "outputs": [
    {
     "data": {
      "text/plain": [
       "(48000, 139828)"
      ]
     },
     "execution_count": 151,
     "metadata": {},
     "output_type": "execute_result"
    }
   ],
   "source": [
    "ohe_vectors.shape"
   ]
  },
  {
   "cell_type": "markdown",
   "metadata": {},
   "source": [
    "# Part 3"
   ]
  },
  {
   "cell_type": "markdown",
   "metadata": {},
   "source": [
    "## ML-algorithms"
   ]
  },
  {
   "cell_type": "markdown",
   "metadata": {},
   "source": [
    "Краткое описание алгоритмов: \n",
    "     - Алгоритм ленивого обучения — KNN — это алгоритм ленивого обучения, потому что он не имеет специальной фазы обучения и использует все данные для обучения во время классификации. \n",
    "    - Наивные байесовские алгоритмы — это метод классификации, основанный на применении теоремы Байеса с сильным предположением, что все предикторы независимы друг от друга. Это самый простой наивный байесовский классификатор, предполагающий, что данные из каждой метки взяты из простого распределения Гаусса.\n",
    "    - GridSearchCV находит наилучшие параметры, путем обычного перебора: он создает модель для каждой возможной комбинации параметров. Важно отметить, что такой подход может быть весьма времязатратным.\n",
    "    - RF (random forest) — это множество решающих деревьев. В задаче регрессии их ответы усредняются, в задаче классификации принимается решение голосованием по большинству.\n",
    "    - Деревья решений являются одним из наиболее эффективных инструментов интеллектуального анализа данных и предсказательной аналитики, которые позволяют решать задачи классификации и регрессии. Они представляют собой иерархические древовидные структуры, состоящие из решающих правил вида «Если ..., то ...». Правила автоматически генерируются в процессе обучения на обучающем множестве и, поскольку они формулируются практически на естественном языке (например, «Если объём продаж более 1000 шт., то товар перспективный»), деревья решений как аналитические модели более вербализуемы и интерпретируемы, чем, скажем, нейронные сети.\n",
    "    - AdaBoost. Улучшает эффективность базовых (слабых) алгоритмов. Является алгоритмом адаптивного бустинга: каждый следующий классификатор учитывает ошибки предыдущего. Слабо подвержен переобучению, что является значительным преимуществом в нашем случае, когда мы сразу обучаем алгоритм на большой выборке 48 000 элементов.\n",
    "    -Bootstrap Aggregation или bagging выбирает несколько выборок из набора обучающих данных (с заменой) и обучает модель на каждой из них. Окончательный результат усредняется по прогнозам всех подмоделей.\n",
    "    -ShuffleSplit и KFOLD относятся к кросс-валидации - подходу позволяющему избежать переобучения или улучшить результаты, в случае очень маленького набор входных данных для тренировки. "
   ]
  },
  {
   "attachments": {
    "image.png": {
     "image/png": "[encoded data removed]"
    }
   },
   "cell_type": "markdown",
   "metadata": {},
   "source": [
    "Рабочий процесс: Каждый сгенерированный вектор разбивался на train и valid части. Алгоритмы обучались на каждом векторе отдельно и последовательно. Получилось очень много копипаста, но это позволило запускать обучения и предсказания по отдельности, что экономит время на получения результатов для каждого конкретного случая. Результаты сохранялись в табличку для наглядности ![image.png](attachment:image.png)"
   ]
  },
  {
   "cell_type": "markdown",
   "metadata": {},
   "source": [
    "Выводы: \n",
    "    Независимо от того, каким способом слова были векторизованы (word2vec, fasttext, tf-idf) точность предсказаний на валидационной выборке была низкой для всех алгоритмов. Вариант с переобученим отпадает, потому что точность на train выборке, также не была сильно высокой, да и в случае с алгоритмами бустинга и кросс-валидации прироста в точности не было заметно. Наиболее вероятной проблемой, на наш взгляд, является плохая подготовка данных. Возможно, нужно было тщательнее подойти к подбору стоп-слов, чтобы исключить как можно больше незначимых данных. Либо, попробовать стемминг вместо лемантизации, тк мы работаем с выборкой на английском языке, грубое \"отрезание\" части слова не сильно испортило бы контекст. Наибольшая точность, которую получилось достигнуть - 68-70% для алгоритмов: Random Forest, AdaBoost и Bagged Decision Tree. Также можно заметить, что точность на pretrained модели немного ниже, возможно, из за отсутствия специальных IT слов в базе (java, html, c++, kotlin и тд). "
   ]
  },
  {
   "cell_type": "markdown",
   "metadata": {},
   "source": [
    "### word2vec_own_vector"
   ]
  },
  {
   "cell_type": "code",
   "execution_count": 66,
   "metadata": {},
   "outputs": [],
   "source": [
    "y = train['target']"
   ]
  },
  {
   "cell_type": "code",
   "execution_count": 67,
   "metadata": {},
   "outputs": [],
   "source": [
    "x_train, x_valid, y_train, y_valid = train_test_split(word2vec_own_vector, y, test_size = 0.2)"
   ]
  },
  {
   "cell_type": "markdown",
   "metadata": {},
   "source": [
    "#### KNN "
   ]
  },
  {
   "cell_type": "code",
   "execution_count": 68,
   "metadata": {},
   "outputs": [],
   "source": [
    "knn = KNeighborsClassifier().fit(x_train, y_train)"
   ]
  },
  {
   "cell_type": "code",
   "execution_count": 69,
   "metadata": {},
   "outputs": [
    {
     "name": "stdout",
     "output_type": "stream",
     "text": [
      "KNN: (0.7570138888888889, 0.6283854166666667)\n"
     ]
    }
   ],
   "source": [
    "acc = np.mean(knn.predict(x_train) == y_train)\n",
    "valid_acc = np.mean(knn.predict(x_valid) == y_valid)\n",
    "print(f\"KNN: {acc, valid_acc}\")"
   ]
  },
  {
   "cell_type": "markdown",
   "metadata": {},
   "source": [
    "#### Bayes"
   ]
  },
  {
   "cell_type": "code",
   "execution_count": 56,
   "metadata": {},
   "outputs": [
    {
     "name": "stdout",
     "output_type": "stream",
     "text": [
      "Bayes: (0.40619791666666666, 0.40229166666666666)\n"
     ]
    }
   ],
   "source": [
    "nb = GaussianNB().fit(x_train, y_train)\n",
    "acc = np.mean(nb.predict(x_train) == y_train)\n",
    "valid_acc = np.mean(nb.predict(x_valid) == y_valid)\n",
    "print(f\"Bayes: {acc, valid_acc}\")"
   ]
  },
  {
   "cell_type": "markdown",
   "metadata": {},
   "source": [
    "Для подбора гипер-параметров используется GridSearch. Конкретно в данном случае используется поиск колличества соседей для knn алгоритма"
   ]
  },
  {
   "cell_type": "markdown",
   "metadata": {},
   "source": [
    "#### GridSearch for number of neighbors"
   ]
  },
  {
   "cell_type": "code",
   "execution_count": 57,
   "metadata": {},
   "outputs": [
    {
     "name": "stdout",
     "output_type": "stream",
     "text": [
      "Grid Search: ({'n_neighbors': 19}, 0.6593333333333333, 19)\n"
     ]
    }
   ],
   "source": [
    "grid_train = piper\n",
    "grid_valid = train[\"target\"]\n",
    "#param_grid=parameters[clf_name], n_jobs=-1\n",
    "gs = GridSearchCV(knn, param_grid = {\"n_neighbors\": range(1, 20)}, cv=5)\n",
    "gs.fit(grid_train, grid_valid)\n",
    "print(f\"Grid Search: {gs.best_params_, gs.best_score_, gs.best_estimator_.n_neighbors}\")"
   ]
  },
  {
   "cell_type": "markdown",
   "metadata": {},
   "source": [
    "#### KNN with hyperparameters"
   ]
  },
  {
   "cell_type": "code",
   "execution_count": 58,
   "metadata": {},
   "outputs": [
    {
     "name": "stdout",
     "output_type": "stream",
     "text": [
      "KNN: (0.7016666666666667, 0.655625)\n"
     ]
    }
   ],
   "source": [
    "knn2 = KNeighborsClassifier(n_neighbors = 19).fit(x_train, y_train)\n",
    "acc = np.mean(knn2.predict(x_train) == y_train)\n",
    "valid_acc = np.mean(knn2.predict(x_valid) == y_valid)\n",
    "print(f\"KNN: {acc, valid_acc}\")"
   ]
  },
  {
   "cell_type": "markdown",
   "metadata": {},
   "source": [
    "#### Random Forest"
   ]
  },
  {
   "cell_type": "code",
   "execution_count": 121,
   "metadata": {},
   "outputs": [
    {
     "name": "stdout",
     "output_type": "stream",
     "text": [
      "0.7936458333333334\n"
     ]
    }
   ],
   "source": [
    "from sklearn.ensemble import RandomForestClassifier\n",
    "rf = RandomForestClassifier(n_estimators=100)\n",
    "\n",
    "rf.fit(x_train, y_train)\n",
    "rf_acc = np.mean(rf.predict(x_valid) == y_valid)\n",
    "print(rf_acc)\n",
    "\n",
    "#rf_test_results = rf.predict(test)\n",
    "#print(rf_test_results)"
   ]
  },
  {
   "cell_type": "markdown",
   "metadata": {},
   "source": [
    "#### Decision Tree"
   ]
  },
  {
   "cell_type": "code",
   "execution_count": 61,
   "metadata": {},
   "outputs": [
    {
     "name": "stdout",
     "output_type": "stream",
     "text": [
      "0.5432291666666667\n"
     ]
    }
   ],
   "source": [
    "\n",
    "from sklearn.tree import DecisionTreeClassifier\n",
    "from sklearn import metrics\n",
    "\n",
    "#можно добавить max_depth параметр для ограничения глубины\n",
    "dt = DecisionTreeClassifier()\n",
    "\n",
    "dt = dt.fit(x_train,y_train)\n",
    "\n",
    "dt_acc = np.mean(dt.predict(x_valid) == y_valid) \n",
    "print(dt_acc)\n",
    "\n",
    "#dt_test_results = dt.predict(test)\n",
    "#print(clf_test_results)\n",
    "\n",
    "#Отрисовка дерева\n",
    "\n",
    "#from sklearn import tree\n",
    "#tree.plot_tree(dt)"
   ]
  },
  {
   "cell_type": "markdown",
   "metadata": {},
   "source": [
    "#### Ensembles"
   ]
  },
  {
   "cell_type": "markdown",
   "metadata": {},
   "source": [
    "##### AdaBoost"
   ]
  },
  {
   "cell_type": "code",
   "execution_count": 62,
   "metadata": {},
   "outputs": [],
   "source": [
    "from sklearn.ensemble import AdaBoostClassifier"
   ]
  },
  {
   "cell_type": "code",
   "execution_count": 65,
   "metadata": {},
   "outputs": [
    {
     "name": "stdout",
     "output_type": "stream",
     "text": [
      "0.6753125\n"
     ]
    }
   ],
   "source": [
    "# RandomForestClassifier\n",
    "abc = AdaBoostClassifier(base_estimator = rf, n_estimators = 200)\n",
    "abc = abc.fit(x_train, y_train)\n",
    "abc_acc = np.mean(abc.predict(x_valid) == y_valid)\n",
    "print(abc_acc)"
   ]
  },
  {
   "cell_type": "code",
   "execution_count": 66,
   "metadata": {},
   "outputs": [
    {
     "name": "stdout",
     "output_type": "stream",
     "text": [
      "0.5452083333333333\n"
     ]
    }
   ],
   "source": [
    "# Decision Tree\n",
    "abc = AdaBoostClassifier(base_estimator = dt, n_estimators = 200)\n",
    "abc = abc.fit(x_train, y_train)\n",
    "abc_acc = np.mean(abc.predict(x_valid) == y_valid)\n",
    "print(abc_acc)"
   ]
  },
  {
   "cell_type": "markdown",
   "metadata": {},
   "source": [
    "##### Bagged dt"
   ]
  },
  {
   "cell_type": "code",
   "execution_count": 69,
   "metadata": {},
   "outputs": [],
   "source": [
    "from sklearn.ensemble import BaggingClassifier\n",
    "from sklearn import model_selection"
   ]
  },
  {
   "cell_type": "code",
   "execution_count": 71,
   "metadata": {},
   "outputs": [],
   "source": [
    "bgc = BaggingClassifier(base_estimator=dt, n_estimators=100, random_state=6)"
   ]
  },
  {
   "cell_type": "code",
   "execution_count": 72,
   "metadata": {},
   "outputs": [],
   "source": [
    "bgc = bgc.fit(x_train, y_train)"
   ]
  },
  {
   "cell_type": "code",
   "execution_count": 73,
   "metadata": {},
   "outputs": [
    {
     "name": "stdout",
     "output_type": "stream",
     "text": [
      "0.6673958333333333\n"
     ]
    }
   ],
   "source": [
    "bgc_acc = np.mean(bgc.predict(x_valid) == y_valid)\n",
    "print(bgc_acc)"
   ]
  },
  {
   "cell_type": "markdown",
   "metadata": {},
   "source": [
    "#### Cross Validation"
   ]
  },
  {
   "cell_type": "markdown",
   "metadata": {},
   "source": [
    "#####  ShuffleSplit"
   ]
  },
  {
   "cell_type": "code",
   "execution_count": 80,
   "metadata": {},
   "outputs": [],
   "source": [
    "from sklearn.model_selection import ShuffleSplit"
   ]
  },
  {
   "cell_type": "code",
   "execution_count": 84,
   "metadata": {},
   "outputs": [
    {
     "name": "stdout",
     "output_type": "stream",
     "text": [
      "0.5411458333333333\n"
     ]
    }
   ],
   "source": [
    "cvas = ShuffleSplit(n_splits=5, test_size=0.3, random_state=0)\n",
    "result = cross_val_score(bgc, x_train, y_train, cv=cvas)\n",
    "print(results.mean())"
   ]
  },
  {
   "cell_type": "markdown",
   "metadata": {},
   "source": [
    "#####  KFOLD"
   ]
  },
  {
   "cell_type": "code",
   "execution_count": 74,
   "metadata": {},
   "outputs": [],
   "source": [
    "from sklearn.model_selection import cross_val_score"
   ]
  },
  {
   "cell_type": "code",
   "execution_count": 76,
   "metadata": {},
   "outputs": [],
   "source": [
    "kfold = model_selection.KFold(n_splits=10)\n"
   ]
  },
  {
   "cell_type": "code",
   "execution_count": 83,
   "metadata": {},
   "outputs": [
    {
     "name": "stdout",
     "output_type": "stream",
     "text": [
      "0.5411458333333333\n"
     ]
    }
   ],
   "source": [
    "results = model_selection.cross_val_score(bgc, x_train, y_train, cv=kfold)\n",
    "print(results.mean())"
   ]
  },
  {
   "cell_type": "markdown",
   "metadata": {},
   "source": [
    "##### Cros val with SVC"
   ]
  },
  {
   "cell_type": "code",
   "execution_count": 86,
   "metadata": {},
   "outputs": [],
   "source": [
    "from sklearn import svm"
   ]
  },
  {
   "cell_type": "code",
   "execution_count": null,
   "metadata": {},
   "outputs": [],
   "source": [
    "# Не дождался\n",
    "#clfqq = svm.SVC(kernel='linear', C=1)\n",
    "#scores = cross_val_score(clfqq, x_train, y_train, cv=5)\n",
    "#print(scores.mean())"
   ]
  },
  {
   "cell_type": "markdown",
   "metadata": {},
   "source": [
    "### word2vec_pretrained_vectors"
   ]
  },
  {
   "cell_type": "code",
   "execution_count": 58,
   "metadata": {},
   "outputs": [],
   "source": [
    "y = train['target']"
   ]
  },
  {
   "cell_type": "code",
   "execution_count": 59,
   "metadata": {},
   "outputs": [],
   "source": [
    "x_train, x_valid, y_train, y_valid = train_test_split(word2vec_pretrained_vectors, y, test_size = 0.2)"
   ]
  },
  {
   "cell_type": "markdown",
   "metadata": {},
   "source": [
    "#### KNN "
   ]
  },
  {
   "cell_type": "code",
   "execution_count": 60,
   "metadata": {},
   "outputs": [],
   "source": [
    "knn = KNeighborsClassifier().fit(x_train, y_train)"
   ]
  },
  {
   "cell_type": "code",
   "execution_count": 61,
   "metadata": {},
   "outputs": [
    {
     "name": "stdout",
     "output_type": "stream",
     "text": [
      "KNN: (0.6581510416666667, 0.4923958333333333)\n"
     ]
    }
   ],
   "source": [
    "acc = np.mean(knn.predict(x_train) == y_train)\n",
    "valid_acc = np.mean(knn.predict(x_valid) == y_valid)\n",
    "print(f\"KNN: {acc, valid_acc}\")"
   ]
  },
  {
   "cell_type": "markdown",
   "metadata": {},
   "source": [
    "#### Bayes"
   ]
  },
  {
   "cell_type": "code",
   "execution_count": 62,
   "metadata": {},
   "outputs": [
    {
     "name": "stdout",
     "output_type": "stream",
     "text": [
      "Bayes: (0.36041666666666666, 0.35510416666666667)\n"
     ]
    }
   ],
   "source": [
    "nb = GaussianNB().fit(x_train, y_train)\n",
    "acc = np.mean(nb.predict(x_train) == y_train)\n",
    "valid_acc = np.mean(nb.predict(x_valid) == y_valid)\n",
    "print(f\"Bayes: {acc, valid_acc}\")"
   ]
  },
  {
   "cell_type": "code",
   "execution_count": 64,
   "metadata": {},
   "outputs": [
    {
     "name": "stdout",
     "output_type": "stream",
     "text": [
      "Grid Search: ({'n_neighbors': 19}, 0.66225, 19)\n"
     ]
    }
   ],
   "source": [
    "grid_train = piper\n",
    "grid_valid = train[\"target\"]\n",
    "#param_grid=parameters[clf_name], n_jobs=-1\n",
    "gs = GridSearchCV(knn, param_grid = {\"n_neighbors\": range(1, 20)}, cv=5)\n",
    "gs.fit(grid_train, grid_valid)\n",
    "print(f\"Grid Search: {gs.best_params_, gs.best_score_, gs.best_estimator_.n_neighbors}\")"
   ]
  },
  {
   "cell_type": "markdown",
   "metadata": {},
   "source": [
    "#### KNN with hyperparameters"
   ]
  },
  {
   "cell_type": "code",
   "execution_count": 65,
   "metadata": {},
   "outputs": [
    {
     "name": "stdout",
     "output_type": "stream",
     "text": [
      "KNN: (0.587734375, 0.5165625)\n"
     ]
    }
   ],
   "source": [
    "knn2 = KNeighborsClassifier(n_neighbors = 19).fit(x_train, y_train)\n",
    "acc = np.mean(knn2.predict(x_train) == y_train)\n",
    "valid_acc = np.mean(knn2.predict(x_valid) == y_valid)\n",
    "print(f\"KNN: {acc, valid_acc}\")"
   ]
  },
  {
   "cell_type": "markdown",
   "metadata": {},
   "source": [
    "#### Random Forest"
   ]
  },
  {
   "cell_type": "code",
   "execution_count": 66,
   "metadata": {},
   "outputs": [
    {
     "name": "stdout",
     "output_type": "stream",
     "text": [
      "0.5491666666666667\n"
     ]
    }
   ],
   "source": [
    "rf = RandomForestClassifier(n_estimators=100)\n",
    "\n",
    "rf.fit(x_train, y_train)\n",
    "rf_acc = np.mean(rf.predict(x_valid) == y_valid)\n",
    "print(rf_acc)\n",
    "\n",
    "#rf_test_results = rf.predict(test)\n",
    "#print(rf_test_results)"
   ]
  },
  {
   "cell_type": "markdown",
   "metadata": {},
   "source": [
    "#### Decision Tree"
   ]
  },
  {
   "cell_type": "code",
   "execution_count": 67,
   "metadata": {},
   "outputs": [
    {
     "name": "stdout",
     "output_type": "stream",
     "text": [
      "0.4451041666666667\n"
     ]
    }
   ],
   "source": [
    "#можно добавить max_depth параметр для ограничения глубины\n",
    "dt = DecisionTreeClassifier()\n",
    "\n",
    "dt = dt.fit(x_train,y_train)\n",
    "\n",
    "dt_acc = np.mean(dt.predict(x_valid) == y_valid) \n",
    "print(dt_acc)\n",
    "\n",
    "#dt_test_results = dt.predict(test)\n",
    "#print(clf_test_results)\n",
    "\n",
    "#Отрисовка дерева\n",
    "\n",
    "#from sklearn import tree\n",
    "#tree.plot_tree(dt)"
   ]
  },
  {
   "cell_type": "markdown",
   "metadata": {},
   "source": [
    "#### Ensembles"
   ]
  },
  {
   "cell_type": "markdown",
   "metadata": {},
   "source": [
    "##### AdaBoost"
   ]
  },
  {
   "cell_type": "code",
   "execution_count": 70,
   "metadata": {},
   "outputs": [
    {
     "name": "stdout",
     "output_type": "stream",
     "text": [
      "0.5544791666666666\n"
     ]
    }
   ],
   "source": [
    "# RandomForestClassifier\n",
    "abc = AdaBoostClassifier(base_estimator = rf, n_estimators = 200)\n",
    "abc = abc.fit(x_train, y_train)\n",
    "abc_acc = np.mean(abc.predict(x_valid) == y_valid)\n",
    "print(abc_acc)"
   ]
  },
  {
   "cell_type": "code",
   "execution_count": 71,
   "metadata": {},
   "outputs": [
    {
     "name": "stdout",
     "output_type": "stream",
     "text": [
      "0.4432291666666667\n"
     ]
    }
   ],
   "source": [
    "# Decision Tree\n",
    "abc = AdaBoostClassifier(base_estimator = dt, n_estimators = 200)\n",
    "abc = abc.fit(x_train, y_train)\n",
    "abc_acc = np.mean(abc.predict(x_valid) == y_valid)\n",
    "print(abc_acc)"
   ]
  },
  {
   "cell_type": "markdown",
   "metadata": {},
   "source": [
    "##### Bagged dt"
   ]
  },
  {
   "cell_type": "code",
   "execution_count": 77,
   "metadata": {},
   "outputs": [],
   "source": [
    "bgc = BaggingClassifier(base_estimator=dt, n_estimators=100, random_state=6)"
   ]
  },
  {
   "cell_type": "code",
   "execution_count": 78,
   "metadata": {},
   "outputs": [],
   "source": [
    "bgc = bgc.fit(x_train, y_train)"
   ]
  },
  {
   "cell_type": "code",
   "execution_count": 79,
   "metadata": {},
   "outputs": [
    {
     "name": "stdout",
     "output_type": "stream",
     "text": [
      "0.545\n"
     ]
    }
   ],
   "source": [
    "bgc_acc = np.mean(bgc.predict(x_valid) == y_valid)\n",
    "print(bgc_acc)"
   ]
  },
  {
   "cell_type": "markdown",
   "metadata": {},
   "source": [
    "#### Cross Validation"
   ]
  },
  {
   "cell_type": "markdown",
   "metadata": {},
   "source": [
    "##### ShuffleSplit"
   ]
  },
  {
   "cell_type": "code",
   "execution_count": 82,
   "metadata": {},
   "outputs": [
    {
     "name": "stdout",
     "output_type": "stream",
     "text": [
      "0.5503993055555555\n"
     ]
    }
   ],
   "source": [
    "cvas = ShuffleSplit(n_splits=5, test_size=0.3, random_state=0)\n",
    "result = cross_val_score(bgc, x_train, y_train, cv=cvas)\n",
    "print(result.mean())"
   ]
  },
  {
   "cell_type": "markdown",
   "metadata": {},
   "source": [
    "##### KFOLD"
   ]
  },
  {
   "cell_type": "code",
   "execution_count": 84,
   "metadata": {},
   "outputs": [],
   "source": [
    "kfold = model_selection.KFold(n_splits=10)"
   ]
  },
  {
   "cell_type": "code",
   "execution_count": 85,
   "metadata": {},
   "outputs": [
    {
     "name": "stdout",
     "output_type": "stream",
     "text": [
      "0.5576822916666666\n"
     ]
    }
   ],
   "source": [
    "results = model_selection.cross_val_score(bgc, x_train, y_train, cv=kfold)\n",
    "print(results.mean())"
   ]
  },
  {
   "cell_type": "markdown",
   "metadata": {},
   "source": [
    "### fasttext_pretrained_vectors"
   ]
  },
  {
   "cell_type": "code",
   "execution_count": 88,
   "metadata": {},
   "outputs": [],
   "source": [
    "y = train['target']"
   ]
  },
  {
   "cell_type": "code",
   "execution_count": 89,
   "metadata": {},
   "outputs": [],
   "source": [
    "x_train, x_valid, y_train, y_valid = train_test_split(fasttext_pretrained_vectors, y, test_size = 0.2)"
   ]
  },
  {
   "cell_type": "markdown",
   "metadata": {},
   "source": [
    "#### KNN "
   ]
  },
  {
   "cell_type": "code",
   "execution_count": 90,
   "metadata": {},
   "outputs": [],
   "source": [
    "knn = KNeighborsClassifier().fit(x_train, y_train)"
   ]
  },
  {
   "cell_type": "code",
   "execution_count": 91,
   "metadata": {},
   "outputs": [
    {
     "name": "stdout",
     "output_type": "stream",
     "text": [
      "KNN: (0.7604427083333334, 0.634375)\n"
     ]
    }
   ],
   "source": [
    "acc = np.mean(knn.predict(x_train) == y_train)\n",
    "valid_acc = np.mean(knn.predict(x_valid) == y_valid)\n",
    "print(f\"KNN: {acc, valid_acc}\")"
   ]
  },
  {
   "cell_type": "markdown",
   "metadata": {},
   "source": [
    "#### Bayes"
   ]
  },
  {
   "cell_type": "code",
   "execution_count": 92,
   "metadata": {},
   "outputs": [
    {
     "name": "stdout",
     "output_type": "stream",
     "text": [
      "Bayes: (0.418359375, 0.40729166666666666)\n"
     ]
    }
   ],
   "source": [
    "nb = GaussianNB().fit(x_train, y_train)\n",
    "acc = np.mean(nb.predict(x_train) == y_train)\n",
    "valid_acc = np.mean(nb.predict(x_valid) == y_valid)\n",
    "print(f\"Bayes: {acc, valid_acc}\")"
   ]
  },
  {
   "cell_type": "code",
   "execution_count": 93,
   "metadata": {},
   "outputs": [
    {
     "name": "stdout",
     "output_type": "stream",
     "text": [
      "Grid Search: ({'n_neighbors': 19}, 0.66225, 19)\n"
     ]
    }
   ],
   "source": [
    "grid_train = piper\n",
    "grid_valid = train[\"target\"]\n",
    "#param_grid=parameters[clf_name], n_jobs=-1\n",
    "gs = GridSearchCV(knn, param_grid = {\"n_neighbors\": range(1, 20)}, cv=5)\n",
    "gs.fit(grid_train, grid_valid)\n",
    "print(f\"Grid Search: {gs.best_params_, gs.best_score_, gs.best_estimator_.n_neighbors}\")"
   ]
  },
  {
   "cell_type": "markdown",
   "metadata": {},
   "source": [
    "#### KNN with hyperparameters"
   ]
  },
  {
   "cell_type": "code",
   "execution_count": 94,
   "metadata": {},
   "outputs": [
    {
     "name": "stdout",
     "output_type": "stream",
     "text": [
      "KNN: (0.7065625, 0.661875)\n"
     ]
    }
   ],
   "source": [
    "knn2 = KNeighborsClassifier(n_neighbors = 19).fit(x_train, y_train)\n",
    "acc = np.mean(knn2.predict(x_train) == y_train)\n",
    "valid_acc = np.mean(knn2.predict(x_valid) == y_valid)\n",
    "print(f\"KNN: {acc, valid_acc}\")"
   ]
  },
  {
   "cell_type": "markdown",
   "metadata": {},
   "source": [
    "#### Random Forest"
   ]
  },
  {
   "cell_type": "code",
   "execution_count": 95,
   "metadata": {},
   "outputs": [
    {
     "name": "stdout",
     "output_type": "stream",
     "text": [
      "0.68375\n"
     ]
    }
   ],
   "source": [
    "rf = RandomForestClassifier(n_estimators=100)\n",
    "\n",
    "rf.fit(x_train, y_train)\n",
    "rf_acc = np.mean(rf.predict(x_valid) == y_valid)\n",
    "print(rf_acc)\n",
    "\n",
    "#rf_test_results = rf.predict(test)\n",
    "#print(rf_test_results)"
   ]
  },
  {
   "cell_type": "markdown",
   "metadata": {},
   "source": [
    "#### Decision Tree"
   ]
  },
  {
   "cell_type": "code",
   "execution_count": 96,
   "metadata": {},
   "outputs": [
    {
     "name": "stdout",
     "output_type": "stream",
     "text": [
      "0.5242708333333334\n"
     ]
    }
   ],
   "source": [
    "#можно добавить max_depth параметр для ограничения глубины\n",
    "dt = DecisionTreeClassifier()\n",
    "\n",
    "dt = dt.fit(x_train,y_train)\n",
    "\n",
    "dt_acc = np.mean(dt.predict(x_valid) == y_valid) \n",
    "print(dt_acc)\n",
    "\n",
    "#dt_test_results = dt.predict(test)\n",
    "#print(clf_test_results)\n",
    "\n",
    "#Отрисовка дерева\n",
    "\n",
    "#from sklearn import tree\n",
    "#tree.plot_tree(dt)"
   ]
  },
  {
   "cell_type": "markdown",
   "metadata": {},
   "source": [
    "#### Ensembles "
   ]
  },
  {
   "cell_type": "markdown",
   "metadata": {},
   "source": [
    "##### AdaBoost"
   ]
  },
  {
   "cell_type": "code",
   "execution_count": 98,
   "metadata": {},
   "outputs": [
    {
     "name": "stdout",
     "output_type": "stream",
     "text": [
      "0.68\n"
     ]
    }
   ],
   "source": [
    "# RandomForestClassifier\n",
    "abc = AdaBoostClassifier(base_estimator = rf, n_estimators = 200)\n",
    "abc = abc.fit(x_train, y_train)\n",
    "abc_acc = np.mean(abc.predict(x_valid) == y_valid)\n",
    "print(abc_acc)"
   ]
  },
  {
   "cell_type": "code",
   "execution_count": 99,
   "metadata": {},
   "outputs": [
    {
     "name": "stdout",
     "output_type": "stream",
     "text": [
      "0.520625\n"
     ]
    }
   ],
   "source": [
    "# Decision Tree\n",
    "abc = AdaBoostClassifier(base_estimator = dt, n_estimators = 200)\n",
    "abc = abc.fit(x_train, y_train)\n",
    "abc_acc = np.mean(abc.predict(x_valid) == y_valid)\n",
    "print(abc_acc)"
   ]
  },
  {
   "cell_type": "markdown",
   "metadata": {},
   "source": [
    "##### Bagged dt"
   ]
  },
  {
   "cell_type": "code",
   "execution_count": 101,
   "metadata": {},
   "outputs": [],
   "source": [
    "bgc = BaggingClassifier(base_estimator=dt, n_estimators=100, random_state=6)"
   ]
  },
  {
   "cell_type": "code",
   "execution_count": 102,
   "metadata": {},
   "outputs": [],
   "source": [
    "bgc = bgc.fit(x_train, y_train)"
   ]
  },
  {
   "cell_type": "code",
   "execution_count": 103,
   "metadata": {},
   "outputs": [
    {
     "name": "stdout",
     "output_type": "stream",
     "text": [
      "0.680625\n"
     ]
    }
   ],
   "source": [
    "bgc_acc = np.mean(bgc.predict(x_valid) == y_valid)\n",
    "print(bgc_acc)"
   ]
  },
  {
   "cell_type": "markdown",
   "metadata": {},
   "source": [
    "#### Cross Validation"
   ]
  },
  {
   "cell_type": "markdown",
   "metadata": {},
   "source": [
    "##### ShuffleSplit"
   ]
  },
  {
   "cell_type": "code",
   "execution_count": 105,
   "metadata": {},
   "outputs": [
    {
     "name": "stdout",
     "output_type": "stream",
     "text": [
      "0.6676909722222223\n"
     ]
    }
   ],
   "source": [
    "cvas = ShuffleSplit(n_splits=5, test_size=0.3, random_state=0)\n",
    "result = cross_val_score(bgc, x_train, y_train, cv=cvas)\n",
    "print(result.mean())"
   ]
  },
  {
   "cell_type": "markdown",
   "metadata": {},
   "source": [
    "##### KFOLD"
   ]
  },
  {
   "cell_type": "code",
   "execution_count": 106,
   "metadata": {},
   "outputs": [],
   "source": [
    "from sklearn.model_selection import cross_val_score"
   ]
  },
  {
   "cell_type": "code",
   "execution_count": 107,
   "metadata": {},
   "outputs": [],
   "source": [
    "kfold = model_selection.KFold(n_splits=10)"
   ]
  },
  {
   "cell_type": "code",
   "execution_count": 108,
   "metadata": {},
   "outputs": [
    {
     "ename": "KeyboardInterrupt",
     "evalue": "",
     "output_type": "error",
     "traceback": [
      "\u001b[0;31m---------------------------------------------------------------------------\u001b[0m",
      "\u001b[0;31mKeyboardInterrupt\u001b[0m                         Traceback (most recent call last)",
      "\u001b[0;32m<ipython-input-108-11713abfb701>\u001b[0m in \u001b[0;36m<module>\u001b[0;34m\u001b[0m\n\u001b[0;32m----> 1\u001b[0;31m \u001b[0mresults\u001b[0m \u001b[0;34m=\u001b[0m \u001b[0mmodel_selection\u001b[0m\u001b[0;34m.\u001b[0m\u001b[0mcross_val_score\u001b[0m\u001b[0;34m(\u001b[0m\u001b[0mbgc\u001b[0m\u001b[0;34m,\u001b[0m \u001b[0mx_train\u001b[0m\u001b[0;34m,\u001b[0m \u001b[0my_train\u001b[0m\u001b[0;34m,\u001b[0m \u001b[0mcv\u001b[0m\u001b[0;34m=\u001b[0m\u001b[0mkfold\u001b[0m\u001b[0;34m)\u001b[0m\u001b[0;34m\u001b[0m\u001b[0;34m\u001b[0m\u001b[0m\n\u001b[0m\u001b[1;32m      2\u001b[0m \u001b[0mprint\u001b[0m\u001b[0;34m(\u001b[0m\u001b[0mresults\u001b[0m\u001b[0;34m.\u001b[0m\u001b[0mmean\u001b[0m\u001b[0;34m(\u001b[0m\u001b[0;34m)\u001b[0m\u001b[0;34m)\u001b[0m\u001b[0;34m\u001b[0m\u001b[0;34m\u001b[0m\u001b[0m\n",
      "\u001b[0;32m~/ml/anaconda3/lib/python3.8/site-packages/sklearn/utils/validation.py\u001b[0m in \u001b[0;36minner_f\u001b[0;34m(*args, **kwargs)\u001b[0m\n\u001b[1;32m     70\u001b[0m                           FutureWarning)\n\u001b[1;32m     71\u001b[0m         \u001b[0mkwargs\u001b[0m\u001b[0;34m.\u001b[0m\u001b[0mupdate\u001b[0m\u001b[0;34m(\u001b[0m\u001b[0;34m{\u001b[0m\u001b[0mk\u001b[0m\u001b[0;34m:\u001b[0m \u001b[0marg\u001b[0m \u001b[0;32mfor\u001b[0m \u001b[0mk\u001b[0m\u001b[0;34m,\u001b[0m \u001b[0marg\u001b[0m \u001b[0;32min\u001b[0m \u001b[0mzip\u001b[0m\u001b[0;34m(\u001b[0m\u001b[0msig\u001b[0m\u001b[0;34m.\u001b[0m\u001b[0mparameters\u001b[0m\u001b[0;34m,\u001b[0m \u001b[0margs\u001b[0m\u001b[0;34m)\u001b[0m\u001b[0;34m}\u001b[0m\u001b[0;34m)\u001b[0m\u001b[0;34m\u001b[0m\u001b[0;34m\u001b[0m\u001b[0m\n\u001b[0;32m---> 72\u001b[0;31m         \u001b[0;32mreturn\u001b[0m \u001b[0mf\u001b[0m\u001b[0;34m(\u001b[0m\u001b[0;34m**\u001b[0m\u001b[0mkwargs\u001b[0m\u001b[0;34m)\u001b[0m\u001b[0;34m\u001b[0m\u001b[0;34m\u001b[0m\u001b[0m\n\u001b[0m\u001b[1;32m     73\u001b[0m     \u001b[0;32mreturn\u001b[0m \u001b[0minner_f\u001b[0m\u001b[0;34m\u001b[0m\u001b[0;34m\u001b[0m\u001b[0m\n\u001b[1;32m     74\u001b[0m \u001b[0;34m\u001b[0m\u001b[0m\n",
      "\u001b[0;32m~/ml/anaconda3/lib/python3.8/site-packages/sklearn/model_selection/_validation.py\u001b[0m in \u001b[0;36mcross_val_score\u001b[0;34m(estimator, X, y, groups, scoring, cv, n_jobs, verbose, fit_params, pre_dispatch, error_score)\u001b[0m\n\u001b[1;32m    399\u001b[0m     \u001b[0mscorer\u001b[0m \u001b[0;34m=\u001b[0m \u001b[0mcheck_scoring\u001b[0m\u001b[0;34m(\u001b[0m\u001b[0mestimator\u001b[0m\u001b[0;34m,\u001b[0m \u001b[0mscoring\u001b[0m\u001b[0;34m=\u001b[0m\u001b[0mscoring\u001b[0m\u001b[0;34m)\u001b[0m\u001b[0;34m\u001b[0m\u001b[0;34m\u001b[0m\u001b[0m\n\u001b[1;32m    400\u001b[0m \u001b[0;34m\u001b[0m\u001b[0m\n\u001b[0;32m--> 401\u001b[0;31m     cv_results = cross_validate(estimator=estimator, X=X, y=y, groups=groups,\n\u001b[0m\u001b[1;32m    402\u001b[0m                                 \u001b[0mscoring\u001b[0m\u001b[0;34m=\u001b[0m\u001b[0;34m{\u001b[0m\u001b[0;34m'score'\u001b[0m\u001b[0;34m:\u001b[0m \u001b[0mscorer\u001b[0m\u001b[0;34m}\u001b[0m\u001b[0;34m,\u001b[0m \u001b[0mcv\u001b[0m\u001b[0;34m=\u001b[0m\u001b[0mcv\u001b[0m\u001b[0;34m,\u001b[0m\u001b[0;34m\u001b[0m\u001b[0;34m\u001b[0m\u001b[0m\n\u001b[1;32m    403\u001b[0m                                 \u001b[0mn_jobs\u001b[0m\u001b[0;34m=\u001b[0m\u001b[0mn_jobs\u001b[0m\u001b[0;34m,\u001b[0m \u001b[0mverbose\u001b[0m\u001b[0;34m=\u001b[0m\u001b[0mverbose\u001b[0m\u001b[0;34m,\u001b[0m\u001b[0;34m\u001b[0m\u001b[0;34m\u001b[0m\u001b[0m\n",
      "\u001b[0;32m~/ml/anaconda3/lib/python3.8/site-packages/sklearn/utils/validation.py\u001b[0m in \u001b[0;36minner_f\u001b[0;34m(*args, **kwargs)\u001b[0m\n\u001b[1;32m     70\u001b[0m                           FutureWarning)\n\u001b[1;32m     71\u001b[0m         \u001b[0mkwargs\u001b[0m\u001b[0;34m.\u001b[0m\u001b[0mupdate\u001b[0m\u001b[0;34m(\u001b[0m\u001b[0;34m{\u001b[0m\u001b[0mk\u001b[0m\u001b[0;34m:\u001b[0m \u001b[0marg\u001b[0m \u001b[0;32mfor\u001b[0m \u001b[0mk\u001b[0m\u001b[0;34m,\u001b[0m \u001b[0marg\u001b[0m \u001b[0;32min\u001b[0m \u001b[0mzip\u001b[0m\u001b[0;34m(\u001b[0m\u001b[0msig\u001b[0m\u001b[0;34m.\u001b[0m\u001b[0mparameters\u001b[0m\u001b[0;34m,\u001b[0m \u001b[0margs\u001b[0m\u001b[0;34m)\u001b[0m\u001b[0;34m}\u001b[0m\u001b[0;34m)\u001b[0m\u001b[0;34m\u001b[0m\u001b[0;34m\u001b[0m\u001b[0m\n\u001b[0;32m---> 72\u001b[0;31m         \u001b[0;32mreturn\u001b[0m \u001b[0mf\u001b[0m\u001b[0;34m(\u001b[0m\u001b[0;34m**\u001b[0m\u001b[0mkwargs\u001b[0m\u001b[0;34m)\u001b[0m\u001b[0;34m\u001b[0m\u001b[0;34m\u001b[0m\u001b[0m\n\u001b[0m\u001b[1;32m     73\u001b[0m     \u001b[0;32mreturn\u001b[0m \u001b[0minner_f\u001b[0m\u001b[0;34m\u001b[0m\u001b[0;34m\u001b[0m\u001b[0m\n\u001b[1;32m     74\u001b[0m \u001b[0;34m\u001b[0m\u001b[0m\n",
      "\u001b[0;32m~/ml/anaconda3/lib/python3.8/site-packages/sklearn/model_selection/_validation.py\u001b[0m in \u001b[0;36mcross_validate\u001b[0;34m(estimator, X, y, groups, scoring, cv, n_jobs, verbose, fit_params, pre_dispatch, return_train_score, return_estimator, error_score)\u001b[0m\n\u001b[1;32m    240\u001b[0m     parallel = Parallel(n_jobs=n_jobs, verbose=verbose,\n\u001b[1;32m    241\u001b[0m                         pre_dispatch=pre_dispatch)\n\u001b[0;32m--> 242\u001b[0;31m     scores = parallel(\n\u001b[0m\u001b[1;32m    243\u001b[0m         delayed(_fit_and_score)(\n\u001b[1;32m    244\u001b[0m             \u001b[0mclone\u001b[0m\u001b[0;34m(\u001b[0m\u001b[0mestimator\u001b[0m\u001b[0;34m)\u001b[0m\u001b[0;34m,\u001b[0m \u001b[0mX\u001b[0m\u001b[0;34m,\u001b[0m \u001b[0my\u001b[0m\u001b[0;34m,\u001b[0m \u001b[0mscorers\u001b[0m\u001b[0;34m,\u001b[0m \u001b[0mtrain\u001b[0m\u001b[0;34m,\u001b[0m \u001b[0mtest\u001b[0m\u001b[0;34m,\u001b[0m \u001b[0mverbose\u001b[0m\u001b[0;34m,\u001b[0m \u001b[0;32mNone\u001b[0m\u001b[0;34m,\u001b[0m\u001b[0;34m\u001b[0m\u001b[0;34m\u001b[0m\u001b[0m\n",
      "\u001b[0;32m~/ml/anaconda3/lib/python3.8/site-packages/joblib/parallel.py\u001b[0m in \u001b[0;36m__call__\u001b[0;34m(self, iterable)\u001b[0m\n\u001b[1;32m   1030\u001b[0m                 \u001b[0mself\u001b[0m\u001b[0;34m.\u001b[0m\u001b[0m_iterating\u001b[0m \u001b[0;34m=\u001b[0m \u001b[0mself\u001b[0m\u001b[0;34m.\u001b[0m\u001b[0m_original_iterator\u001b[0m \u001b[0;32mis\u001b[0m \u001b[0;32mnot\u001b[0m \u001b[0;32mNone\u001b[0m\u001b[0;34m\u001b[0m\u001b[0;34m\u001b[0m\u001b[0m\n\u001b[1;32m   1031\u001b[0m \u001b[0;34m\u001b[0m\u001b[0m\n\u001b[0;32m-> 1032\u001b[0;31m             \u001b[0;32mwhile\u001b[0m \u001b[0mself\u001b[0m\u001b[0;34m.\u001b[0m\u001b[0mdispatch_one_batch\u001b[0m\u001b[0;34m(\u001b[0m\u001b[0miterator\u001b[0m\u001b[0;34m)\u001b[0m\u001b[0;34m:\u001b[0m\u001b[0;34m\u001b[0m\u001b[0;34m\u001b[0m\u001b[0m\n\u001b[0m\u001b[1;32m   1033\u001b[0m                 \u001b[0;32mpass\u001b[0m\u001b[0;34m\u001b[0m\u001b[0;34m\u001b[0m\u001b[0m\n\u001b[1;32m   1034\u001b[0m \u001b[0;34m\u001b[0m\u001b[0m\n",
      "\u001b[0;32m~/ml/anaconda3/lib/python3.8/site-packages/joblib/parallel.py\u001b[0m in \u001b[0;36mdispatch_one_batch\u001b[0;34m(self, iterator)\u001b[0m\n\u001b[1;32m    845\u001b[0m                 \u001b[0;32mreturn\u001b[0m \u001b[0;32mFalse\u001b[0m\u001b[0;34m\u001b[0m\u001b[0;34m\u001b[0m\u001b[0m\n\u001b[1;32m    846\u001b[0m             \u001b[0;32melse\u001b[0m\u001b[0;34m:\u001b[0m\u001b[0;34m\u001b[0m\u001b[0;34m\u001b[0m\u001b[0m\n\u001b[0;32m--> 847\u001b[0;31m                 \u001b[0mself\u001b[0m\u001b[0;34m.\u001b[0m\u001b[0m_dispatch\u001b[0m\u001b[0;34m(\u001b[0m\u001b[0mtasks\u001b[0m\u001b[0;34m)\u001b[0m\u001b[0;34m\u001b[0m\u001b[0;34m\u001b[0m\u001b[0m\n\u001b[0m\u001b[1;32m    848\u001b[0m                 \u001b[0;32mreturn\u001b[0m \u001b[0;32mTrue\u001b[0m\u001b[0;34m\u001b[0m\u001b[0;34m\u001b[0m\u001b[0m\n\u001b[1;32m    849\u001b[0m \u001b[0;34m\u001b[0m\u001b[0m\n",
      "\u001b[0;32m~/ml/anaconda3/lib/python3.8/site-packages/joblib/parallel.py\u001b[0m in \u001b[0;36m_dispatch\u001b[0;34m(self, batch)\u001b[0m\n\u001b[1;32m    763\u001b[0m         \u001b[0;32mwith\u001b[0m \u001b[0mself\u001b[0m\u001b[0;34m.\u001b[0m\u001b[0m_lock\u001b[0m\u001b[0;34m:\u001b[0m\u001b[0;34m\u001b[0m\u001b[0;34m\u001b[0m\u001b[0m\n\u001b[1;32m    764\u001b[0m             \u001b[0mjob_idx\u001b[0m \u001b[0;34m=\u001b[0m \u001b[0mlen\u001b[0m\u001b[0;34m(\u001b[0m\u001b[0mself\u001b[0m\u001b[0;34m.\u001b[0m\u001b[0m_jobs\u001b[0m\u001b[0;34m)\u001b[0m\u001b[0;34m\u001b[0m\u001b[0;34m\u001b[0m\u001b[0m\n\u001b[0;32m--> 765\u001b[0;31m             \u001b[0mjob\u001b[0m \u001b[0;34m=\u001b[0m \u001b[0mself\u001b[0m\u001b[0;34m.\u001b[0m\u001b[0m_backend\u001b[0m\u001b[0;34m.\u001b[0m\u001b[0mapply_async\u001b[0m\u001b[0;34m(\u001b[0m\u001b[0mbatch\u001b[0m\u001b[0;34m,\u001b[0m \u001b[0mcallback\u001b[0m\u001b[0;34m=\u001b[0m\u001b[0mcb\u001b[0m\u001b[0;34m)\u001b[0m\u001b[0;34m\u001b[0m\u001b[0;34m\u001b[0m\u001b[0m\n\u001b[0m\u001b[1;32m    766\u001b[0m             \u001b[0;31m# A job can complete so quickly than its callback is\u001b[0m\u001b[0;34m\u001b[0m\u001b[0;34m\u001b[0m\u001b[0;34m\u001b[0m\u001b[0m\n\u001b[1;32m    767\u001b[0m             \u001b[0;31m# called before we get here, causing self._jobs to\u001b[0m\u001b[0;34m\u001b[0m\u001b[0;34m\u001b[0m\u001b[0;34m\u001b[0m\u001b[0m\n",
      "\u001b[0;32m~/ml/anaconda3/lib/python3.8/site-packages/joblib/_parallel_backends.py\u001b[0m in \u001b[0;36mapply_async\u001b[0;34m(self, func, callback)\u001b[0m\n\u001b[1;32m    206\u001b[0m     \u001b[0;32mdef\u001b[0m \u001b[0mapply_async\u001b[0m\u001b[0;34m(\u001b[0m\u001b[0mself\u001b[0m\u001b[0;34m,\u001b[0m \u001b[0mfunc\u001b[0m\u001b[0;34m,\u001b[0m \u001b[0mcallback\u001b[0m\u001b[0;34m=\u001b[0m\u001b[0;32mNone\u001b[0m\u001b[0;34m)\u001b[0m\u001b[0;34m:\u001b[0m\u001b[0;34m\u001b[0m\u001b[0;34m\u001b[0m\u001b[0m\n\u001b[1;32m    207\u001b[0m         \u001b[0;34m\"\"\"Schedule a func to be run\"\"\"\u001b[0m\u001b[0;34m\u001b[0m\u001b[0;34m\u001b[0m\u001b[0m\n\u001b[0;32m--> 208\u001b[0;31m         \u001b[0mresult\u001b[0m \u001b[0;34m=\u001b[0m \u001b[0mImmediateResult\u001b[0m\u001b[0;34m(\u001b[0m\u001b[0mfunc\u001b[0m\u001b[0;34m)\u001b[0m\u001b[0;34m\u001b[0m\u001b[0;34m\u001b[0m\u001b[0m\n\u001b[0m\u001b[1;32m    209\u001b[0m         \u001b[0;32mif\u001b[0m \u001b[0mcallback\u001b[0m\u001b[0;34m:\u001b[0m\u001b[0;34m\u001b[0m\u001b[0;34m\u001b[0m\u001b[0m\n\u001b[1;32m    210\u001b[0m             \u001b[0mcallback\u001b[0m\u001b[0;34m(\u001b[0m\u001b[0mresult\u001b[0m\u001b[0;34m)\u001b[0m\u001b[0;34m\u001b[0m\u001b[0;34m\u001b[0m\u001b[0m\n",
      "\u001b[0;32m~/ml/anaconda3/lib/python3.8/site-packages/joblib/_parallel_backends.py\u001b[0m in \u001b[0;36m__init__\u001b[0;34m(self, batch)\u001b[0m\n\u001b[1;32m    570\u001b[0m         \u001b[0;31m# Don't delay the application, to avoid keeping the input\u001b[0m\u001b[0;34m\u001b[0m\u001b[0;34m\u001b[0m\u001b[0;34m\u001b[0m\u001b[0m\n\u001b[1;32m    571\u001b[0m         \u001b[0;31m# arguments in memory\u001b[0m\u001b[0;34m\u001b[0m\u001b[0;34m\u001b[0m\u001b[0;34m\u001b[0m\u001b[0m\n\u001b[0;32m--> 572\u001b[0;31m         \u001b[0mself\u001b[0m\u001b[0;34m.\u001b[0m\u001b[0mresults\u001b[0m \u001b[0;34m=\u001b[0m \u001b[0mbatch\u001b[0m\u001b[0;34m(\u001b[0m\u001b[0;34m)\u001b[0m\u001b[0;34m\u001b[0m\u001b[0;34m\u001b[0m\u001b[0m\n\u001b[0m\u001b[1;32m    573\u001b[0m \u001b[0;34m\u001b[0m\u001b[0m\n\u001b[1;32m    574\u001b[0m     \u001b[0;32mdef\u001b[0m \u001b[0mget\u001b[0m\u001b[0;34m(\u001b[0m\u001b[0mself\u001b[0m\u001b[0;34m)\u001b[0m\u001b[0;34m:\u001b[0m\u001b[0;34m\u001b[0m\u001b[0;34m\u001b[0m\u001b[0m\n",
      "\u001b[0;32m~/ml/anaconda3/lib/python3.8/site-packages/joblib/parallel.py\u001b[0m in \u001b[0;36m__call__\u001b[0;34m(self)\u001b[0m\n\u001b[1;32m    250\u001b[0m         \u001b[0;31m# change the default number of processes to -1\u001b[0m\u001b[0;34m\u001b[0m\u001b[0;34m\u001b[0m\u001b[0;34m\u001b[0m\u001b[0m\n\u001b[1;32m    251\u001b[0m         \u001b[0;32mwith\u001b[0m \u001b[0mparallel_backend\u001b[0m\u001b[0;34m(\u001b[0m\u001b[0mself\u001b[0m\u001b[0;34m.\u001b[0m\u001b[0m_backend\u001b[0m\u001b[0;34m,\u001b[0m \u001b[0mn_jobs\u001b[0m\u001b[0;34m=\u001b[0m\u001b[0mself\u001b[0m\u001b[0;34m.\u001b[0m\u001b[0m_n_jobs\u001b[0m\u001b[0;34m)\u001b[0m\u001b[0;34m:\u001b[0m\u001b[0;34m\u001b[0m\u001b[0;34m\u001b[0m\u001b[0m\n\u001b[0;32m--> 252\u001b[0;31m             return [func(*args, **kwargs)\n\u001b[0m\u001b[1;32m    253\u001b[0m                     for func, args, kwargs in self.items]\n\u001b[1;32m    254\u001b[0m \u001b[0;34m\u001b[0m\u001b[0m\n",
      "\u001b[0;32m~/ml/anaconda3/lib/python3.8/site-packages/joblib/parallel.py\u001b[0m in \u001b[0;36m<listcomp>\u001b[0;34m(.0)\u001b[0m\n\u001b[1;32m    250\u001b[0m         \u001b[0;31m# change the default number of processes to -1\u001b[0m\u001b[0;34m\u001b[0m\u001b[0;34m\u001b[0m\u001b[0;34m\u001b[0m\u001b[0m\n\u001b[1;32m    251\u001b[0m         \u001b[0;32mwith\u001b[0m \u001b[0mparallel_backend\u001b[0m\u001b[0;34m(\u001b[0m\u001b[0mself\u001b[0m\u001b[0;34m.\u001b[0m\u001b[0m_backend\u001b[0m\u001b[0;34m,\u001b[0m \u001b[0mn_jobs\u001b[0m\u001b[0;34m=\u001b[0m\u001b[0mself\u001b[0m\u001b[0;34m.\u001b[0m\u001b[0m_n_jobs\u001b[0m\u001b[0;34m)\u001b[0m\u001b[0;34m:\u001b[0m\u001b[0;34m\u001b[0m\u001b[0;34m\u001b[0m\u001b[0m\n\u001b[0;32m--> 252\u001b[0;31m             return [func(*args, **kwargs)\n\u001b[0m\u001b[1;32m    253\u001b[0m                     for func, args, kwargs in self.items]\n\u001b[1;32m    254\u001b[0m \u001b[0;34m\u001b[0m\u001b[0m\n",
      "\u001b[0;32m~/ml/anaconda3/lib/python3.8/site-packages/sklearn/model_selection/_validation.py\u001b[0m in \u001b[0;36m_fit_and_score\u001b[0;34m(estimator, X, y, scorer, train, test, verbose, parameters, fit_params, return_train_score, return_parameters, return_n_test_samples, return_times, return_estimator, error_score)\u001b[0m\n\u001b[1;32m    529\u001b[0m             \u001b[0mestimator\u001b[0m\u001b[0;34m.\u001b[0m\u001b[0mfit\u001b[0m\u001b[0;34m(\u001b[0m\u001b[0mX_train\u001b[0m\u001b[0;34m,\u001b[0m \u001b[0;34m**\u001b[0m\u001b[0mfit_params\u001b[0m\u001b[0;34m)\u001b[0m\u001b[0;34m\u001b[0m\u001b[0;34m\u001b[0m\u001b[0m\n\u001b[1;32m    530\u001b[0m         \u001b[0;32melse\u001b[0m\u001b[0;34m:\u001b[0m\u001b[0;34m\u001b[0m\u001b[0;34m\u001b[0m\u001b[0m\n\u001b[0;32m--> 531\u001b[0;31m             \u001b[0mestimator\u001b[0m\u001b[0;34m.\u001b[0m\u001b[0mfit\u001b[0m\u001b[0;34m(\u001b[0m\u001b[0mX_train\u001b[0m\u001b[0;34m,\u001b[0m \u001b[0my_train\u001b[0m\u001b[0;34m,\u001b[0m \u001b[0;34m**\u001b[0m\u001b[0mfit_params\u001b[0m\u001b[0;34m)\u001b[0m\u001b[0;34m\u001b[0m\u001b[0;34m\u001b[0m\u001b[0m\n\u001b[0m\u001b[1;32m    532\u001b[0m \u001b[0;34m\u001b[0m\u001b[0m\n\u001b[1;32m    533\u001b[0m     \u001b[0;32mexcept\u001b[0m \u001b[0mException\u001b[0m \u001b[0;32mas\u001b[0m \u001b[0me\u001b[0m\u001b[0;34m:\u001b[0m\u001b[0;34m\u001b[0m\u001b[0;34m\u001b[0m\u001b[0m\n",
      "\u001b[0;32m~/ml/anaconda3/lib/python3.8/site-packages/sklearn/ensemble/_bagging.py\u001b[0m in \u001b[0;36mfit\u001b[0;34m(self, X, y, sample_weight)\u001b[0m\n\u001b[1;32m    241\u001b[0m         \u001b[0mself\u001b[0m \u001b[0;34m:\u001b[0m \u001b[0mobject\u001b[0m\u001b[0;34m\u001b[0m\u001b[0;34m\u001b[0m\u001b[0m\n\u001b[1;32m    242\u001b[0m         \"\"\"\n\u001b[0;32m--> 243\u001b[0;31m         \u001b[0;32mreturn\u001b[0m \u001b[0mself\u001b[0m\u001b[0;34m.\u001b[0m\u001b[0m_fit\u001b[0m\u001b[0;34m(\u001b[0m\u001b[0mX\u001b[0m\u001b[0;34m,\u001b[0m \u001b[0my\u001b[0m\u001b[0;34m,\u001b[0m \u001b[0mself\u001b[0m\u001b[0;34m.\u001b[0m\u001b[0mmax_samples\u001b[0m\u001b[0;34m,\u001b[0m \u001b[0msample_weight\u001b[0m\u001b[0;34m=\u001b[0m\u001b[0msample_weight\u001b[0m\u001b[0;34m)\u001b[0m\u001b[0;34m\u001b[0m\u001b[0;34m\u001b[0m\u001b[0m\n\u001b[0m\u001b[1;32m    244\u001b[0m \u001b[0;34m\u001b[0m\u001b[0m\n\u001b[1;32m    245\u001b[0m     \u001b[0;32mdef\u001b[0m \u001b[0m_parallel_args\u001b[0m\u001b[0;34m(\u001b[0m\u001b[0mself\u001b[0m\u001b[0;34m)\u001b[0m\u001b[0;34m:\u001b[0m\u001b[0;34m\u001b[0m\u001b[0;34m\u001b[0m\u001b[0m\n",
      "\u001b[0;32m~/ml/anaconda3/lib/python3.8/site-packages/sklearn/ensemble/_bagging.py\u001b[0m in \u001b[0;36m_fit\u001b[0;34m(self, X, y, max_samples, max_depth, sample_weight)\u001b[0m\n\u001b[1;32m    367\u001b[0m         \u001b[0mself\u001b[0m\u001b[0;34m.\u001b[0m\u001b[0m_seeds\u001b[0m \u001b[0;34m=\u001b[0m \u001b[0mseeds\u001b[0m\u001b[0;34m\u001b[0m\u001b[0;34m\u001b[0m\u001b[0m\n\u001b[1;32m    368\u001b[0m \u001b[0;34m\u001b[0m\u001b[0m\n\u001b[0;32m--> 369\u001b[0;31m         all_results = Parallel(n_jobs=n_jobs, verbose=self.verbose,\n\u001b[0m\u001b[1;32m    370\u001b[0m                                \u001b[0;34m**\u001b[0m\u001b[0mself\u001b[0m\u001b[0;34m.\u001b[0m\u001b[0m_parallel_args\u001b[0m\u001b[0;34m(\u001b[0m\u001b[0;34m)\u001b[0m\u001b[0;34m)\u001b[0m\u001b[0;34m(\u001b[0m\u001b[0;34m\u001b[0m\u001b[0;34m\u001b[0m\u001b[0m\n\u001b[1;32m    371\u001b[0m             delayed(_parallel_build_estimators)(\n",
      "\u001b[0;32m~/ml/anaconda3/lib/python3.8/site-packages/joblib/parallel.py\u001b[0m in \u001b[0;36m__call__\u001b[0;34m(self, iterable)\u001b[0m\n\u001b[1;32m   1027\u001b[0m             \u001b[0;31m# remaining jobs.\u001b[0m\u001b[0;34m\u001b[0m\u001b[0;34m\u001b[0m\u001b[0;34m\u001b[0m\u001b[0m\n\u001b[1;32m   1028\u001b[0m             \u001b[0mself\u001b[0m\u001b[0;34m.\u001b[0m\u001b[0m_iterating\u001b[0m \u001b[0;34m=\u001b[0m \u001b[0;32mFalse\u001b[0m\u001b[0;34m\u001b[0m\u001b[0;34m\u001b[0m\u001b[0m\n\u001b[0;32m-> 1029\u001b[0;31m             \u001b[0;32mif\u001b[0m \u001b[0mself\u001b[0m\u001b[0;34m.\u001b[0m\u001b[0mdispatch_one_batch\u001b[0m\u001b[0;34m(\u001b[0m\u001b[0miterator\u001b[0m\u001b[0;34m)\u001b[0m\u001b[0;34m:\u001b[0m\u001b[0;34m\u001b[0m\u001b[0;34m\u001b[0m\u001b[0m\n\u001b[0m\u001b[1;32m   1030\u001b[0m                 \u001b[0mself\u001b[0m\u001b[0;34m.\u001b[0m\u001b[0m_iterating\u001b[0m \u001b[0;34m=\u001b[0m \u001b[0mself\u001b[0m\u001b[0;34m.\u001b[0m\u001b[0m_original_iterator\u001b[0m \u001b[0;32mis\u001b[0m \u001b[0;32mnot\u001b[0m \u001b[0;32mNone\u001b[0m\u001b[0;34m\u001b[0m\u001b[0;34m\u001b[0m\u001b[0m\n\u001b[1;32m   1031\u001b[0m \u001b[0;34m\u001b[0m\u001b[0m\n",
      "\u001b[0;32m~/ml/anaconda3/lib/python3.8/site-packages/joblib/parallel.py\u001b[0m in \u001b[0;36mdispatch_one_batch\u001b[0;34m(self, iterator)\u001b[0m\n\u001b[1;32m    845\u001b[0m                 \u001b[0;32mreturn\u001b[0m \u001b[0;32mFalse\u001b[0m\u001b[0;34m\u001b[0m\u001b[0;34m\u001b[0m\u001b[0m\n\u001b[1;32m    846\u001b[0m             \u001b[0;32melse\u001b[0m\u001b[0;34m:\u001b[0m\u001b[0;34m\u001b[0m\u001b[0;34m\u001b[0m\u001b[0m\n\u001b[0;32m--> 847\u001b[0;31m                 \u001b[0mself\u001b[0m\u001b[0;34m.\u001b[0m\u001b[0m_dispatch\u001b[0m\u001b[0;34m(\u001b[0m\u001b[0mtasks\u001b[0m\u001b[0;34m)\u001b[0m\u001b[0;34m\u001b[0m\u001b[0;34m\u001b[0m\u001b[0m\n\u001b[0m\u001b[1;32m    848\u001b[0m                 \u001b[0;32mreturn\u001b[0m \u001b[0;32mTrue\u001b[0m\u001b[0;34m\u001b[0m\u001b[0;34m\u001b[0m\u001b[0m\n\u001b[1;32m    849\u001b[0m \u001b[0;34m\u001b[0m\u001b[0m\n",
      "\u001b[0;32m~/ml/anaconda3/lib/python3.8/site-packages/joblib/parallel.py\u001b[0m in \u001b[0;36m_dispatch\u001b[0;34m(self, batch)\u001b[0m\n\u001b[1;32m    763\u001b[0m         \u001b[0;32mwith\u001b[0m \u001b[0mself\u001b[0m\u001b[0;34m.\u001b[0m\u001b[0m_lock\u001b[0m\u001b[0;34m:\u001b[0m\u001b[0;34m\u001b[0m\u001b[0;34m\u001b[0m\u001b[0m\n\u001b[1;32m    764\u001b[0m             \u001b[0mjob_idx\u001b[0m \u001b[0;34m=\u001b[0m \u001b[0mlen\u001b[0m\u001b[0;34m(\u001b[0m\u001b[0mself\u001b[0m\u001b[0;34m.\u001b[0m\u001b[0m_jobs\u001b[0m\u001b[0;34m)\u001b[0m\u001b[0;34m\u001b[0m\u001b[0;34m\u001b[0m\u001b[0m\n\u001b[0;32m--> 765\u001b[0;31m             \u001b[0mjob\u001b[0m \u001b[0;34m=\u001b[0m \u001b[0mself\u001b[0m\u001b[0;34m.\u001b[0m\u001b[0m_backend\u001b[0m\u001b[0;34m.\u001b[0m\u001b[0mapply_async\u001b[0m\u001b[0;34m(\u001b[0m\u001b[0mbatch\u001b[0m\u001b[0;34m,\u001b[0m \u001b[0mcallback\u001b[0m\u001b[0;34m=\u001b[0m\u001b[0mcb\u001b[0m\u001b[0;34m)\u001b[0m\u001b[0;34m\u001b[0m\u001b[0;34m\u001b[0m\u001b[0m\n\u001b[0m\u001b[1;32m    766\u001b[0m             \u001b[0;31m# A job can complete so quickly than its callback is\u001b[0m\u001b[0;34m\u001b[0m\u001b[0;34m\u001b[0m\u001b[0;34m\u001b[0m\u001b[0m\n\u001b[1;32m    767\u001b[0m             \u001b[0;31m# called before we get here, causing self._jobs to\u001b[0m\u001b[0;34m\u001b[0m\u001b[0;34m\u001b[0m\u001b[0;34m\u001b[0m\u001b[0m\n",
      "\u001b[0;32m~/ml/anaconda3/lib/python3.8/site-packages/joblib/_parallel_backends.py\u001b[0m in \u001b[0;36mapply_async\u001b[0;34m(self, func, callback)\u001b[0m\n\u001b[1;32m    206\u001b[0m     \u001b[0;32mdef\u001b[0m \u001b[0mapply_async\u001b[0m\u001b[0;34m(\u001b[0m\u001b[0mself\u001b[0m\u001b[0;34m,\u001b[0m \u001b[0mfunc\u001b[0m\u001b[0;34m,\u001b[0m \u001b[0mcallback\u001b[0m\u001b[0;34m=\u001b[0m\u001b[0;32mNone\u001b[0m\u001b[0;34m)\u001b[0m\u001b[0;34m:\u001b[0m\u001b[0;34m\u001b[0m\u001b[0;34m\u001b[0m\u001b[0m\n\u001b[1;32m    207\u001b[0m         \u001b[0;34m\"\"\"Schedule a func to be run\"\"\"\u001b[0m\u001b[0;34m\u001b[0m\u001b[0;34m\u001b[0m\u001b[0m\n\u001b[0;32m--> 208\u001b[0;31m         \u001b[0mresult\u001b[0m \u001b[0;34m=\u001b[0m \u001b[0mImmediateResult\u001b[0m\u001b[0;34m(\u001b[0m\u001b[0mfunc\u001b[0m\u001b[0;34m)\u001b[0m\u001b[0;34m\u001b[0m\u001b[0;34m\u001b[0m\u001b[0m\n\u001b[0m\u001b[1;32m    209\u001b[0m         \u001b[0;32mif\u001b[0m \u001b[0mcallback\u001b[0m\u001b[0;34m:\u001b[0m\u001b[0;34m\u001b[0m\u001b[0;34m\u001b[0m\u001b[0m\n\u001b[1;32m    210\u001b[0m             \u001b[0mcallback\u001b[0m\u001b[0;34m(\u001b[0m\u001b[0mresult\u001b[0m\u001b[0;34m)\u001b[0m\u001b[0;34m\u001b[0m\u001b[0;34m\u001b[0m\u001b[0m\n",
      "\u001b[0;32m~/ml/anaconda3/lib/python3.8/site-packages/joblib/_parallel_backends.py\u001b[0m in \u001b[0;36m__init__\u001b[0;34m(self, batch)\u001b[0m\n\u001b[1;32m    570\u001b[0m         \u001b[0;31m# Don't delay the application, to avoid keeping the input\u001b[0m\u001b[0;34m\u001b[0m\u001b[0;34m\u001b[0m\u001b[0;34m\u001b[0m\u001b[0m\n\u001b[1;32m    571\u001b[0m         \u001b[0;31m# arguments in memory\u001b[0m\u001b[0;34m\u001b[0m\u001b[0;34m\u001b[0m\u001b[0;34m\u001b[0m\u001b[0m\n\u001b[0;32m--> 572\u001b[0;31m         \u001b[0mself\u001b[0m\u001b[0;34m.\u001b[0m\u001b[0mresults\u001b[0m \u001b[0;34m=\u001b[0m \u001b[0mbatch\u001b[0m\u001b[0;34m(\u001b[0m\u001b[0;34m)\u001b[0m\u001b[0;34m\u001b[0m\u001b[0;34m\u001b[0m\u001b[0m\n\u001b[0m\u001b[1;32m    573\u001b[0m \u001b[0;34m\u001b[0m\u001b[0m\n\u001b[1;32m    574\u001b[0m     \u001b[0;32mdef\u001b[0m \u001b[0mget\u001b[0m\u001b[0;34m(\u001b[0m\u001b[0mself\u001b[0m\u001b[0;34m)\u001b[0m\u001b[0;34m:\u001b[0m\u001b[0;34m\u001b[0m\u001b[0;34m\u001b[0m\u001b[0m\n",
      "\u001b[0;32m~/ml/anaconda3/lib/python3.8/site-packages/joblib/parallel.py\u001b[0m in \u001b[0;36m__call__\u001b[0;34m(self)\u001b[0m\n\u001b[1;32m    250\u001b[0m         \u001b[0;31m# change the default number of processes to -1\u001b[0m\u001b[0;34m\u001b[0m\u001b[0;34m\u001b[0m\u001b[0;34m\u001b[0m\u001b[0m\n\u001b[1;32m    251\u001b[0m         \u001b[0;32mwith\u001b[0m \u001b[0mparallel_backend\u001b[0m\u001b[0;34m(\u001b[0m\u001b[0mself\u001b[0m\u001b[0;34m.\u001b[0m\u001b[0m_backend\u001b[0m\u001b[0;34m,\u001b[0m \u001b[0mn_jobs\u001b[0m\u001b[0;34m=\u001b[0m\u001b[0mself\u001b[0m\u001b[0;34m.\u001b[0m\u001b[0m_n_jobs\u001b[0m\u001b[0;34m)\u001b[0m\u001b[0;34m:\u001b[0m\u001b[0;34m\u001b[0m\u001b[0;34m\u001b[0m\u001b[0m\n\u001b[0;32m--> 252\u001b[0;31m             return [func(*args, **kwargs)\n\u001b[0m\u001b[1;32m    253\u001b[0m                     for func, args, kwargs in self.items]\n\u001b[1;32m    254\u001b[0m \u001b[0;34m\u001b[0m\u001b[0m\n",
      "\u001b[0;32m~/ml/anaconda3/lib/python3.8/site-packages/joblib/parallel.py\u001b[0m in \u001b[0;36m<listcomp>\u001b[0;34m(.0)\u001b[0m\n\u001b[1;32m    250\u001b[0m         \u001b[0;31m# change the default number of processes to -1\u001b[0m\u001b[0;34m\u001b[0m\u001b[0;34m\u001b[0m\u001b[0;34m\u001b[0m\u001b[0m\n\u001b[1;32m    251\u001b[0m         \u001b[0;32mwith\u001b[0m \u001b[0mparallel_backend\u001b[0m\u001b[0;34m(\u001b[0m\u001b[0mself\u001b[0m\u001b[0;34m.\u001b[0m\u001b[0m_backend\u001b[0m\u001b[0;34m,\u001b[0m \u001b[0mn_jobs\u001b[0m\u001b[0;34m=\u001b[0m\u001b[0mself\u001b[0m\u001b[0;34m.\u001b[0m\u001b[0m_n_jobs\u001b[0m\u001b[0;34m)\u001b[0m\u001b[0;34m:\u001b[0m\u001b[0;34m\u001b[0m\u001b[0;34m\u001b[0m\u001b[0m\n\u001b[0;32m--> 252\u001b[0;31m             return [func(*args, **kwargs)\n\u001b[0m\u001b[1;32m    253\u001b[0m                     for func, args, kwargs in self.items]\n\u001b[1;32m    254\u001b[0m \u001b[0;34m\u001b[0m\u001b[0m\n",
      "\u001b[0;32m~/ml/anaconda3/lib/python3.8/site-packages/sklearn/ensemble/_bagging.py\u001b[0m in \u001b[0;36m_parallel_build_estimators\u001b[0;34m(n_estimators, ensemble, X, y, sample_weight, seeds, total_n_estimators, verbose)\u001b[0m\n\u001b[1;32m    108\u001b[0m                 \u001b[0mcurr_sample_weight\u001b[0m\u001b[0;34m[\u001b[0m\u001b[0mnot_indices_mask\u001b[0m\u001b[0;34m]\u001b[0m \u001b[0;34m=\u001b[0m \u001b[0;36m0\u001b[0m\u001b[0;34m\u001b[0m\u001b[0;34m\u001b[0m\u001b[0m\n\u001b[1;32m    109\u001b[0m \u001b[0;34m\u001b[0m\u001b[0m\n\u001b[0;32m--> 110\u001b[0;31m             \u001b[0mestimator\u001b[0m\u001b[0;34m.\u001b[0m\u001b[0mfit\u001b[0m\u001b[0;34m(\u001b[0m\u001b[0mX\u001b[0m\u001b[0;34m[\u001b[0m\u001b[0;34m:\u001b[0m\u001b[0;34m,\u001b[0m \u001b[0mfeatures\u001b[0m\u001b[0;34m]\u001b[0m\u001b[0;34m,\u001b[0m \u001b[0my\u001b[0m\u001b[0;34m,\u001b[0m \u001b[0msample_weight\u001b[0m\u001b[0;34m=\u001b[0m\u001b[0mcurr_sample_weight\u001b[0m\u001b[0;34m)\u001b[0m\u001b[0;34m\u001b[0m\u001b[0;34m\u001b[0m\u001b[0m\n\u001b[0m\u001b[1;32m    111\u001b[0m \u001b[0;34m\u001b[0m\u001b[0m\n\u001b[1;32m    112\u001b[0m         \u001b[0;32melse\u001b[0m\u001b[0;34m:\u001b[0m\u001b[0;34m\u001b[0m\u001b[0;34m\u001b[0m\u001b[0m\n",
      "\u001b[0;32m~/ml/anaconda3/lib/python3.8/site-packages/sklearn/tree/_classes.py\u001b[0m in \u001b[0;36mfit\u001b[0;34m(self, X, y, sample_weight, check_input, X_idx_sorted)\u001b[0m\n\u001b[1;32m    888\u001b[0m         \"\"\"\n\u001b[1;32m    889\u001b[0m \u001b[0;34m\u001b[0m\u001b[0m\n\u001b[0;32m--> 890\u001b[0;31m         super().fit(\n\u001b[0m\u001b[1;32m    891\u001b[0m             \u001b[0mX\u001b[0m\u001b[0;34m,\u001b[0m \u001b[0my\u001b[0m\u001b[0;34m,\u001b[0m\u001b[0;34m\u001b[0m\u001b[0;34m\u001b[0m\u001b[0m\n\u001b[1;32m    892\u001b[0m             \u001b[0msample_weight\u001b[0m\u001b[0;34m=\u001b[0m\u001b[0msample_weight\u001b[0m\u001b[0;34m,\u001b[0m\u001b[0;34m\u001b[0m\u001b[0;34m\u001b[0m\u001b[0m\n",
      "\u001b[0;32m~/ml/anaconda3/lib/python3.8/site-packages/sklearn/tree/_classes.py\u001b[0m in \u001b[0;36mfit\u001b[0;34m(self, X, y, sample_weight, check_input, X_idx_sorted)\u001b[0m\n\u001b[1;32m    373\u001b[0m                                            min_impurity_split)\n\u001b[1;32m    374\u001b[0m \u001b[0;34m\u001b[0m\u001b[0m\n\u001b[0;32m--> 375\u001b[0;31m         \u001b[0mbuilder\u001b[0m\u001b[0;34m.\u001b[0m\u001b[0mbuild\u001b[0m\u001b[0;34m(\u001b[0m\u001b[0mself\u001b[0m\u001b[0;34m.\u001b[0m\u001b[0mtree_\u001b[0m\u001b[0;34m,\u001b[0m \u001b[0mX\u001b[0m\u001b[0;34m,\u001b[0m \u001b[0my\u001b[0m\u001b[0;34m,\u001b[0m \u001b[0msample_weight\u001b[0m\u001b[0;34m,\u001b[0m \u001b[0mX_idx_sorted\u001b[0m\u001b[0;34m)\u001b[0m\u001b[0;34m\u001b[0m\u001b[0;34m\u001b[0m\u001b[0m\n\u001b[0m\u001b[1;32m    376\u001b[0m \u001b[0;34m\u001b[0m\u001b[0m\n\u001b[1;32m    377\u001b[0m         \u001b[0;32mif\u001b[0m \u001b[0mself\u001b[0m\u001b[0;34m.\u001b[0m\u001b[0mn_outputs_\u001b[0m \u001b[0;34m==\u001b[0m \u001b[0;36m1\u001b[0m \u001b[0;32mand\u001b[0m \u001b[0mis_classifier\u001b[0m\u001b[0;34m(\u001b[0m\u001b[0mself\u001b[0m\u001b[0;34m)\u001b[0m\u001b[0;34m:\u001b[0m\u001b[0;34m\u001b[0m\u001b[0;34m\u001b[0m\u001b[0m\n",
      "\u001b[0;31mKeyboardInterrupt\u001b[0m: "
     ]
    }
   ],
   "source": [
    "results = model_selection.cross_val_score(bgc, x_train, y_train, cv=kfold)\n",
    "print(results.mean())"
   ]
  },
  {
   "cell_type": "markdown",
   "metadata": {},
   "source": [
    "### fasttext_own_vectors"
   ]
  },
  {
   "cell_type": "code",
   "execution_count": null,
   "metadata": {},
   "outputs": [],
   "source": [
    "y = train['target']"
   ]
  },
  {
   "cell_type": "code",
   "execution_count": null,
   "metadata": {},
   "outputs": [],
   "source": [
    "x_train, x_valid, y_train, y_valid = train_test_split(fasttext_own_vectors, y, test_size = 0.2)"
   ]
  },
  {
   "cell_type": "markdown",
   "metadata": {},
   "source": [
    "#### KNN"
   ]
  },
  {
   "cell_type": "code",
   "execution_count": null,
   "metadata": {},
   "outputs": [],
   "source": [
    "knn = KNeighborsClassifier().fit(x_train, y_train)"
   ]
  },
  {
   "cell_type": "code",
   "execution_count": null,
   "metadata": {},
   "outputs": [],
   "source": [
    "acc = np.mean(knn.predict(x_train) == y_train)\n",
    "valid_acc = np.mean(knn.predict(x_valid) == y_valid)\n",
    "print(f\"KNN: {acc, valid_acc}\")"
   ]
  },
  {
   "cell_type": "markdown",
   "metadata": {},
   "source": [
    "#### Bayes"
   ]
  },
  {
   "cell_type": "code",
   "execution_count": null,
   "metadata": {},
   "outputs": [],
   "source": [
    "nb = GaussianNB().fit(x_train, y_train)\n",
    "acc = np.mean(nb.predict(x_train) == y_train)\n",
    "valid_acc = np.mean(nb.predict(x_valid) == y_valid)\n",
    "print(f\"Bayes: {acc, valid_acc}\")"
   ]
  },
  {
   "cell_type": "code",
   "execution_count": null,
   "metadata": {},
   "outputs": [],
   "source": [
    "grid_train = piper\n",
    "grid_valid = train[\"target\"]\n",
    "#param_grid=parameters[clf_name], n_jobs=-1\n",
    "gs = GridSearchCV(knn, param_grid = {\"n_neighbors\": range(1, 20)}, cv=5)\n",
    "gs.fit(grid_train, grid_valid)\n",
    "print(f\"Grid Search: {gs.best_params_, gs.best_score_, gs.best_estimator_.n_neighbors}\")"
   ]
  },
  {
   "cell_type": "markdown",
   "metadata": {},
   "source": [
    "#### KNN with hyperparameters"
   ]
  },
  {
   "cell_type": "code",
   "execution_count": null,
   "metadata": {},
   "outputs": [],
   "source": [
    "knn2 = KNeighborsClassifier(n_neighbors = 19).fit(x_train, y_train)\n",
    "acc = np.mean(knn2.predict(x_train) == y_train)\n",
    "valid_acc = np.mean(knn2.predict(x_valid) == y_valid)\n",
    "print(f\"KNN: {acc, valid_acc}\")"
   ]
  },
  {
   "cell_type": "markdown",
   "metadata": {},
   "source": [
    "#### Random Forest"
   ]
  },
  {
   "cell_type": "code",
   "execution_count": null,
   "metadata": {},
   "outputs": [],
   "source": [
    "rf = RandomForestClassifier(n_estimators=100)\n",
    "rf.fit(x_train, y_train)\n",
    "rf_acc = np.mean(rf.predict(x_valid) == y_valid)\n",
    "print(rf_acc)\n",
    "\n",
    "#rf_test_results = rf.predict(test)\n",
    "#print(rf_test_results)"
   ]
  },
  {
   "cell_type": "markdown",
   "metadata": {},
   "source": [
    "#### Decision Tree"
   ]
  },
  {
   "cell_type": "code",
   "execution_count": null,
   "metadata": {},
   "outputs": [],
   "source": [
    "#можно добавить max_depth параметр для ограничения глубины\n",
    "dt = DecisionTreeClassifier()\n",
    "\n",
    "dt = dt.fit(x_train,y_train)\n",
    "\n",
    "dt_acc = np.mean(dt.predict(x_valid) == y_valid) \n",
    "print(dt_acc)\n",
    "\n",
    "#dt_test_results = dt.predict(test)\n",
    "#print(clf_test_results)\n",
    "\n",
    "#Отрисовка дерева\n",
    "\n",
    "#from sklearn import tree\n",
    "#tree.plot_tree(dt)"
   ]
  },
  {
   "cell_type": "markdown",
   "metadata": {},
   "source": [
    "#### Ensembles"
   ]
  },
  {
   "cell_type": "markdown",
   "metadata": {},
   "source": [
    "##### AdaBoost"
   ]
  },
  {
   "cell_type": "code",
   "execution_count": null,
   "metadata": {},
   "outputs": [],
   "source": [
    "# RandomForestClassifier\n",
    "abc = AdaBoostClassifier(base_estimator = rf, n_estimators = 200)\n",
    "abc = abc.fit(x_train, y_train)\n",
    "abc_acc = np.mean(abc.predict(x_valid) == y_valid)\n",
    "print(abc_acc)"
   ]
  },
  {
   "cell_type": "code",
   "execution_count": null,
   "metadata": {},
   "outputs": [],
   "source": [
    "# Decision Tree\n",
    "abc = AdaBoostClassifier(base_estimator = dt, n_estimators = 200)\n",
    "abc = abc.fit(x_train, y_train)\n",
    "abc_acc = np.mean(abc.predict(x_valid) == y_valid)\n",
    "print(abc_acc)"
   ]
  },
  {
   "cell_type": "markdown",
   "metadata": {},
   "source": [
    "##### Bagged dt"
   ]
  },
  {
   "cell_type": "code",
   "execution_count": null,
   "metadata": {},
   "outputs": [],
   "source": [
    "bgc = BaggingClassifier(base_estimator=dt, n_estimators=100, random_state=6)"
   ]
  },
  {
   "cell_type": "code",
   "execution_count": null,
   "metadata": {},
   "outputs": [],
   "source": [
    "bgc = bgc.fit(x_train, y_train)"
   ]
  },
  {
   "cell_type": "code",
   "execution_count": null,
   "metadata": {},
   "outputs": [],
   "source": [
    "bgc_acc = np.mean(bgc.predict(x_valid) == y_valid)\n",
    "print(bgc_acc)"
   ]
  },
  {
   "cell_type": "markdown",
   "metadata": {},
   "source": [
    "#### Cross Validation"
   ]
  },
  {
   "cell_type": "markdown",
   "metadata": {},
   "source": [
    "##### ShuffleSplit"
   ]
  },
  {
   "cell_type": "code",
   "execution_count": null,
   "metadata": {},
   "outputs": [],
   "source": [
    "cvas = ShuffleSplit(n_splits=5, test_size=0.3, random_state=0)\n",
    "result = cross_val_score(bgc, x_train, y_train, cv=cvas)\n",
    "print(result.mean())"
   ]
  },
  {
   "cell_type": "markdown",
   "metadata": {},
   "source": [
    "##### KFOLD"
   ]
  },
  {
   "cell_type": "code",
   "execution_count": null,
   "metadata": {},
   "outputs": [],
   "source": [
    "kfold = model_selection.KFold(n_splits=10)"
   ]
  },
  {
   "cell_type": "code",
   "execution_count": null,
   "metadata": {},
   "outputs": [],
   "source": [
    "results = model_selection.cross_val_score(bgc, x_train, y_train, cv=kfold)\n",
    "print(results.mean())"
   ]
  },
  {
   "cell_type": "markdown",
   "metadata": {},
   "source": [
    "### tf_idf_pretrained_vectors"
   ]
  },
  {
   "cell_type": "code",
   "execution_count": 109,
   "metadata": {},
   "outputs": [],
   "source": [
    "y = train['target']"
   ]
  },
  {
   "cell_type": "code",
   "execution_count": 110,
   "metadata": {},
   "outputs": [],
   "source": [
    "x_train, x_valid, y_train, y_valid = train_test_split(tf_idf_pretrained_vectors, y, test_size = 0.2)"
   ]
  },
  {
   "cell_type": "markdown",
   "metadata": {},
   "source": [
    "#### KNN"
   ]
  },
  {
   "cell_type": "code",
   "execution_count": 111,
   "metadata": {},
   "outputs": [],
   "source": [
    "knn = KNeighborsClassifier().fit(x_train, y_train)"
   ]
  },
  {
   "cell_type": "code",
   "execution_count": 112,
   "metadata": {},
   "outputs": [
    {
     "name": "stdout",
     "output_type": "stream",
     "text": [
      "KNN: (0.7245833333333334, 0.5861458333333334)\n"
     ]
    }
   ],
   "source": [
    "acc = np.mean(knn.predict(x_train) == y_train)\n",
    "valid_acc = np.mean(knn.predict(x_valid) == y_valid)\n",
    "print(f\"KNN: {acc, valid_acc}\")"
   ]
  },
  {
   "cell_type": "markdown",
   "metadata": {},
   "source": [
    "#### Bayes"
   ]
  },
  {
   "cell_type": "code",
   "execution_count": null,
   "metadata": {},
   "outputs": [],
   "source": [
    "nb = GaussianNB().fit(x_train, y_train)\n",
    "acc = np.mean(nb.predict(x_train) == y_train)\n",
    "valid_acc = np.mean(nb.predict(x_valid) == y_valid)\n",
    "print(f\"Bayes: {acc, valid_acc}\")"
   ]
  },
  {
   "cell_type": "code",
   "execution_count": null,
   "metadata": {},
   "outputs": [],
   "source": [
    "grid_train = piper\n",
    "grid_valid = train[\"target\"]\n",
    "#param_grid=parameters[clf_name], n_jobs=-1\n",
    "gs = GridSearchCV(knn, param_grid = {\"n_neighbors\": range(1, 20)}, cv=5)\n",
    "gs.fit(grid_train, grid_valid)\n",
    "print(f\"Grid Search: {gs.best_params_, gs.best_score_, gs.best_estimator_.n_neighbors}\")"
   ]
  },
  {
   "cell_type": "markdown",
   "metadata": {},
   "source": [
    "#### KNN with hyperparameters"
   ]
  },
  {
   "cell_type": "code",
   "execution_count": null,
   "metadata": {},
   "outputs": [],
   "source": [
    "knn2 = KNeighborsClassifier(n_neighbors = 19).fit(x_train, y_train)\n",
    "acc = np.mean(knn2.predict(x_train) == y_train)\n",
    "valid_acc = np.mean(knn2.predict(x_valid) == y_valid)\n",
    "print(f\"KNN: {acc, valid_acc}\")"
   ]
  },
  {
   "cell_type": "markdown",
   "metadata": {},
   "source": [
    "#### Random Forest"
   ]
  },
  {
   "cell_type": "code",
   "execution_count": null,
   "metadata": {},
   "outputs": [],
   "source": [
    "rf = RandomForestClassifier(n_estimators=100)\n",
    "\n",
    "rf.fit(x_train, y_train)\n",
    "rf_acc = np.mean(rf.predict(x_valid) == y_valid)\n",
    "print(rf_acc)\n",
    "\n",
    "#rf_test_results = rf.predict(test)\n",
    "#print(rf_test_results)"
   ]
  },
  {
   "cell_type": "markdown",
   "metadata": {},
   "source": [
    "#### Decision Tree"
   ]
  },
  {
   "cell_type": "code",
   "execution_count": null,
   "metadata": {},
   "outputs": [],
   "source": [
    "from sklearn import metrics\n",
    "\n",
    "#можно добавить max_depth параметр для ограничения глубины\n",
    "dt = DecisionTreeClassifier()\n",
    "\n",
    "dt = dt.fit(x_train,y_train)\n",
    "\n",
    "dt_acc = np.mean(dt.predict(x_valid) == y_valid) \n",
    "print(dt_acc)\n",
    "\n",
    "#dt_test_results = dt.predict(test)\n",
    "#print(clf_test_results)\n",
    "\n",
    "#Отрисовка дерева\n",
    "\n",
    "#from sklearn import tree\n",
    "#tree.plot_tree(dt)"
   ]
  },
  {
   "cell_type": "markdown",
   "metadata": {},
   "source": [
    "#### Ensembles"
   ]
  },
  {
   "cell_type": "markdown",
   "metadata": {},
   "source": [
    "##### AdaBoost"
   ]
  },
  {
   "cell_type": "code",
   "execution_count": null,
   "metadata": {},
   "outputs": [],
   "source": [
    "# RandomForestClassifier\n",
    "abc = AdaBoostClassifier(base_estimator = rf, n_estimators = 200)\n",
    "abc = abc.fit(x_train, y_train)\n",
    "abc_acc = np.mean(abc.predict(x_valid) == y_valid)\n",
    "print(abc_acc)"
   ]
  },
  {
   "cell_type": "code",
   "execution_count": null,
   "metadata": {},
   "outputs": [],
   "source": [
    "# Decision Tree\n",
    "abc = AdaBoostClassifier(base_estimator = dt, n_estimators = 200)\n",
    "abc = abc.fit(x_train, y_train)\n",
    "abc_acc = np.mean(abc.predict(x_valid) == y_valid)\n",
    "print(abc_acc)"
   ]
  },
  {
   "cell_type": "markdown",
   "metadata": {},
   "source": [
    "##### Bagged dt"
   ]
  },
  {
   "cell_type": "code",
   "execution_count": null,
   "metadata": {},
   "outputs": [],
   "source": [
    "bgc = BaggingClassifier(base_estimator=dt, n_estimators=100, random_state=6)"
   ]
  },
  {
   "cell_type": "code",
   "execution_count": null,
   "metadata": {},
   "outputs": [],
   "source": [
    "bgc = bgc.fit(x_train, y_train)"
   ]
  },
  {
   "cell_type": "code",
   "execution_count": null,
   "metadata": {},
   "outputs": [],
   "source": [
    "bgc_acc = np.mean(bgc.predict(x_valid) == y_valid)\n",
    "print(bgc_acc)"
   ]
  },
  {
   "cell_type": "markdown",
   "metadata": {},
   "source": [
    "#### Cross Validation"
   ]
  },
  {
   "cell_type": "markdown",
   "metadata": {},
   "source": [
    "##### ShuffleSplit"
   ]
  },
  {
   "cell_type": "code",
   "execution_count": null,
   "metadata": {},
   "outputs": [],
   "source": [
    "cvas = ShuffleSplit(n_splits=5, test_size=0.3, random_state=0)\n",
    "result = cross_val_score(bgc, x_train, y_train, cv=cvas)\n",
    "print(result.mean())"
   ]
  },
  {
   "cell_type": "markdown",
   "metadata": {},
   "source": [
    "##### KFOLD"
   ]
  },
  {
   "cell_type": "code",
   "execution_count": null,
   "metadata": {},
   "outputs": [],
   "source": [
    "kfold = model_selection.KFold(n_splits=10)"
   ]
  },
  {
   "cell_type": "code",
   "execution_count": null,
   "metadata": {},
   "outputs": [],
   "source": [
    "results = model_selection.cross_val_score(bgc, x_train, y_train, cv=kfold)\n",
    "print(results.mean())"
   ]
  },
  {
   "cell_type": "code",
   "execution_count": null,
   "metadata": {},
   "outputs": [],
   "source": []
  },
  {
   "cell_type": "markdown",
   "metadata": {},
   "source": [
    "### ohe_vectors"
   ]
  },
  {
   "cell_type": "code",
   "execution_count": null,
   "metadata": {},
   "outputs": [],
   "source": [
    "y = train['target']"
   ]
  },
  {
   "cell_type": "code",
   "execution_count": null,
   "metadata": {},
   "outputs": [],
   "source": [
    "x_train, x_valid, y_train, y_valid = train_test_split(ohe_vectors, y, test_size = 0.2)"
   ]
  },
  {
   "cell_type": "markdown",
   "metadata": {},
   "source": [
    "#### KNN"
   ]
  },
  {
   "cell_type": "code",
   "execution_count": 153,
   "metadata": {},
   "outputs": [
    {
     "name": "stdout",
     "output_type": "stream",
     "text": [
      "KNN: (0.70640625, 0.5673958333333333)\n"
     ]
    }
   ],
   "source": [
    "knn = KNeighborsClassifier().fit(x_train, y_train)\n",
    "acc = np.mean(knn.predict(x_train) == y_train)\n",
    "valid_acc = np.mean(knn.predict(x_valid) == y_valid)\n",
    "print(f\"KNN: {acc, valid_acc}\")"
   ]
  },
  {
   "cell_type": "markdown",
   "metadata": {},
   "source": [
    "#### Bayes"
   ]
  },
  {
   "cell_type": "code",
   "execution_count": null,
   "metadata": {},
   "outputs": [],
   "source": [
    "nb = GaussianNB().fit(x_train, y_train)\n",
    "acc = np.mean(nb.predict(x_train) == y_train)\n",
    "valid_acc = np.mean(nb.predict(x_valid) == y_valid)\n",
    "print(f\"Bayes: {acc, valid_acc}\")"
   ]
  },
  {
   "cell_type": "code",
   "execution_count": null,
   "metadata": {},
   "outputs": [],
   "source": [
    "grid_train = piper\n",
    "grid_valid = train[\"target\"]\n",
    "#param_grid=parameters[clf_name], n_jobs=-1\n",
    "gs = GridSearchCV(knn, param_grid = {\"n_neighbors\": range(1, 20)}, cv=5)\n",
    "gs.fit(grid_train, grid_valid)\n",
    "print(f\"Grid Search: {gs.best_params_, gs.best_score_, gs.best_estimator_.n_neighbors}\")"
   ]
  },
  {
   "cell_type": "markdown",
   "metadata": {},
   "source": [
    "#### KNN with hyperparameters"
   ]
  },
  {
   "cell_type": "code",
   "execution_count": null,
   "metadata": {},
   "outputs": [],
   "source": [
    "knn2 = KNeighborsClassifier(n_neighbors = 19).fit(x_train, y_train)\n",
    "acc = np.mean(knn2.predict(x_train) == y_train)\n",
    "valid_acc = np.mean(knn2.predict(x_valid) == y_valid)\n",
    "print(f\"KNN: {acc, valid_acc}\")"
   ]
  },
  {
   "cell_type": "markdown",
   "metadata": {},
   "source": [
    "#### Random Forest"
   ]
  },
  {
   "cell_type": "code",
   "execution_count": null,
   "metadata": {},
   "outputs": [],
   "source": [
    "rf = RandomForestClassifier(n_estimators=100)\n",
    "\n",
    "rf.fit(x_train, y_train)\n",
    "rf_acc = np.mean(rf.predict(x_valid) == y_valid)\n",
    "print(rf_acc)\n",
    "\n",
    "#rf_test_results = rf.predict(test)\n",
    "#print(rf_test_results)"
   ]
  },
  {
   "cell_type": "markdown",
   "metadata": {},
   "source": [
    "#### Decision Tree"
   ]
  },
  {
   "cell_type": "code",
   "execution_count": null,
   "metadata": {},
   "outputs": [],
   "source": [
    "from sklearn import metrics\n",
    "\n",
    "#можно добавить max_depth параметр для ограничения глубины\n",
    "dt = DecisionTreeClassifier()\n",
    "\n",
    "dt = dt.fit(x_train,y_train)\n",
    "\n",
    "dt_acc = np.mean(dt.predict(x_valid) == y_valid) \n",
    "print(dt_acc)\n",
    "\n",
    "#dt_test_results = dt.predict(test)\n",
    "#print(clf_test_results)\n",
    "\n",
    "#Отрисовка дерева\n",
    "\n",
    "#from sklearn import tree\n",
    "#tree.plot_tree(dt)"
   ]
  },
  {
   "cell_type": "markdown",
   "metadata": {},
   "source": [
    "#### Ensembles"
   ]
  },
  {
   "cell_type": "markdown",
   "metadata": {},
   "source": [
    "###### AdaBoost"
   ]
  },
  {
   "cell_type": "code",
   "execution_count": null,
   "metadata": {},
   "outputs": [],
   "source": [
    "# RandomForestClassifier\n",
    "abc = AdaBoostClassifier(base_estimator = rf, n_estimators = 200)\n",
    "abc = abc.fit(x_train, y_train)\n",
    "abc_acc = np.mean(abc.predict(x_valid) == y_valid)\n",
    "print(abc_acc)"
   ]
  },
  {
   "cell_type": "code",
   "execution_count": null,
   "metadata": {},
   "outputs": [],
   "source": [
    "# Decision Tree\n",
    "abc = AdaBoostClassifier(base_estimator = dt, n_estimators = 200)\n",
    "abc = abc.fit(x_train, y_train)\n",
    "abc_acc = np.mean(abc.predict(x_valid) == y_valid)\n",
    "print(abc_acc)"
   ]
  },
  {
   "cell_type": "markdown",
   "metadata": {},
   "source": [
    "##### Bagged DT"
   ]
  },
  {
   "cell_type": "code",
   "execution_count": null,
   "metadata": {},
   "outputs": [],
   "source": [
    "bgc = BaggingClassifier(base_estimator=dt, n_estimators=100, random_state=6)"
   ]
  },
  {
   "cell_type": "code",
   "execution_count": null,
   "metadata": {},
   "outputs": [],
   "source": [
    "bgc = bgc.fit(x_train, y_train)"
   ]
  },
  {
   "cell_type": "code",
   "execution_count": null,
   "metadata": {},
   "outputs": [],
   "source": [
    "bgc_acc = np.mean(bgc.predict(x_valid) == y_valid)\n",
    "print(bgc_acc)"
   ]
  },
  {
   "cell_type": "markdown",
   "metadata": {},
   "source": [
    "#### Cross Validation"
   ]
  },
  {
   "cell_type": "markdown",
   "metadata": {},
   "source": [
    "##### ShuffleSplit"
   ]
  },
  {
   "cell_type": "code",
   "execution_count": null,
   "metadata": {},
   "outputs": [],
   "source": [
    "cvas = ShuffleSplit(n_splits=5, test_size=0.3, random_state=0)\n",
    "result = cross_val_score(bgc, x_train, y_train, cv=cvas)\n",
    "print(result.mean())"
   ]
  },
  {
   "cell_type": "markdown",
   "metadata": {},
   "source": [
    "##### KFOLD"
   ]
  },
  {
   "cell_type": "code",
   "execution_count": null,
   "metadata": {},
   "outputs": [],
   "source": [
    "kfold = model_selection.KFold(n_splits=10)"
   ]
  },
  {
   "cell_type": "code",
   "execution_count": null,
   "metadata": {},
   "outputs": [],
   "source": [
    "results = model_selection.cross_val_score(bgc, x_train, y_train, cv=kfold)\n",
    "print(results.mean())"
   ]
  },
  {
   "cell_type": "code",
   "execution_count": null,
   "metadata": {},
   "outputs": [],
   "source": []
  },
  {
   "cell_type": "markdown",
   "metadata": {},
   "source": [
    "# Part 4. Нейронные сети"
   ]
  },
  {
   "cell_type": "markdown",
   "metadata": {},
   "source": [
    "## Обработка данных"
   ]
  },
  {
   "cell_type": "code",
   "execution_count": 39,
   "metadata": {},
   "outputs": [
    {
     "data": {
      "text/html": [
       "<div>\n",
       "<style scoped>\n",
       "    .dataframe tbody tr th:only-of-type {\n",
       "        vertical-align: middle;\n",
       "    }\n",
       "\n",
       "    .dataframe tbody tr th {\n",
       "        vertical-align: top;\n",
       "    }\n",
       "\n",
       "    .dataframe thead th {\n",
       "        text-align: right;\n",
       "    }\n",
       "</style>\n",
       "<table border=\"1\" class=\"dataframe\">\n",
       "  <thead>\n",
       "    <tr style=\"text-align: right;\">\n",
       "      <th></th>\n",
       "      <th>Body</th>\n",
       "      <th>Tags</th>\n",
       "      <th>Title</th>\n",
       "      <th>target</th>\n",
       "    </tr>\n",
       "    <tr>\n",
       "      <th>Id</th>\n",
       "      <th></th>\n",
       "      <th></th>\n",
       "      <th></th>\n",
       "      <th></th>\n",
       "    </tr>\n",
       "  </thead>\n",
       "  <tbody>\n",
       "    <tr>\n",
       "      <th>34862324</th>\n",
       "      <td>Algorithmm:\\r\\n\\r\\n**input :** Graph G\\r\\n\\r\\n...</td>\n",
       "      <td>&lt;java&gt;&lt;algorithm&gt;&lt;graph-algorithm&gt;</td>\n",
       "      <td>I am implementing a Minimum Spanning Forrest a...</td>\n",
       "      <td>2</td>\n",
       "    </tr>\n",
       "    <tr>\n",
       "      <th>47303682</th>\n",
       "      <td>While converting the data frame to HTML, Date ...</td>\n",
       "      <td>&lt;html&gt;&lt;r&gt;&lt;dataframe&gt;</td>\n",
       "      <td>R Studio: Date is getting converted to number,...</td>\n",
       "      <td>2</td>\n",
       "    </tr>\n",
       "    <tr>\n",
       "      <th>46431243</th>\n",
       "      <td>&lt;p&gt;This should be an easy one, but somehow I c...</td>\n",
       "      <td>&lt;python&gt;&lt;pandas&gt;&lt;dataframe&gt;&lt;pandas-groupby&gt;</td>\n",
       "      <td>Pandas - dataframe groupby - how to get sum of...</td>\n",
       "      <td>0</td>\n",
       "    </tr>\n",
       "    <tr>\n",
       "      <th>45306324</th>\n",
       "      <td>&lt;p&gt;Let say I have a component in Angular 2 tha...</td>\n",
       "      <td>&lt;angular&gt;&lt;typescript&gt;&lt;rxjs&gt;</td>\n",
       "      <td>Casting results from Observable.forkJoin to th...</td>\n",
       "      <td>0</td>\n",
       "    </tr>\n",
       "    <tr>\n",
       "      <th>49479547</th>\n",
       "      <td>&lt;p&gt;I'm setting a var using \\n&lt;code&gt;set TEST_VA...</td>\n",
       "      <td>&lt;c&gt;&lt;windows&gt;&lt;batch-file&gt;</td>\n",
       "      <td>Environment variable set in batch file cannot ...</td>\n",
       "      <td>1</td>\n",
       "    </tr>\n",
       "  </tbody>\n",
       "</table>\n",
       "</div>"
      ],
      "text/plain": [
       "                                                       Body  \\\n",
       "Id                                                            \n",
       "34862324  Algorithmm:\\r\\n\\r\\n**input :** Graph G\\r\\n\\r\\n...   \n",
       "47303682  While converting the data frame to HTML, Date ...   \n",
       "46431243  <p>This should be an easy one, but somehow I c...   \n",
       "45306324  <p>Let say I have a component in Angular 2 tha...   \n",
       "49479547  <p>I'm setting a var using \\n<code>set TEST_VA...   \n",
       "\n",
       "                                                 Tags  \\\n",
       "Id                                                      \n",
       "34862324           <java><algorithm><graph-algorithm>   \n",
       "47303682                         <html><r><dataframe>   \n",
       "46431243  <python><pandas><dataframe><pandas-groupby>   \n",
       "45306324                  <angular><typescript><rxjs>   \n",
       "49479547                     <c><windows><batch-file>   \n",
       "\n",
       "                                                      Title  target  \n",
       "Id                                                                   \n",
       "34862324  I am implementing a Minimum Spanning Forrest a...       2  \n",
       "47303682  R Studio: Date is getting converted to number,...       2  \n",
       "46431243  Pandas - dataframe groupby - how to get sum of...       0  \n",
       "45306324  Casting results from Observable.forkJoin to th...       0  \n",
       "49479547  Environment variable set in batch file cannot ...       1  "
      ]
     },
     "execution_count": 39,
     "metadata": {},
     "output_type": "execute_result"
    }
   ],
   "source": [
    "data = pd.read_parquet('/Users/tessergey/Downloads/lab1/train.parquet', engine='fastparquet')\n",
    "data.head()"
   ]
  },
  {
   "cell_type": "code",
   "execution_count": 40,
   "metadata": {},
   "outputs": [
    {
     "data": {
      "text/html": [
       "<div>\n",
       "<style scoped>\n",
       "    .dataframe tbody tr th:only-of-type {\n",
       "        vertical-align: middle;\n",
       "    }\n",
       "\n",
       "    .dataframe tbody tr th {\n",
       "        vertical-align: top;\n",
       "    }\n",
       "\n",
       "    .dataframe thead th {\n",
       "        text-align: right;\n",
       "    }\n",
       "</style>\n",
       "<table border=\"1\" class=\"dataframe\">\n",
       "  <thead>\n",
       "    <tr style=\"text-align: right;\">\n",
       "      <th></th>\n",
       "      <th>Body</th>\n",
       "      <th>Tags</th>\n",
       "      <th>Title</th>\n",
       "      <th>target</th>\n",
       "    </tr>\n",
       "    <tr>\n",
       "      <th>Id</th>\n",
       "      <th></th>\n",
       "      <th></th>\n",
       "      <th></th>\n",
       "      <th></th>\n",
       "    </tr>\n",
       "  </thead>\n",
       "  <tbody>\n",
       "    <tr>\n",
       "      <th>38040282</th>\n",
       "      <td>I am working with C# Visual studio sql server ...</td>\n",
       "      <td>&lt;c#&gt;&lt;sql-server&gt;</td>\n",
       "      <td>Retrieve the tables from sql server management...</td>\n",
       "      <td>2</td>\n",
       "    </tr>\n",
       "    <tr>\n",
       "      <th>37082792</th>\n",
       "      <td>&lt;p&gt;I have a huge JSON data as below. Now I nee...</td>\n",
       "      <td>&lt;javascript&gt;&lt;json&gt;&lt;parsing&gt;</td>\n",
       "      <td>How can I filter a JSON data in javascript?</td>\n",
       "      <td>1</td>\n",
       "    </tr>\n",
       "    <tr>\n",
       "      <th>57810339</th>\n",
       "      <td>I was searching for c programs on the net and ...</td>\n",
       "      <td>&lt;javascript&gt;&lt;html&gt;&lt;css&gt;&lt;firefox&gt;</td>\n",
       "      <td>website is showing up as part text and part ht...</td>\n",
       "      <td>2</td>\n",
       "    </tr>\n",
       "  </tbody>\n",
       "</table>\n",
       "</div>"
      ],
      "text/plain": [
       "                                                       Body  \\\n",
       "Id                                                            \n",
       "38040282  I am working with C# Visual studio sql server ...   \n",
       "37082792  <p>I have a huge JSON data as below. Now I nee...   \n",
       "57810339  I was searching for c programs on the net and ...   \n",
       "\n",
       "                                      Tags  \\\n",
       "Id                                           \n",
       "38040282                  <c#><sql-server>   \n",
       "37082792       <javascript><json><parsing>   \n",
       "57810339  <javascript><html><css><firefox>   \n",
       "\n",
       "                                                      Title  target  \n",
       "Id                                                                   \n",
       "38040282  Retrieve the tables from sql server management...       2  \n",
       "37082792        How can I filter a JSON data in javascript?       1  \n",
       "57810339  website is showing up as part text and part ht...       2  "
      ]
     },
     "execution_count": 40,
     "metadata": {},
     "output_type": "execute_result"
    }
   ],
   "source": [
    "# Выделение категориальных признаков и target\n",
    "text_columns = [\"Title\", \"Body\"]\n",
    "categorical_columns = [\"Tags\"]\n",
    "target_column = \"target\"\n",
    "\n",
    "data[categorical_columns] = data[categorical_columns].fillna('NaN') # cast missing values to string \"NaN\"\n",
    "\n",
    "data.sample(3)"
   ]
  },
  {
   "cell_type": "code",
   "execution_count": 42,
   "metadata": {},
   "outputs": [],
   "source": [
    "tokenizer = nltk.tokenize.WordPunctTokenizer()\n",
    "data['Body'] = [' '.join(tokenizer.tokenize(sentence.lower())) for sentence in data['Body']]\n",
    "# pandas LEVEL GOD\n",
    "data['Title'] = data['Title'].apply(str).apply(str.lower).apply(tokenizer.tokenize).apply(' '.join)"
   ]
  },
  {
   "cell_type": "code",
   "execution_count": 43,
   "metadata": {},
   "outputs": [],
   "source": [
    "from collections import Counter\n",
    "#token_counts = <YOUR CODE>\n",
    "#python GOD LEVEL\n",
    "token_counts = Counter(token for col in text_columns\n",
    "                             for item in data[col]\n",
    "                             for token in item.split())"
   ]
  },
  {
   "cell_type": "code",
   "execution_count": 44,
   "metadata": {},
   "outputs": [
    {
     "data": {
      "text/plain": [
       "Counter({'i': 195458,\n",
       "         'am': 19056,\n",
       "         'implementing': 253,\n",
       "         'a': 128048,\n",
       "         'minimum': 289,\n",
       "         'spanning': 6,\n",
       "         'forrest': 3,\n",
       "         'algorihm': 2,\n",
       "         'in': 86150,\n",
       "         'java': 20156,\n",
       "         '.': 543501,\n",
       "         'but': 29950,\n",
       "         'stuck': 629,\n",
       "         'on': 27582,\n",
       "         'how': 32682,\n",
       "         'to': 144464,\n",
       "         'write': 4025,\n",
       "         'loop': 3577,\n",
       "         'r': 8442,\n",
       "         'studio': 2757,\n",
       "         ':': 161977,\n",
       "         'date': 5758,\n",
       "         'is': 77406,\n",
       "         'getting': 4239,\n",
       "         'converted': 259,\n",
       "         'number': 8235,\n",
       "         ',': 202492,\n",
       "         'while': 5672,\n",
       "         'making': 1045,\n",
       "         'html': 9267,\n",
       "         'of': 53760,\n",
       "         'datafrane': 1,\n",
       "         'pandas': 866,\n",
       "         '-': 143070,\n",
       "         'dataframe': 1070,\n",
       "         'groupby': 136,\n",
       "         'get': 18396,\n",
       "         'sum': 2017,\n",
       "         'multiple': 2609,\n",
       "         'columns': 1829,\n",
       "         'casting': 86,\n",
       "         'results': 2026,\n",
       "         'from': 26701,\n",
       "         'observable': 590,\n",
       "         'forkjoin': 16,\n",
       "         'their': 1475,\n",
       "         'respective': 95,\n",
       "         'types': 1461,\n",
       "         'angular': 3473,\n",
       "         '2': 33711,\n",
       "         'environment': 1145,\n",
       "         'variable': 4139,\n",
       "         'set': 7763,\n",
       "         'batch': 527,\n",
       "         'file': 17899,\n",
       "         'cannot': 3387,\n",
       "         'be': 20430,\n",
       "         'accessed': 123,\n",
       "         'the': 173826,\n",
       "         'c': 17611,\n",
       "         'code': 147448,\n",
       "         'compiled': 315,\n",
       "         'by': 10292,\n",
       "         'can': 27471,\n",
       "         'scrolled': 46,\n",
       "         'it': 49800,\n",
       "         'uicollectionview': 67,\n",
       "         'angular2': 569,\n",
       "         'typescript': 1055,\n",
       "         'directive': 239,\n",
       "         'error': 20486,\n",
       "         'ts2345': 5,\n",
       "         \"'\": 103590,\n",
       "         't': 23119,\n",
       "         'install': 2763,\n",
       "         'staruml': 9,\n",
       "         'ubuntu': 762,\n",
       "         '16': 2780,\n",
       "         '04': 1575,\n",
       "         'path': 3710,\n",
       "         'folder': 1781,\n",
       "         'created': 2510,\n",
       "         'uwp': 66,\n",
       "         '#': 14074,\n",
       "         'turn': 464,\n",
       "         '/': 127772,\n",
       "         'off': 962,\n",
       "         'gps': 93,\n",
       "         'using': 19987,\n",
       "         'button': 8001,\n",
       "         'without': 3645,\n",
       "         'into': 7110,\n",
       "         'setting': 968,\n",
       "         'menu': 1618,\n",
       "         'why': 6895,\n",
       "         'compiler': 1037,\n",
       "         'doesn': 3603,\n",
       "         'let': 4490,\n",
       "         'me': 11878,\n",
       "         'use': 13920,\n",
       "         'for': 44529,\n",
       "         'with': 32238,\n",
       "         'switch': 1198,\n",
       "         '?': 33855,\n",
       "         'select': 5523,\n",
       "         'locator': 26,\n",
       "         'span': 3090,\n",
       "         'and': 71115,\n",
       "         'link': 3094,\n",
       "         'text': 13535,\n",
       "         'there': 12602,\n",
       "         'good': 1457,\n",
       "         'vuejs': 172,\n",
       "         'native': 2224,\n",
       "         'mobile': 819,\n",
       "         'platform': 763,\n",
       "         'assigning': 145,\n",
       "         'static': 4856,\n",
       "         'ip': 861,\n",
       "         'address': 1848,\n",
       "         'aws': 1203,\n",
       "         'load': 2083,\n",
       "         'balancer': 65,\n",
       "         'extract': 778,\n",
       "         'dynamically': 451,\n",
       "         'generated': 1052,\n",
       "         'access': 3059,\n",
       "         'token': 1406,\n",
       "         'perl': 390,\n",
       "         'matlab': 245,\n",
       "         'plot': 657,\n",
       "         'seeking': 20,\n",
       "         'names': 1454,\n",
       "         'variables': 1716,\n",
       "         'an': 19752,\n",
       "         'array': 11322,\n",
       "         'upload': 841,\n",
       "         'pdf': 611,\n",
       "         'files': 4698,\n",
       "         'server': 5635,\n",
       "         'alamofire': 80,\n",
       "         'swift': 1515,\n",
       "         '4': 14737,\n",
       "         'ios': 1625,\n",
       "         'change': 4296,\n",
       "         'every': 2317,\n",
       "         'cell': 1275,\n",
       "         'colour': 221,\n",
       "         '(': 176232,\n",
       "         'section': 1021,\n",
       "         '+': 19891,\n",
       "         'row': 4707,\n",
       "         ')': 82602,\n",
       "         'possible': 3477,\n",
       "         'make': 6603,\n",
       "         'linked': 324,\n",
       "         'chekbox': 2,\n",
       "         'fix': 1808,\n",
       "         'incomplete': 81,\n",
       "         'character': 1355,\n",
       "         'string': 26211,\n",
       "         'year': 1366,\n",
       "         '\"': 129159,\n",
       "         '2016': 2241,\n",
       "         '0016': 6,\n",
       "         'simple': 2902,\n",
       "         'syntax': 1601,\n",
       "         'uses': 1070,\n",
       "         'template': 1949,\n",
       "         'sql': 3711,\n",
       "         'between': 3471,\n",
       "         'count': 3406,\n",
       "         'only': 7521,\n",
       "         'latest': 955,\n",
       "         'range': 2195,\n",
       "         'found': 4204,\n",
       "         'difficulty': 91,\n",
       "         'understanding': 608,\n",
       "         'pointers': 350,\n",
       "         'work': 6682,\n",
       "         'name': 18455,\n",
       "         'mouseposition': 12,\n",
       "         'does': 7406,\n",
       "         'not': 27940,\n",
       "         'exist': 991,\n",
       "         'current': 2379,\n",
       "         'context': 3190,\n",
       "         'declare': 610,\n",
       "         'similar': 1190,\n",
       "         'python': 7279,\n",
       "         'syntaxerror': 216,\n",
       "         'expected': 1721,\n",
       "         'indented': 32,\n",
       "         'block': 1412,\n",
       "         'leave': 208,\n",
       "         'team': 406,\n",
       "         'itunes': 69,\n",
       "         'connect': 1567,\n",
       "         'generic': 616,\n",
       "         'type': 12487,\n",
       "         'result': 6182,\n",
       "         'specialized': 26,\n",
       "         'too': 1197,\n",
       "         'few': 984,\n",
       "         'parameters': 1367,\n",
       "         'got': 2289,\n",
       "         '1': 57928,\n",
       "         'miliseconds': 7,\n",
       "         'long': 2157,\n",
       "         'or': 16836,\n",
       "         'int': 22578,\n",
       "         'packages': 1699,\n",
       "         'alpine': 102,\n",
       "         'docker': 2499,\n",
       "         'copy': 1489,\n",
       "         'datatable': 243,\n",
       "         'needs': 824,\n",
       "         'split': 1522,\n",
       "         'put': 2530,\n",
       "         'log': 4889,\n",
       "         'user': 9617,\n",
       "         'home': 2180,\n",
       "         'directory': 1917,\n",
       "         'portable': 42,\n",
       "         'way': 8424,\n",
       "         'logback': 79,\n",
       "         'wpf': 180,\n",
       "         'binding': 501,\n",
       "         'refreshing': 58,\n",
       "         'if': 37104,\n",
       "         'equals': 806,\n",
       "         'gethashcode': 20,\n",
       "         'no': 8111,\n",
       "         'ipropertychanged': 1,\n",
       "         'needed': 576,\n",
       "         '!)': 152,\n",
       "         'store': 2208,\n",
       "         'members': 331,\n",
       "         'diferent': 13,\n",
       "         'back': 1682,\n",
       "         'top': 2159,\n",
       "         'footer': 455,\n",
       "         'cake': 46,\n",
       "         'php': 8808,\n",
       "         'godaddy': 28,\n",
       "         'installation': 334,\n",
       "         'issues': 858,\n",
       "         'tag': 1656,\n",
       "         'dynamic': 769,\n",
       "         'view': 7818,\n",
       "         'uibuttons': 4,\n",
       "         'safe': 241,\n",
       "         'jwt': 223,\n",
       "         'add': 8417,\n",
       "         'git': 1756,\n",
       "         'information': 1844,\n",
       "         'create': 7256,\n",
       "         'react': 4865,\n",
       "         'app': 13789,\n",
       "         'what': 16376,\n",
       "         'should': 7282,\n",
       "         'ls': 201,\n",
       "         '$': 25472,\n",
       "         'goroot': 13,\n",
       "         'gopath': 40,\n",
       "         'look': 1410,\n",
       "         'like': 16741,\n",
       "         'repeat': 452,\n",
       "         ')?': 454,\n",
       "         'dataset': 596,\n",
       "         'consisting': 39,\n",
       "         'video': 1000,\n",
       "         'colaboratory': 16,\n",
       "         'es2015': 111,\n",
       "         'module': 3455,\n",
       "         'preferred': 103,\n",
       "         'over': 1690,\n",
       "         'custom': 1683,\n",
       "         'modules': 754,\n",
       "         'namespaces': 77,\n",
       "         '@': 11140,\n",
       "         'eslint': 272,\n",
       "         'namespace': 1195,\n",
       "         'boost': 149,\n",
       "         'serialization': 80,\n",
       "         'equivalent': 449,\n",
       "         'graphql': 255,\n",
       "         'non': 1156,\n",
       "         'nullable': 259,\n",
       "         'list': 10330,\n",
       "         'object': 7746,\n",
       "         'reference': 1837,\n",
       "         'required': 1896,\n",
       "         'fo': 21,\n",
       "         'member': 705,\n",
       "         'basic': 949,\n",
       "         'arithmetic': 75,\n",
       "         'show': 4219,\n",
       "         'merge': 634,\n",
       "         'commit': 592,\n",
       "         'any': 12970,\n",
       "         'tutorial': 715,\n",
       "         'bot': 299,\n",
       "         'framework': 1167,\n",
       "         'installing': 448,\n",
       "         'running': 3172,\n",
       "         'hello': 2029,\n",
       "         'world': 797,\n",
       "         '++': 2629,\n",
       "         'windows': 2493,\n",
       "         'system': 9248,\n",
       "         'returned': 621,\n",
       "         'cognito': 107,\n",
       "         'credentials': 385,\n",
       "         'we': 5542,\n",
       "         'missing': 1526,\n",
       "         'data': 19773,\n",
       "         'na': 774,\n",
       "         'responsive': 244,\n",
       "         'screen': 1604,\n",
       "         'resolution': 130,\n",
       "         'outline': 126,\n",
       "         'uilabel': 130,\n",
       "         'subclass': 144,\n",
       "         'ccache': 6,\n",
       "         'when': 17233,\n",
       "         'building': 850,\n",
       "         'inside': 2674,\n",
       "         'waht': 7,\n",
       "         'meaning': 286,\n",
       "         '<>': 114,\n",
       "         'bracket': 85,\n",
       "         'javascript': 4080,\n",
       "         'implementation': 1233,\n",
       "         'spark': 861,\n",
       "         'thrift': 7,\n",
       "         'second': 2567,\n",
       "         '50': 2140,\n",
       "         '%': 6550,\n",
       "         'table': 6797,\n",
       "         'property': 1870,\n",
       "         'internationalization': 14,\n",
       "         'disable': 681,\n",
       "         'pytest': 110,\n",
       "         'plugins': 568,\n",
       "         'single': 1874,\n",
       "         'tests': 954,\n",
       "         'wrong': 3051,\n",
       "         'this': 59949,\n",
       "         'pl': 216,\n",
       "         'program': 4529,\n",
       "         'manipulation': 59,\n",
       "         'regex': 1300,\n",
       "         'rules': 497,\n",
       "         'onclicklistener': 532,\n",
       "         'android': 26113,\n",
       "         'dist': 677,\n",
       "         'cli': 954,\n",
       "         'after': 5202,\n",
       "         'ng': 896,\n",
       "         'build': 5414,\n",
       "         'test': 6908,\n",
       "         'two': 5489,\n",
       "         'emulators': 33,\n",
       "         'sharing': 147,\n",
       "         'common': 938,\n",
       "         'css': 3705,\n",
       "         'across': 517,\n",
       "         'components': 1123,\n",
       "         'click': 3297,\n",
       "         'event': 2418,\n",
       "         'before': 2402,\n",
       "         'values': 5478,\n",
       "         'refs': 112,\n",
       "         'styling': 127,\n",
       "         'class': 25816,\n",
       "         'reactjs': 193,\n",
       "         'dialog': 654,\n",
       "         'which': 11207,\n",
       "         'have': 31287,\n",
       "         'textview': 1751,\n",
       "         'reduntancy': 1,\n",
       "         'trying': 8241,\n",
       "         'function': 15751,\n",
       "         'that': 35396,\n",
       "         'will': 8406,\n",
       "         'print': 8743,\n",
       "         'all': 11158,\n",
       "         'numbers': 2569,\n",
       "         '1000': 959,\n",
       "         'figures': 33,\n",
       "         'divisible': 48,\n",
       "         '8': 7189,\n",
       "         'en': 1286,\n",
       "         'eliminacion': 1,\n",
       "         'de': 689,\n",
       "         'llave': 2,\n",
       "         'foranea': 2,\n",
       "         'drop': 600,\n",
       "         'foreing': 1,\n",
       "         'key': 4785,\n",
       "         'postgresql': 292,\n",
       "         'even': 2532,\n",
       "         'odd': 295,\n",
       "         'min': 1531,\n",
       "         'max': 1540,\n",
       "         'xcode': 1219,\n",
       "         'lost': 264,\n",
       "         'connection': 1855,\n",
       "         'iphone': 349,\n",
       "         'plus': 270,\n",
       "         'column': 3897,\n",
       "         'conversion': 406,\n",
       "         'array_column': 3,\n",
       "         'rows': 1956,\n",
       "         'excel': 1002,\n",
       "         'webview': 318,\n",
       "         'err_unknown_url_scheme': 2,\n",
       "         'htmldocument': 17,\n",
       "         'contain': 831,\n",
       "         'constructore': 1,\n",
       "         'takes': 870,\n",
       "         'arguments': 716,\n",
       "         'linux': 1153,\n",
       "         'symlink': 20,\n",
       "         'profile': 607,\n",
       "         'analyzing': 21,\n",
       "         'item': 4599,\n",
       "         'value': 15487,\n",
       "         'agregar': 4,\n",
       "         'lista': 97,\n",
       "         \"=='\": 209,\n",
       "         'valor': 59,\n",
       "         'library': 2768,\n",
       "         'golang': 417,\n",
       "         'go': 2937,\n",
       "         'mssqldb': 2,\n",
       "         'they': 3234,\n",
       "         '<': 215383,\n",
       "         'nil': 831,\n",
       "         '>?': 378,\n",
       "         'shouldn': 281,\n",
       "         'login': 2282,\n",
       "         'query': 3945,\n",
       "         'arraylist': 1700,\n",
       "         'project': 5599,\n",
       "         'ints': 108,\n",
       "         'codepipeline': 22,\n",
       "         'insufficient': 40,\n",
       "         'permissions': 354,\n",
       "         'unable': 1236,\n",
       "         'artifact': 148,\n",
       "         'amazon': 430,\n",
       "         's3': 553,\n",
       "         'vendorchunk': 5,\n",
       "         'production': 466,\n",
       "         'keyerror': 37,\n",
       "         'plotly_domain': 3,\n",
       "         'plotly': 55,\n",
       "         'do': 18110,\n",
       "         'scatter': 63,\n",
       "         'last': 2448,\n",
       "         'month': 1242,\n",
       "         'hide': 1469,\n",
       "         'sunday': 86,\n",
       "         'saturday': 57,\n",
       "         'null': 8169,\n",
       "         'pointer': 1084,\n",
       "         'exception': 2617,\n",
       "         'elements': 1787,\n",
       "         'one': 10023,\n",
       "         'js': 8885,\n",
       "         'asp': 1185,\n",
       "         'net': 3650,\n",
       "         'core': 3495,\n",
       "         'webapi': 83,\n",
       "         'cookie': 288,\n",
       "         'authentication': 621,\n",
       "         'xml': 2121,\n",
       "         'comparison': 188,\n",
       "         'having': 2104,\n",
       "         'attributes': 416,\n",
       "         'programmatically': 204,\n",
       "         'searching': 496,\n",
       "         'google': 4693,\n",
       "         'search': 2518,\n",
       "         'vue': 986,\n",
       "         'unit': 650,\n",
       "         'jest': 241,\n",
       "         'run': 8019,\n",
       "         'const': 3845,\n",
       "         'references': 445,\n",
       "         'extend': 197,\n",
       "         'lifetime': 96,\n",
       "         'rvalues': 6,\n",
       "         'statement': 1830,\n",
       "         'sqldeveloper': 4,\n",
       "         'process': 1995,\n",
       "         'memory': 1415,\n",
       "         'find': 6810,\n",
       "         'links': 643,\n",
       "         'pictures': 151,\n",
       "         'retrolambda': 3,\n",
       "         'jack': 113,\n",
       "         'support': 3139,\n",
       "         'warning': 1439,\n",
       "         'recording': 74,\n",
       "         'detect': 407,\n",
       "         'opened': 250,\n",
       "         'open': 3308,\n",
       "         'subfolder': 46,\n",
       "         'until': 802,\n",
       "         'are': 12430,\n",
       "         'more': 3708,\n",
       "         'vb': 268,\n",
       "         'selecting': 160,\n",
       "         'dates': 446,\n",
       "         'datetime': 1175,\n",
       "         'index': 4629,\n",
       "         'face': 347,\n",
       "         'swapping': 28,\n",
       "         'postgres': 253,\n",
       "         'econnrefused': 12,\n",
       "         '127': 436,\n",
       "         '0': 60225,\n",
       "         '5432': 47,\n",
       "         'com': 25977,\n",
       "         'node': 3857,\n",
       "         'e': 8346,\n",
       "         'bokeh': 48,\n",
       "         'valueerror': 210,\n",
       "         'out': 10610,\n",
       "         'float': 1876,\n",
       "         'json': 5645,\n",
       "         'compliant': 32,\n",
       "         'scripts': 573,\n",
       "         'centos': 84,\n",
       "         'via': 1377,\n",
       "         'browser': 1439,\n",
       "         'securing': 6,\n",
       "         'hijacker': 7,\n",
       "         'sort': 1379,\n",
       "         'first': 6316,\n",
       "         'characters': 1095,\n",
       "         'mirroring': 1,\n",
       "         'new': 22559,\n",
       "         'material': 654,\n",
       "         'design': 865,\n",
       "         'icon': 1240,\n",
       "         'themes': 113,\n",
       "         'outlined': 17,\n",
       "         'rounded': 112,\n",
       "         'tone': 6,\n",
       "         'sharp': 50,\n",
       "         'bcrypt': 72,\n",
       "         'hash': 722,\n",
       "         'based': 1973,\n",
       "         'need': 9554,\n",
       "         'streaming': 104,\n",
       "         'want': 16075,\n",
       "         'jenkinsfile': 48,\n",
       "         'highlighting': 54,\n",
       "         'pycharm': 228,\n",
       "         'idea': 1877,\n",
       "         'unity': 181,\n",
       "         'videoplayer': 39,\n",
       "         'videoclip': 11,\n",
       "         'api': 5056,\n",
       "         'play': 1098,\n",
       "         'o': 2442,\n",
       "         'pointes': 2,\n",
       "         'helpe': 1,\n",
       "         'sqlite': 480,\n",
       "         'database': 4424,\n",
       "         'logging': 633,\n",
       "         'stdout': 147,\n",
       "         'python3': 691,\n",
       "         'uwsgi': 80,\n",
       "         'reloadonchange': 12,\n",
       "         'microsoft': 1679,\n",
       "         'extensions': 450,\n",
       "         'configuration': 1456,\n",
       "         'appsettings': 91,\n",
       "         'ssn': 16,\n",
       "         'reg': 135,\n",
       "         'ex': 728,\n",
       "         'digit': 355,\n",
       "         'up': 4587,\n",
       "         'primitive': 74,\n",
       "         'internal': 2676,\n",
       "         'builtin': 29,\n",
       "         'special': 389,\n",
       "         'functions': 1727,\n",
       "         'var': 9383,\n",
       "         '=': 118663,\n",
       "         ';': 174981,\n",
       "         '&': 98777,\n",
       "         'lt': 67198,\n",
       "         '++)': 2829,\n",
       "         '{': 70400,\n",
       "         '}': 64307,\n",
       "         '==': 9111,\n",
       "         '}.': 172,\n",
       "         'notation': 84,\n",
       "         'element': 2853,\n",
       "         'selenium': 576,\n",
       "         'webdriver': 279,\n",
       "         'define': 1308,\n",
       "         'default': 3669,\n",
       "         'methods': 1352,\n",
       "         'interface': 1192,\n",
       "         'intellij': 417,\n",
       "         'slack': 87,\n",
       "         'channel': 492,\n",
       "         'testing': 963,\n",
       "         'method': 7405,\n",
       "         'resultset': 72,\n",
       "         'as': 22637,\n",
       "         'parameter': 1379,\n",
       "         'scope': 984,\n",
       "         'bars': 103,\n",
       "         'uisearchbar': 19,\n",
       "         'suppress': 76,\n",
       "         'py': 2684,\n",
       "         'deprecation': 59,\n",
       "         'warnings': 257,\n",
       "         'push': 1373,\n",
       "         'users': 4255,\n",
       "         'may': 1444,\n",
       "         'logged': 314,\n",
       "         'devices': 404,\n",
       "         'testflight': 14,\n",
       "         'complete': 733,\n",
       "         'submit': 1480,\n",
       "         'external': 648,\n",
       "         'gcc': 467,\n",
       "         'about': 4156,\n",
       "         'useless': 71,\n",
       "         'cast': 447,\n",
       "         'inherited': 80,\n",
       "         'constructor': 1538,\n",
       "         'remove': 2348,\n",
       "         'option': 3699,\n",
       "         'bar': 1748,\n",
       "         'ggplotly': 3,\n",
       "         'jupyter': 339,\n",
       "         'notebook': 313,\n",
       "         'interactive': 104,\n",
       "         'widgets': 151,\n",
       "         'rdd': 132,\n",
       "         'my': 32691,\n",
       "         'website': 1918,\n",
       "         'font': 2240,\n",
       "         'looks': 1759,\n",
       "         'different': 3651,\n",
       "         'please': 7529,\n",
       "         'see': 4279,\n",
       "         'dimmensional': 1,\n",
       "         'feeding': 15,\n",
       "         'web': 3753,\n",
       "         'try': 4756,\n",
       "         'return': 16278,\n",
       "         'has': 6805,\n",
       "         'occurred': 327,\n",
       "         'large': 662,\n",
       "         'strings': 1268,\n",
       "         'flutter': 1051,\n",
       "         'always': 1574,\n",
       "         'underweight': 3,\n",
       "         'bmi': 74,\n",
       "         'here': 12656,\n",
       "         'hour': 458,\n",
       "         'day': 1282,\n",
       "         'named': 819,\n",
       "         'entity': 697,\n",
       "         'recognition': 58,\n",
       "         'spacy': 57,\n",
       "         'toggle': 520,\n",
       "         'navgar': 1,\n",
       "         'responding': 50,\n",
       "         'initialization': 269,\n",
       "         'delphi': 120,\n",
       "         '10': 11049,\n",
       "         'rio': 19,\n",
       "         'perform': 552,\n",
       "         'multiplication': 83,\n",
       "         'integers': 492,\n",
       "         'larger': 151,\n",
       "         'than': 2514,\n",
       "         '64': 646,\n",
       "         'bits': 233,\n",
       "         'include': 4894,\n",
       "         'counts': 149,\n",
       "         'frequency': 149,\n",
       "         'mysql': 1941,\n",
       "         'xampp': 206,\n",
       "         'extending': 47,\n",
       "         'router': 1069,\n",
       "         'apps': 871,\n",
       "         'django': 1029,\n",
       "         'rest': 924,\n",
       "         'serializable': 79,\n",
       "         'relative': 390,\n",
       "         'was': 5728,\n",
       "         'thumbnail': 116,\n",
       "         'selected': 1059,\n",
       "         'sonarqube': 48,\n",
       "         'lombok': 51,\n",
       "         'false': 7989,\n",
       "         'positives': 11,\n",
       "         'anyone': 2968,\n",
       "         'shorter': 69,\n",
       "         'looping': 166,\n",
       "         'sure': 2207,\n",
       "         'posting': 122,\n",
       "         'correctly': 921,\n",
       "         'enumerate': 104,\n",
       "         'cycle': 109,\n",
       "         'loops': 363,\n",
       "         'still': 2330,\n",
       "         'keep': 1276,\n",
       "         'errors': 1869,\n",
       "         'instance': 1767,\n",
       "         'setstate': 277,\n",
       "         'objects': 1796,\n",
       "         'azure': 607,\n",
       "         'service': 2659,\n",
       "         'time': 7413,\n",
       "         'zone': 248,\n",
       "         'issue': 2595,\n",
       "         'ngmodelchange': 11,\n",
       "         'grab': 128,\n",
       "         'specific': 1880,\n",
       "         'help': 9965,\n",
       "         'operator': 1183,\n",
       "         'sparkcontext': 90,\n",
       "         'sparksession': 45,\n",
       "         'ionic': 271,\n",
       "         '**': 4472,\n",
       "         'failed': 2423,\n",
       "         'signing': 122,\n",
       "         'product': 1401,\n",
       "         'application': 5622,\n",
       "         'sdk': 941,\n",
       "         'rid': 223,\n",
       "         'duplacates': 1,\n",
       "         'both': 2313,\n",
       "         'pylint': 59,\n",
       "         'weakreference': 11,\n",
       "         'listeners': 41,\n",
       "         'caused': 462,\n",
       "         'sqliteexception': 23,\n",
       "         'such': 2147,\n",
       "         '):': 5071,\n",
       "         'compiling': 315,\n",
       "         'id': 17845,\n",
       "         'description': 4053,\n",
       "         'tasks': 808,\n",
       "         'convert': 3033,\n",
       "         '>': 375572,\n",
       "         'ruby': 1314,\n",
       "         'unexpected': 579,\n",
       "         'end': 5302,\n",
       "         'input': 10287,\n",
       "         'expecting': 286,\n",
       "         'keyword_end': 12,\n",
       "         'alphabet': 143,\n",
       "         'symbol': 729,\n",
       "         'animate': 192,\n",
       "         'label': 3153,\n",
       "         'word': 2290,\n",
       "         'appears': 613,\n",
       "         'reading': 893,\n",
       "         'x': 11770,\n",
       "         'times': 1308,\n",
       "         'ran': 373,\n",
       "         'xcodebuild': 27,\n",
       "         'command': 3599,\n",
       "         'exited': 102,\n",
       "         '65': 353,\n",
       "         'strange': 297,\n",
       "         'behavior': 598,\n",
       "         'ssh': 408,\n",
       "         'cisco': 14,\n",
       "         'paramiko': 7,\n",
       "         'preview': 299,\n",
       "         'submission': 88,\n",
       "         'audio': 370,\n",
       "         's': 18387,\n",
       "         'lower': 438,\n",
       "         'case': 4678,\n",
       "         'collection': 652,\n",
       "         'hashset': 71,\n",
       "         'reveal': 26,\n",
       "         'progressing': 2,\n",
       "         'border': 1358,\n",
       "         'window': 1937,\n",
       "         'scroll': 547,\n",
       "         'size': 5224,\n",
       "         'sitting': 18,\n",
       "         'arrangement': 18,\n",
       "         'console': 5989,\n",
       "         'understand': 2708,\n",
       "         \"')\": 3840,\n",
       "         'random': 2273,\n",
       "         'walking': 20,\n",
       "         'differentiate': 30,\n",
       "         'triggers': 115,\n",
       "         'jenkins': 583,\n",
       "         'pipeline': 448,\n",
       "         '3': 21176,\n",
       "         'imported': 195,\n",
       "         'urllib': 73,\n",
       "         'urllib3': 36,\n",
       "         'also': 4829,\n",
       "         'import': 11562,\n",
       "         'requests': 805,\n",
       "         'lib': 3429,\n",
       "         'independently': 29,\n",
       "         'kotlin': 916,\n",
       "         'init': 1062,\n",
       "         'conforming': 10,\n",
       "         'codable': 22,\n",
       "         'dictionary': 986,\n",
       "         'else': 7779,\n",
       "         'at': 20031,\n",
       "         'same': 6103,\n",
       "         'gensim': 42,\n",
       "         'bm25': 2,\n",
       "         'ranking': 44,\n",
       "         'wight': 1,\n",
       "         'spaces': 408,\n",
       "         'output': 5963,\n",
       "         'following': 6942,\n",
       "         'script': 5845,\n",
       "         'firebase': 1614,\n",
       "         'auth': 862,\n",
       "         'projects': 885,\n",
       "         'providers': 163,\n",
       "         'bring': 107,\n",
       "         'div': 14220,\n",
       "         'infront': 4,\n",
       "         'parent': 1876,\n",
       "         '>,': 3358,\n",
       "         'skip': 264,\n",
       "         'glob': 81,\n",
       "         'pathlib': 26,\n",
       "         'treat': 57,\n",
       "         'hidden': 876,\n",
       "         'differently': 113,\n",
       "         'iris': 65,\n",
       "         'cube': 68,\n",
       "         'fileobject': 5,\n",
       "         'netcdf4': 6,\n",
       "         'keys': 904,\n",
       "         'pair': 263,\n",
       "         'scala': 761,\n",
       "         'ajax': 1081,\n",
       "         'used': 3728,\n",
       "         'stylesheet': 464,\n",
       "         'wordpress': 424,\n",
       "         'ms': 540,\n",
       "         'just': 6591,\n",
       "         'jquery': 2107,\n",
       "         'give': 1636,\n",
       "         'h1': 1127,\n",
       "         'bottom': 1050,\n",
       "         'right': 3962,\n",
       "         'corner': 104,\n",
       "         'defined': 1322,\n",
       "         'meta': 754,\n",
       "         'tags': 570,\n",
       "         'related': 665,\n",
       "         'post': 2961,\n",
       "         'thumbnails': 36,\n",
       "         'tumblr': 10,\n",
       "         'arrays': 1084,\n",
       "         'stream': 877,\n",
       "         'vs': 1189,\n",
       "         'aslist': 109,\n",
       "         ').': 7177,\n",
       "         '()': 21527,\n",
       "         'registry': 235,\n",
       "         'read': 3698,\n",
       "         '\\\\': 18482,\n",
       "         'n': 11522,\n",
       "         'creat': 40,\n",
       "         'fetch': 907,\n",
       "         'student': 910,\n",
       "         'marks': 199,\n",
       "         'specify': 492,\n",
       "         'ranges': 72,\n",
       "         'util': 1719,\n",
       "         'removing': 314,\n",
       "         'throw': 634,\n",
       "         'concurrentmodificationexception': 22,\n",
       "         'usage': 446,\n",
       "         'txt': 2235,\n",
       "         'tvs': 8,\n",
       "         'vcf': 3,\n",
       "         'prawn': 4,\n",
       "         '::': 7584,\n",
       "         'incompatiblestringencoding': 2,\n",
       "         'your': 3987,\n",
       "         'document': 3138,\n",
       "         'includes': 369,\n",
       "         'compatible': 262,\n",
       "         '1252': 15,\n",
       "         'actual': 577,\n",
       "         'reduce': 243,\n",
       "         'enter': 6391,\n",
       "         'form': 6003,\n",
       "         'mongodb': 427,\n",
       "         'nodejs': 456,\n",
       "         'overloading': 69,\n",
       "         'shown': 677,\n",
       "         'invalid': 1252,\n",
       "         '.?': 62,\n",
       "         'rc2': 59,\n",
       "         'dependency': 1295,\n",
       "         'could': 4675,\n",
       "         'resolved': 190,\n",
       "         'replace': 1788,\n",
       "         'vector': 1570,\n",
       "         'uint8_t': 69,\n",
       "         '>::': 51,\n",
       "         'const_iterator': 13,\n",
       "         'where': 7113,\n",
       "         'shall': 105,\n",
       "         'existing': 642,\n",
       "         'db': 2761,\n",
       "         'openurl': 23,\n",
       "         'deprecated': 391,\n",
       "         'options': 1715,\n",
       "         'completionhandler': 38,\n",
       "         'instead': 2215,\n",
       "         'coordinates': 259,\n",
       "         'polyline': 35,\n",
       "         'maps': 683,\n",
       "         'collect': 219,\n",
       "         'third': 566,\n",
       "         'putting': 218,\n",
       "         'together': 437,\n",
       "         'corespondent': 1,\n",
       "         'combinations': 174,\n",
       "         'don': 5228,\n",
       "         '`': 10612,\n",
       "         'phone': 974,\n",
       "         'apple': 811,\n",
       "         'developer': 1186,\n",
       "         'license': 202,\n",
       "         'agreement': 28,\n",
       "         'been': 3010,\n",
       "         'updated': 732,\n",
       "         'crate': 29,\n",
       "         'shadow': 201,\n",
       "         'layout': 1942,\n",
       "         'image': 8686,\n",
       "         'returning': 566,\n",
       "         'duplicates': 210,\n",
       "         '12': 4746,\n",
       "         '78': 216,\n",
       "         '6': 7842,\n",
       "         'defaulting': 15,\n",
       "         'tls': 108,\n",
       "         'take': 1438,\n",
       "         'previously': 212,\n",
       "         'integer': 2747,\n",
       "         'odds': 58,\n",
       "         'evens': 13,\n",
       "         'zeroes': 17,\n",
       "         'executes': 116,\n",
       "         'loaded': 654,\n",
       "         'trouble': 544,\n",
       "         'normalizing': 7,\n",
       "         'you': 12508,\n",
       "         'check': 3522,\n",
       "         'virtual': 695,\n",
       "         'page': 4818,\n",
       "         'maximum': 397,\n",
       "         'urgent': 99,\n",
       "         'pipenv': 79,\n",
       "         'best': 1760,\n",
       "         'implement': 1230,\n",
       "         'roles': 142,\n",
       "         'permission': 888,\n",
       "         'express': 552,\n",
       "         'ul': 3420,\n",
       "         'tansform': 1,\n",
       "         'rotatez': 6,\n",
       "         'know': 7532,\n",
       "         'provider': 577,\n",
       "         '!\"': 255,\n",
       "         'uncaught': 365,\n",
       "         'promise': 615,\n",
       "         'di': 119,\n",
       "         'confused': 553,\n",
       "         'comma': 254,\n",
       "         'ndk': 72,\n",
       "         '14': 2558,\n",
       "         ...})"
      ]
     },
     "execution_count": 44,
     "metadata": {},
     "output_type": "execute_result"
    }
   ],
   "source": [
    "token_counts"
   ]
  },
  {
   "cell_type": "code",
   "execution_count": 45,
   "metadata": {},
   "outputs": [
    {
     "data": {
      "image/png": "[encoded data removed]",
      "text/plain": [
       "<Figure size 432x288 with 1 Axes>"
      ]
     },
     "metadata": {
      "needs_background": "light"
     },
     "output_type": "display_data"
    }
   ],
   "source": [
    "plt.hist(list(token_counts.values()), range=[0, 10**4], bins=50, log=True)\n",
    "plt.xlabel(\"Word counts\");"
   ]
  },
  {
   "cell_type": "code",
   "execution_count": 46,
   "metadata": {},
   "outputs": [],
   "source": [
    "min_count = 10\n",
    "tokens = [token for token, count in token_counts.items()\n",
    "          if count >= min_count]"
   ]
  },
  {
   "cell_type": "code",
   "execution_count": 47,
   "metadata": {},
   "outputs": [
    {
     "name": "stdout",
     "output_type": "stream",
     "text": [
      "Vocabulary size: 24477\n",
      "Correct!\n"
     ]
    }
   ],
   "source": [
    "# Add a special tokens for unknown and empty words\n",
    "UNK, PAD = \"UNK\", \"PAD\"\n",
    "tokens = [UNK, PAD] + sorted(tokens)\n",
    "print(\"Vocabulary size:\", len(tokens))"
   ]
  },
  {
   "cell_type": "code",
   "execution_count": 48,
   "metadata": {},
   "outputs": [],
   "source": [
    "token_to_id = dict(map(reversed, enumerate(tokens)))"
   ]
  },
  {
   "cell_type": "code",
   "execution_count": 49,
   "metadata": {},
   "outputs": [
    {
     "data": {
      "text/plain": [
       "{'UNK': 0,\n",
       " 'PAD': 1,\n",
       " '\\x01': 2,\n",
       " '\\x02': 3,\n",
       " '\\x03': 4,\n",
       " '\\x04': 5,\n",
       " '\\x05': 6,\n",
       " '\\x06': 7,\n",
       " '\\x07': 8,\n",
       " '\\x08': 9,\n",
       " '!': 10,\n",
       " '!!': 11,\n",
       " '!!!': 12,\n",
       " '!!!!': 13,\n",
       " '!!!\"': 14,\n",
       " '!!!</': 15,\n",
       " '!!\");': 16,\n",
       " '!!</': 17,\n",
       " '!!}': 18,\n",
       " '!!}</': 19,\n",
       " '!\"': 20,\n",
       " '!\")': 21,\n",
       " '!\");': 22,\n",
       " '!\",': 23,\n",
       " '!\";': 24,\n",
       " '!\"</': 25,\n",
       " '!$': 26,\n",
       " '!&': 27,\n",
       " \"!'\": 28,\n",
       " \"!')\": 29,\n",
       " \"!');\": 30,\n",
       " \"!',\": 31,\n",
       " \"!';\": 32,\n",
       " '!(': 33,\n",
       " '!(\"': 34,\n",
       " '!)': 35,\n",
       " '!):': 36,\n",
       " '!)</': 37,\n",
       " '!**': 38,\n",
       " '!,': 39,\n",
       " '!-': 40,\n",
       " '!.': 41,\n",
       " '!/': 42,\n",
       " '!/:': 43,\n",
       " '!<': 44,\n",
       " '!</': 45,\n",
       " '!=': 46,\n",
       " \"!='\": 47,\n",
       " \"!='\\\\\": 48,\n",
       " '!=-': 49,\n",
       " '!==': 50,\n",
       " '!?': 51,\n",
       " '![': 52,\n",
       " '!\\\\': 53,\n",
       " '\"': 54,\n",
       " '\"!': 55,\n",
       " '\"!\");': 56,\n",
       " '\"!=': 57,\n",
       " '\"\"': 58,\n",
       " '\"\"\"': 59,\n",
       " '\"\"\")': 60,\n",
       " '\"\")': 61,\n",
       " '\"\"))': 62,\n",
       " '\"\"),': 63,\n",
       " '\"\").': 64,\n",
       " '\"\");': 65,\n",
       " '\"\"){': 66,\n",
       " '\"\"+': 67,\n",
       " '\"\",': 68,\n",
       " '\"\",\"\"': 69,\n",
       " '\"\".': 70,\n",
       " '\"\":': 71,\n",
       " '\"\";': 72,\n",
       " '\"#': 73,\n",
       " '\"#\"': 74,\n",
       " '\"#/': 75,\n",
       " '\"#{': 76,\n",
       " '\"$': 77,\n",
       " '\"$\"': 78,\n",
       " '\"$(': 79,\n",
       " '\"${': 80,\n",
       " '\"%': 81,\n",
       " '\"%.': 82,\n",
       " '\"%>': 83,\n",
       " '\"&': 84,\n",
       " '\"\\'': 85,\n",
       " '\"\\'\"': 86,\n",
       " '\"\\'\",': 87,\n",
       " '\"\\'\";': 88,\n",
       " '\"\\'&': 89,\n",
       " '\"\\')\";': 90,\n",
       " '\"\\',': 91,\n",
       " '\"\\',\\'\"': 92,\n",
       " '\"\\'|\\'\");': 93,\n",
       " '\"(': 94,\n",
       " '\"(\"': 95,\n",
       " '\")': 96,\n",
       " '\")!': 97,\n",
       " '\")\"': 98,\n",
       " '\")\");': 99,\n",
       " '\")\";': 100,\n",
       " '\")#': 101,\n",
       " '\")%>%\\'': 102,\n",
       " '\")%></': 103,\n",
       " '\"))': 104,\n",
       " '\")))': 105,\n",
       " '\")));': 106,\n",
       " '\")),': 107,\n",
       " '\")).': 108,\n",
       " '\"));': 109,\n",
       " '\")){': 110,\n",
       " '\")+': 111,\n",
       " '\"),': 112,\n",
       " '\"),(\"': 113,\n",
       " '\").': 114,\n",
       " '\").</': 115,\n",
       " '\"):': 116,\n",
       " '\");': 117,\n",
       " '\");//': 118,\n",
       " '\");</': 119,\n",
       " '\");`': 120,\n",
       " '\");}': 121,\n",
       " '\")</': 122,\n",
       " '\")[': 123,\n",
       " '\")]': 124,\n",
       " '\")`': 125,\n",
       " '\"){': 126,\n",
       " '\")}': 127,\n",
       " '\"*': 128,\n",
       " '\"*\"': 129,\n",
       " '\"*\",': 130,\n",
       " '\"*\";': 131,\n",
       " '\"**': 132,\n",
       " '\"*****************************\"': 133,\n",
       " '\"+': 134,\n",
       " '\"+\"': 135,\n",
       " '\"+\",': 136,\n",
       " '\"+\";': 137,\n",
       " '\"+\"\\\\': 138,\n",
       " '\"+(': 139,\n",
       " '\",': 140,\n",
       " '\",\"': 141,\n",
       " '\",\"\");': 142,\n",
       " '\",\"\",\"': 143,\n",
       " '\",\"$': 144,\n",
       " '\",\");': 145,\n",
       " '\",\",': 146,\n",
       " '\",\"-': 147,\n",
       " '\",\"/': 148,\n",
       " '\",\"@': 149,\n",
       " '\",$': 150,\n",
       " '\",&': 151,\n",
       " '\",\\'': 152,\n",
       " '\",*': 153,\n",
       " '\",</': 154,\n",
       " '\",@\"': 155,\n",
       " '\",[': 156,\n",
       " '\",\\\\': 157,\n",
       " '\"-': 158,\n",
       " '\"-\"': 159,\n",
       " '\"-\")': 160,\n",
       " '\"-\",': 161,\n",
       " '\"-\";': 162,\n",
       " '\"--': 163,\n",
       " '\"-//': 164,\n",
       " '\".': 165,\n",
       " '\".\"': 166,\n",
       " '\".\")': 167,\n",
       " '\".\");': 168,\n",
       " '\".\",': 169,\n",
       " '\".\";': 170,\n",
       " '\".$': 171,\n",
       " '\"..': 172,\n",
       " '\"...': 173,\n",
       " '\"...\"': 174,\n",
       " '\"....\");': 175,\n",
       " '\".........\",': 176,\n",
       " '\"../': 177,\n",
       " '\"../../': 178,\n",
       " '\"./': 179,\n",
       " '\".</': 180,\n",
       " '\".\\\\': 181,\n",
       " '\"/': 182,\n",
       " '\"/\"': 183,\n",
       " '\"/\",': 184,\n",
       " '\"/$': 185,\n",
       " '\"/&': 186,\n",
       " '\"//': 187,\n",
       " '\"/>': 188,\n",
       " '\"/><': 189,\n",
       " '\"/></': 190,\n",
       " '\":': 191,\n",
       " '\":\"': 192,\n",
       " '\":\"\",': 193,\n",
       " '\":\"\",\"': 194,\n",
       " '\":\"+': 195,\n",
       " '\":\"-\",\"': 196,\n",
       " '\":\"/': 197,\n",
       " '\":\"<': 198,\n",
       " '\":\"[': 199,\n",
       " '\"::': 200,\n",
       " '\":</': 201,\n",
       " '\":[': 202,\n",
       " '\":[\"': 203,\n",
       " '\":[],\"': 204,\n",
       " '\":[{\"': 205,\n",
       " '\":{': 206,\n",
       " '\":{\"': 207,\n",
       " '\":{},\"': 208,\n",
       " '\";': 209,\n",
       " '\";\"': 210,\n",
       " '\";</': 211,\n",
       " '\";}': 212,\n",
       " '\"<': 213,\n",
       " '\"</': 214,\n",
       " '\"<<': 215,\n",
       " '\"<<\"\\\\': 216,\n",
       " '\"<=\".': 217,\n",
       " '\"<?': 218,\n",
       " '\"=': 219,\n",
       " '\"=\"': 220,\n",
       " '\"=&': 221,\n",
       " '\"==': 222,\n",
       " '\"==\"': 223,\n",
       " '\"=>': 224,\n",
       " '\"=>\"': 225,\n",
       " '\"=>$': 226,\n",
       " '\">': 227,\n",
       " '\">\"': 228,\n",
       " '\">$': 229,\n",
       " '\">&': 230,\n",
       " '\">\\'': 231,\n",
       " '\">\\';': 232,\n",
       " '\">.': 233,\n",
       " '\"><': 234,\n",
       " '\"></': 235,\n",
       " '\"><?': 236,\n",
       " '\">@': 237,\n",
       " '\">`': 238,\n",
       " '\"?': 239,\n",
       " '\"?\"': 240,\n",
       " '\"?&': 241,\n",
       " '\"?</': 242,\n",
       " '\"?>': 243,\n",
       " '\"@': 244,\n",
       " '\"@\"': 245,\n",
       " '\"[': 246,\n",
       " '\"\\\\': 247,\n",
       " '\"\\\\\"': 248,\n",
       " '\"\\\\(': 249,\n",
       " '\"\\\\\\\\': 250,\n",
       " '\"]': 251,\n",
       " '\"]\\').': 252,\n",
       " '\"])': 253,\n",
       " '\"]))': 254,\n",
       " '\"])){': 255,\n",
       " '\"]),': 256,\n",
       " '\"]);': 257,\n",
       " '\"],': 258,\n",
       " '\"],\"': 259,\n",
       " '\"],$': 260,\n",
       " '\"],[': 261,\n",
       " '\"],[\"': 262,\n",
       " '\"].': 263,\n",
       " '\"].\"&': 264,\n",
       " '\"].\"\\'': 265,\n",
       " '\"]/': 266,\n",
       " '\"]:': 267,\n",
       " '\"];': 268,\n",
       " '\"]</': 269,\n",
       " '\"]=': 270,\n",
       " '\"]=&': 271,\n",
       " '\"]=>': 272,\n",
       " '\"][': 273,\n",
       " '\"][\"': 274,\n",
       " '\"]]': 275,\n",
       " '\"]],': 276,\n",
       " '\"]}': 277,\n",
       " '\"]},': 278,\n",
       " '\"^': 279,\n",
       " '\"^[': 280,\n",
       " '\"`': 281,\n",
       " '\"{': 282,\n",
       " '\"{\"': 283,\n",
       " '\"{\\\\\"': 284,\n",
       " '\"{{': 285,\n",
       " '\"|\"': 286,\n",
       " '\"}': 287,\n",
       " '\"}\"': 288,\n",
       " '\"}\\'': 289,\n",
       " '\"})': 290,\n",
       " '\"});': 291,\n",
       " '\"},': 292,\n",
       " '\"},\"': 293,\n",
       " '\"},{': 294,\n",
       " '\"},{\"': 295,\n",
       " '\"};': 296,\n",
       " '\"}</': 297,\n",
       " '\"}]': 298,\n",
       " '\"}],': 299,\n",
       " '\"}],\"': 300,\n",
       " '\"}];': 301,\n",
       " '\"}]}': 302,\n",
       " '\"}}': 303,\n",
       " '\"}},{\"': 304,\n",
       " '\"~': 305,\n",
       " '\"~/': 306,\n",
       " '#': 307,\n",
       " '#!#': 308,\n",
       " '#!/': 309,\n",
       " '#\"': 310,\n",
       " '##': 311,\n",
       " '###': 312,\n",
       " '####': 313,\n",
       " '#####': 314,\n",
       " '#################################################################': 315,\n",
       " '###################################################################': 316,\n",
       " '#&': 317,\n",
       " \"#'\": 318,\n",
       " '#(': 319,\n",
       " '#)': 320,\n",
       " '#,': 321,\n",
       " '#-': 322,\n",
       " '#-}': 323,\n",
       " '#.': 324,\n",
       " '#...': 325,\n",
       " '#.</': 326,\n",
       " '#/': 327,\n",
       " '#//': 328,\n",
       " '#:': 329,\n",
       " '#<': 330,\n",
       " '#</': 331,\n",
       " '#?': 332,\n",
       " '#?</': 333,\n",
       " '#[': 334,\n",
       " '#\\\\': 335,\n",
       " '#{': 336,\n",
       " '$': 337,\n",
       " '$\"': 338,\n",
       " '$\",': 339,\n",
       " '$\"{': 340,\n",
       " '$$': 341,\n",
       " '$%': 342,\n",
       " '$&': 343,\n",
       " '$(': 344,\n",
       " '$(\"': 345,\n",
       " '$(\"#': 346,\n",
       " '$(\".': 347,\n",
       " \"$('\": 348,\n",
       " \"$('#\": 349,\n",
       " \"$('&\": 350,\n",
       " \"$('.\": 351,\n",
       " '$(...).': 352,\n",
       " '$,': 353,\n",
       " '$-': 354,\n",
       " '$.': 355,\n",
       " '$/,': 356,\n",
       " '$:': 357,\n",
       " '$</': 358,\n",
       " '$?': 359,\n",
       " '$@': 360,\n",
       " '${': 361,\n",
       " '%': 362,\n",
       " '%!': 363,\n",
       " '%\"': 364,\n",
       " '%\"&': 365,\n",
       " '%\")': 366,\n",
       " '%\",': 367,\n",
       " '%\";': 368,\n",
       " '%\">': 369,\n",
       " '%\"><': 370,\n",
       " '%%': 371,\n",
       " '%%~': 372,\n",
       " '%&': 373,\n",
       " \"%'\": 374,\n",
       " '%(': 375,\n",
       " '%)': 376,\n",
       " '%),': 377,\n",
       " '%);': 378,\n",
       " '%,': 379,\n",
       " '%-': 380,\n",
       " '%.': 381,\n",
       " '%/': 382,\n",
       " '%;': 383,\n",
       " '%;\"': 384,\n",
       " '%;\"&': 385,\n",
       " '%;\">': 386,\n",
       " '%;}': 387,\n",
       " '%</': 388,\n",
       " '%=': 389,\n",
       " '%==': 390,\n",
       " '%>': 391,\n",
       " '%>%': 392,\n",
       " '%></': 393,\n",
       " '%@\",': 394,\n",
       " '%\\\\': 395,\n",
       " '%]': 396,\n",
       " '%{': 397,\n",
       " '%}': 398,\n",
       " '%}\"': 399,\n",
       " '&': 400,\n",
       " '&#': 401,\n",
       " '&&': 402,\n",
       " \"&'\": 403,\n",
       " '&(': 404,\n",
       " '&,': 405,\n",
       " \"'\": 406,\n",
       " \"'!\": 407,\n",
       " \"'!$\": 408,\n",
       " \"'!'\": 409,\n",
       " '\\'\"': 410,\n",
       " '\\'\"&': 411,\n",
       " '\\'\"\\'\"\\'': 412,\n",
       " '\\'\")': 413,\n",
       " '\\'\");': 414,\n",
       " '\\'\"+': 415,\n",
       " '\\'\",': 416,\n",
       " '\\'\".': 417,\n",
       " '\\'\".$': 418,\n",
       " '\\'\";': 419,\n",
       " '\\'\"</': 420,\n",
       " \"'#\": 421,\n",
       " \"'#'\": 422,\n",
       " \"'$\": 423,\n",
       " \"'$'\": 424,\n",
       " \"'$.\": 425,\n",
       " \"'%\": 426,\n",
       " '\\'%\"': 427,\n",
       " '\\'%\"+': 428,\n",
       " \"'%$\": 429,\n",
       " \"'%'\": 430,\n",
       " \"'%{\": 431,\n",
       " \"'&\": 432,\n",
       " \"''\": 433,\n",
       " \"'''\": 434,\n",
       " \"''',\": 435,\n",
       " \"'')\": 436,\n",
       " \"''),\": 437,\n",
       " \"''),':',''))\": 438,\n",
       " \"'');\": 439,\n",
       " \"'',\": 440,\n",
       " \"''.\": 441,\n",
       " \"'';\": 442,\n",
       " \"'(\": 443,\n",
       " \"'('\": 444,\n",
       " \"')\": 445,\n",
       " '\\')\"': 446,\n",
       " '\\')\"&': 447,\n",
       " '\\')\");': 448,\n",
       " '\\')\";': 449,\n",
       " '\\')\">': 450,\n",
       " \"')&\": 451,\n",
       " \"')'\": 452,\n",
       " \"')(\": 453,\n",
       " \"'))\": 454,\n",
       " '\\'))\"': 455,\n",
       " \"')))\": 456,\n",
       " \"')));\": 457,\n",
       " \"')),\": 458,\n",
       " \"')).\": 459,\n",
       " \"'));\": 460,\n",
       " \"')){\": 461,\n",
       " \"')+\": 462,\n",
       " \"'),\": 463,\n",
       " \"')-&\": 464,\n",
       " \"')->\": 465,\n",
       " \"').\": 466,\n",
       " \"'):\": 467,\n",
       " \"');\": 468,\n",
       " \"');</\": 469,\n",
       " \"')</\": 470,\n",
       " \"')[\": 471,\n",
       " \"')]\": 472,\n",
       " \"')])\": 473,\n",
       " \"')],\": 474,\n",
       " \"'){\": 475,\n",
       " \"')}\": 476,\n",
       " \"')}&\": 477,\n",
       " \"'*\": 478,\n",
       " \"'*'\": 479,\n",
       " \"'**\": 480,\n",
       " \"'+\": 481,\n",
       " \"'+'\": 482,\n",
       " \"'+':\": 483,\n",
       " \"',\": 484,\n",
       " '\\',\"': 485,\n",
       " \"',$\": 486,\n",
       " \"','\": 487,\n",
       " \"','#\": 488,\n",
       " \"','$\": 489,\n",
       " \"','');\": 490,\n",
       " \"',',\": 491,\n",
       " \"','.\": 492,\n",
       " \"',),\": 493,\n",
       " \"',</\": 494,\n",
       " \"',@\": 495,\n",
       " \"',['\": 496,\n",
       " \"'-\": 497,\n",
       " \"'-'\": 498,\n",
       " \"'-')\": 499,\n",
       " \"'-',\": 500,\n",
       " \"'--\": 501,\n",
       " \"'.\": 502,\n",
       " \"'.$\": 503,\n",
       " \"'.'\": 504,\n",
       " \"'.')\": 505,\n",
       " \"'.',\": 506,\n",
       " \"'.,\": 507,\n",
       " \"'...\": 508,\n",
       " \"'...'\": 509,\n",
       " \"'...',\": 510,\n",
       " \"'../\": 511,\n",
       " \"'../../\": 512,\n",
       " \"'./\": 513,\n",
       " \"'.</\": 514,\n",
       " \"'/\": 515,\n",
       " \"'/&\": 516,\n",
       " \"'/'\": 517,\n",
       " \"'/',\": 518,\n",
       " \"'//\": 519,\n",
       " \"'/>\": 520,\n",
       " \"':\": 521,\n",
       " '\\':\"': 522,\n",
       " \"':'\": 523,\n",
       " \"'::\": 524,\n",
       " \"':[\": 525,\n",
       " \"':['\": 526,\n",
       " \"':{\": 527,\n",
       " \"':{'\": 528,\n",
       " \"';\": 529,\n",
       " '\\';\"': 530,\n",
       " \"';'\": 531,\n",
       " \"';'&\": 532,\n",
       " \"';</\": 533,\n",
       " \"'<\": 534,\n",
       " \"'</\": 535,\n",
       " \"'<?\": 536,\n",
       " \"'=\": 537,\n",
       " \"'=&\": 538,\n",
       " \"'='\": 539,\n",
       " \"'=',\": 540,\n",
       " \"'=='\": 541,\n",
       " \"'==='\": 542,\n",
       " \"'=>\": 543,\n",
       " \"'=>$\": 544,\n",
       " \"'=>'\": 545,\n",
       " \"'>\": 546,\n",
       " '\\'>\"': 547,\n",
       " '\\'>\";': 548,\n",
       " \"'>'\": 549,\n",
       " \"'><\": 550,\n",
       " \"'></\": 551,\n",
       " \"'?\": 552,\n",
       " \"'?'\": 553,\n",
       " \"'?</\": 554,\n",
       " \"'@\": 555,\n",
       " \"'@'\": 556,\n",
       " \"'@/\": 557,\n",
       " \"'[\": 558,\n",
       " \"'['\": 559,\n",
       " \"'\\\\\": 560,\n",
       " \"'\\\\'\": 561,\n",
       " \"'\\\\''\": 562,\n",
       " \"']\": 563,\n",
       " '\\']\"': 564,\n",
       " '\\']\"&': 565,\n",
       " '\\']\")': 566,\n",
       " '\\']\").': 567,\n",
       " \"']'\": 568,\n",
       " \"'])\": 569,\n",
       " \"']))\": 570,\n",
       " \"'])));\": 571,\n",
       " \"']));\": 572,\n",
       " \"'])){\": 573,\n",
       " \"']),\": 574,\n",
       " \"']),'</\": 575,\n",
       " \"']).\": 576,\n",
       " \"']);\": 577,\n",
       " \"']){\": 578,\n",
       " \"'],\": 579,\n",
       " \"'],$\": 580,\n",
       " \"'],'\": 581,\n",
       " \"'],['\": 582,\n",
       " \"'].\": 583,\n",
       " '\\'].\"': 584,\n",
       " '\\'].\"&': 585,\n",
       " '\\'].\"\\'': 586,\n",
       " '\\'].\"\\',': 587,\n",
       " '\\'].\"\\',\\'\".$': 588,\n",
       " '\\'].\"</': 589,\n",
       " \"'].'\": 590,\n",
       " \"'].'&\": 591,\n",
       " \"'].'</\": 592,\n",
       " \"']/\": 593,\n",
       " \"']:\": 594,\n",
       " \"'];\": 595,\n",
       " \"'];?&\": 596,\n",
       " \"']</\": 597,\n",
       " \"']=\": 598,\n",
       " \"']=$\": 599,\n",
       " \"']==\": 600,\n",
       " \"']=='\": 601,\n",
       " \"']?>\": 602,\n",
       " \"'][\": 603,\n",
       " \"'][$\": 604,\n",
       " \"']['\": 605,\n",
       " \"']]\": 606,\n",
       " \"']],\": 607,\n",
       " \"']].\": 608,\n",
       " \"']`\": 609,\n",
       " \"']}\": 610,\n",
       " \"']}&\": 611,\n",
       " \"']})\": 612,\n",
       " \"']},\": 613,\n",
       " \"'^\": 614,\n",
       " \"'`\": 615,\n",
       " \"'{\": 616,\n",
       " '\\'{\"': 617,\n",
       " \"'{$\": 618,\n",
       " \"'{'\": 619,\n",
       " \"'{{\": 620,\n",
       " \"'{}'\": 621,\n",
       " \"'|'\": 622,\n",
       " \"'||\": 623,\n",
       " \"'}\": 624,\n",
       " \"'}'\": 625,\n",
       " \"'}'.\": 626,\n",
       " \"'})\": 627,\n",
       " \"'});\": 628,\n",
       " \"'},\": 629,\n",
       " \"'},{'\": 630,\n",
       " \"'};\": 631,\n",
       " \"'}</\": 632,\n",
       " \"'}]\": 633,\n",
       " \"'}],\": 634,\n",
       " \"'}];\": 635,\n",
       " \"'}}\": 636,\n",
       " \"'}}&\": 637,\n",
       " \"'~&\": 638,\n",
       " '(': 639,\n",
       " '(!': 640,\n",
       " '(!\"': 641,\n",
       " '(!$': 642,\n",
       " '(!(': 643,\n",
       " '(\"': 644,\n",
       " '(\"\"': 645,\n",
       " '(\"\"\"': 646,\n",
       " '(\"\")': 647,\n",
       " '(\"\"))': 648,\n",
       " '(\"\").': 649,\n",
       " '(\"\");': 650,\n",
       " '(\"\")]': 651,\n",
       " '(\"\"+': 652,\n",
       " '(\"\",': 653,\n",
       " '(\"#': 654,\n",
       " '(\"$': 655,\n",
       " '(\"${': 656,\n",
       " '(\"%': 657,\n",
       " '(\"%-': 658,\n",
       " '(\"%.': 659,\n",
       " '(\"%[^\\\\': 660,\n",
       " '(\"&': 661,\n",
       " '(\"(': 662,\n",
       " '(\"*': 663,\n",
       " '(\"*\");': 664,\n",
       " '(\"**': 665,\n",
       " '(\"***': 666,\n",
       " '(\"+': 667,\n",
       " '(\",': 668,\n",
       " '(\",\")': 669,\n",
       " '(\",\");': 670,\n",
       " '(\",\",': 671,\n",
       " '(\"-': 672,\n",
       " '(\"--': 673,\n",
       " '(\"->': 674,\n",
       " '(\".': 675,\n",
       " '(\".\");': 676,\n",
       " '(\".\",': 677,\n",
       " '(\"../': 678,\n",
       " '(\"./': 679,\n",
       " '(\".//*[@': 680,\n",
       " '(\"/': 681,\n",
       " '(\"/\")': 682,\n",
       " '(\"/\",': 683,\n",
       " '(\"/&': 684,\n",
       " '(\"//': 685,\n",
       " '(\"//*[@': 686,\n",
       " '(\"/^[': 687,\n",
       " '(\":': 688,\n",
       " '(\";\");': 689,\n",
       " '(\"<': 690,\n",
       " '(\"</': 691,\n",
       " '(\"@': 692,\n",
       " '(\"[': 693,\n",
       " '(\"\\\\': 694,\n",
       " '(\"\\\\(': 695,\n",
       " '(\"\\\\\\\\': 696,\n",
       " '(\"{': 697,\n",
       " '(\"|': 698,\n",
       " '(\"~/': 699,\n",
       " '(#': 700,\n",
       " '($': 701,\n",
       " '($\"': 702,\n",
       " '($(': 703,\n",
       " '($(\"#': 704,\n",
       " \"($('#\": 705,\n",
       " \"($('.\": 706,\n",
       " '($)': 707,\n",
       " '($.': 708,\n",
       " '(%': 709,\n",
       " '(&': 710,\n",
       " \"('\": 711,\n",
       " '(\\'\"': 712,\n",
       " '(\\'\"+': 713,\n",
       " '(\\'\".$': 714,\n",
       " \"('#\": 715,\n",
       " \"('$\": 716,\n",
       " \"('%\": 717,\n",
       " \"('&\": 718,\n",
       " \"('')\": 719,\n",
       " \"('').\": 720,\n",
       " \"('');\": 721,\n",
       " \"('',\": 722,\n",
       " \"('+\": 723,\n",
       " \"(',\": 724,\n",
       " \"(',')\": 725,\n",
       " \"(',');\": 726,\n",
       " \"(',',\": 727,\n",
       " \"(',',$\": 728,\n",
       " \"('-\": 729,\n",
       " \"('.\": 730,\n",
       " \"('.',\": 731,\n",
       " \"('../\": 732,\n",
       " \"('../../\": 733,\n",
       " \"('./\": 734,\n",
       " \"('/\": 735,\n",
       " \"('/')\": 736,\n",
       " \"('/',\": 737,\n",
       " \"(':\": 738,\n",
       " \"('<\": 739,\n",
       " \"('@\": 740,\n",
       " \"('@{\": 741,\n",
       " \"('[\": 742,\n",
       " \"('\\\\\": 743,\n",
       " \"('|')[\": 744,\n",
       " '((': 745,\n",
       " '((\"': 746,\n",
       " '(($': 747,\n",
       " \"(('\": 748,\n",
       " '(((': 749,\n",
       " '((((': 750,\n",
       " '(()': 751,\n",
       " '(()->{': 752,\n",
       " '(()=&': 753,\n",
       " '((*': 754,\n",
       " '((-': 755,\n",
       " '()': 756,\n",
       " '()!=': 757,\n",
       " '()\"': 758,\n",
       " '()\"&': 759,\n",
       " '()\");': 760,\n",
       " '()\",': 761,\n",
       " '()\">': 762,\n",
       " '()\"></': 763,\n",
       " '()%': 764,\n",
       " '()&': 765,\n",
       " \"()'\": 766,\n",
       " \"()',\": 767,\n",
       " \"()':\": 768,\n",
       " '()(': 769,\n",
       " '())': 770,\n",
       " '())!=': 771,\n",
       " '())&': 772,\n",
       " '()))': 773,\n",
       " '())))': 774,\n",
       " '())));': 775,\n",
       " '()));': 776,\n",
       " '())){': 777,\n",
       " '()),': 778,\n",
       " '()).': 779,\n",
       " '()):': 780,\n",
       " '());': 781,\n",
       " '())</': 782,\n",
       " '()){': 783,\n",
       " '()*': 784,\n",
       " '()**': 785,\n",
       " '()+': 786,\n",
       " '()+\"': 787,\n",
       " '()+\"\");': 788,\n",
       " '()+\"\";': 789,\n",
       " \"()+'&\": 790,\n",
       " '(),': 791,\n",
       " '(),\"': 792,\n",
       " \"(),'\": 793,\n",
       " '()-': 794,\n",
       " '()-&': 795,\n",
       " '()->': 796,\n",
       " '().': 797,\n",
       " \"().'/\": 798,\n",
       " '()...': 799,\n",
       " '().</': 800,\n",
       " '()/': 801,\n",
       " '():': 802,\n",
       " '():</': 803,\n",
       " '();': 804,\n",
       " '();\"': 805,\n",
       " '();\"&': 806,\n",
       " '();\">': 807,\n",
       " '();*/': 808,\n",
       " '();//': 809,\n",
       " '();;': 810,\n",
       " '();</': 811,\n",
       " '();?>': 812,\n",
       " '();`': 813,\n",
       " '();}': 814,\n",
       " '()<': 815,\n",
       " '()</': 816,\n",
       " '()<<': 817,\n",
       " '()=': 818,\n",
       " '()=&': 819,\n",
       " '()==': 820,\n",
       " '()>': 821,\n",
       " '()?': 822,\n",
       " '()?.': 823,\n",
       " '()?</': 824,\n",
       " '()[': 825,\n",
       " \"()['\": 826,\n",
       " '()\\\\': 827,\n",
       " '()]': 828,\n",
       " '()]);': 829,\n",
       " '()];': 830,\n",
       " '()`': 831,\n",
       " '()`.': 832,\n",
       " '(){': 833,\n",
       " '(){}': 834,\n",
       " '()}': 835,\n",
       " '()}&': 836,\n",
       " '(*': 837,\n",
       " '(*(': 838,\n",
       " '(*)': 839,\n",
       " '(*)[': 840,\n",
       " '(**': 841,\n",
       " '(*.': 842,\n",
       " '(+': 843,\n",
       " '(+)': 844,\n",
       " '(++': 845,\n",
       " '(,': 846,\n",
       " '(-': 847,\n",
       " '(-)': 848,\n",
       " '(--': 849,\n",
       " '(.': 850,\n",
       " '(.)': 851,\n",
       " '(..)': 852,\n",
       " '(...': 853,\n",
       " '(...)': 854,\n",
       " '(...).': 855,\n",
       " '(...);': 856,\n",
       " '(...)</': 857,\n",
       " '(../': 858,\n",
       " '(./': 859,\n",
       " '(/': 860,\n",
       " '(/*': 861,\n",
       " '(/[': 862,\n",
       " '(/\\\\': 863,\n",
       " '(:': 864,\n",
       " '(:)': 865,\n",
       " '(:,:,': 866,\n",
       " '(::': 867,\n",
       " '(;': 868,\n",
       " '(<': 869,\n",
       " '(=': 870,\n",
       " '(>': 871,\n",
       " '(?': 872,\n",
       " '(?)': 873,\n",
       " '(?,': 874,\n",
       " '(??': 875,\n",
       " '(@': 876,\n",
       " '(@\"': 877,\n",
       " '([': 878,\n",
       " '([\"': 879,\n",
       " \"(['\": 880,\n",
       " \"(['/\": 881,\n",
       " \"([('\": 882,\n",
       " '([[': 883,\n",
       " '([[[': 884,\n",
       " '([]': 885,\n",
       " '([])': 886,\n",
       " '(\\\\': 887,\n",
       " '(\\\\\"': 888,\n",
       " '(`': 889,\n",
       " '(`${': 890,\n",
       " '({': 891,\n",
       " '({\"': 892,\n",
       " \"({'\": 893,\n",
       " '({\\\\\"': 894,\n",
       " '({})': 895,\n",
       " '({});': 896,\n",
       " '({},': 897,\n",
       " '(~': 898,\n",
       " '(~&': 899,\n",
       " '(‘': 900,\n",
       " '(“': 901,\n",
       " '(≥': 902,\n",
       " ')': 903,\n",
       " ')!': 904,\n",
       " ')!)': 905,\n",
       " ')!=': 906,\n",
       " ')\"': 907,\n",
       " ')\"&': 908,\n",
       " ')\")': 909,\n",
       " ')\"))': 910,\n",
       " ')\").': 911,\n",
       " ')\");': 912,\n",
       " ')\",': 913,\n",
       " ')\",\"': 914,\n",
       " ')\".': 915,\n",
       " ')\";': 916,\n",
       " ')\"</': 917,\n",
       " ')\">': 918,\n",
       " ')#': 919,\n",
       " ')$': 920,\n",
       " ')$/,': 921,\n",
       " ')%': 922,\n",
       " ')&': 923,\n",
       " ')&&(': 924,\n",
       " \")'\": 925,\n",
       " \")')\": 926,\n",
       " \")').\": 927,\n",
       " \")');\": 928,\n",
       " \")',\": 929,\n",
       " \")'.\": 930,\n",
       " \")':\": 931,\n",
       " \")';\": 932,\n",
       " ')(': 933,\n",
       " ')((': 934,\n",
       " ')()': 935,\n",
       " ')();': 936,\n",
       " '))': 937,\n",
       " '))\"': 938,\n",
       " ')))': 939,\n",
       " '))))': 940,\n",
       " '))));': 941,\n",
       " '))),': 942,\n",
       " '))).': 943,\n",
       " ')))./': 944,\n",
       " '))):': 945,\n",
       " ')));': 946,\n",
       " '))){': 947,\n",
       " '))*': 948,\n",
       " '))*(': 949,\n",
       " '))+': 950,\n",
       " ')),': 951,\n",
       " ')).': 952,\n",
       " '))/': 953,\n",
       " '))/(': 954,\n",
       " ')):': 955,\n",
       " '));': 956,\n",
       " '));//': 957,\n",
       " '));</': 958,\n",
       " '))</': 959,\n",
       " '))]': 960,\n",
       " ')){': 961,\n",
       " '))}': 962,\n",
       " ')*': 963,\n",
       " ')*(': 964,\n",
       " ')**': 965,\n",
       " ')+': 966,\n",
       " ')+\"': 967,\n",
       " ')+\"&': 968,\n",
       " ')+(': 969,\n",
       " '),': 970,\n",
       " '),\"': 971,\n",
       " '),%': 972,\n",
       " \"),'\": 973,\n",
       " \"),'-',\": 974,\n",
       " '),(': 975,\n",
       " '),(\"': 976,\n",
       " \"),('\": 977,\n",
       " '),/*': 978,\n",
       " '),</': 979,\n",
       " '),@': 980,\n",
       " '),]': 981,\n",
       " ')-': 982,\n",
       " ')-&': 983,\n",
       " ')-(': 984,\n",
       " ')->': 985,\n",
       " ').': 986,\n",
       " ').\"': 987,\n",
       " ').\"\\'.,': 988,\n",
       " ')..': 989,\n",
       " ')...': 990,\n",
       " ')...</': 991,\n",
       " ').<': 992,\n",
       " ').</': 993,\n",
       " ')/': 994,\n",
       " ')/(': 995,\n",
       " ')//': 996,\n",
       " '):': 997,\n",
       " '):\")': 998,\n",
       " ')::': 999,\n",
       " ...}"
      ]
     },
     "execution_count": 49,
     "metadata": {},
     "output_type": "execute_result"
    }
   ],
   "source": [
    "token_to_id"
   ]
  },
  {
   "cell_type": "code",
   "execution_count": 50,
   "metadata": {},
   "outputs": [],
   "source": [
    "UNK_IX, PAD_IX = map(token_to_id.get, [UNK, PAD])\n",
    "\n",
    "def as_matrix(sequences, max_len=None):\n",
    "    \"\"\" Convert a list of tokens into a matrix with padding \"\"\"\n",
    "    if isinstance(sequences[0], str):\n",
    "        sequences = list(map(str.split, sequences))\n",
    "        \n",
    "    max_len = min(max(map(len, sequences)), max_len or float('inf'))\n",
    "    \n",
    "    matrix = np.full((len(sequences), max_len), np.int32(PAD_IX))\n",
    "    for i,seq in enumerate(sequences):\n",
    "        row_ix = [token_to_id.get(word, UNK_IX) for word in seq[:max_len]]\n",
    "        matrix[i, :len(row_ix)] = row_ix\n",
    "    \n",
    "    return matrix"
   ]
  },
  {
   "cell_type": "code",
   "execution_count": 51,
   "metadata": {},
   "outputs": [
    {
     "data": {
      "text/plain": [
       "DictVectorizer(dtype=<class 'numpy.float32'>, sparse=False)"
      ]
     },
     "execution_count": 51,
     "metadata": {},
     "output_type": "execute_result"
    }
   ],
   "source": [
    "from sklearn.feature_extraction import DictVectorizer\n",
    "\n",
    "# we only consider top-1k most frequent data to minimize memory usage\n",
    "top_companies, top_counts = zip(*Counter(data['Tags']).most_common(1000))\n",
    "recognized_companies = set(top_companies)\n",
    "data[\"Tags\"] = data[\"Tags\"].apply(lambda comp: comp if comp in recognized_companies else \"Other\")\n",
    "\n",
    "categorical_vectorizer = DictVectorizer(dtype=np.float32, sparse=False)\n",
    "categorical_vectorizer.fit(data[categorical_columns].apply(dict, axis=1))"
   ]
  },
  {
   "cell_type": "code",
   "execution_count": 52,
   "metadata": {},
   "outputs": [],
   "source": [
    "data_train, data_val = train_test_split(data, test_size=0.2, random_state=42)\n",
    "data_train.index = range(len(data_train))\n",
    "data_val.index = range(len(data_val))"
   ]
  },
  {
   "cell_type": "code",
   "execution_count": 53,
   "metadata": {},
   "outputs": [],
   "source": [
    "def make_batch(data, max_len=None, word_dropout=0):\n",
    "    \"\"\"\n",
    "    Creates a keras-friendly dict from the batch data.\n",
    "    :param word_dropout: replaces token index with UNK_IX with this probability\n",
    "    :returns: a dict with {'title' : int64[batch, title_max_len]\n",
    "    \"\"\"\n",
    "    batch = {}\n",
    "    batch[\"Title\"] = as_matrix(data[\"Title\"].values, max_len)\n",
    "    batch[\"Body\"] = as_matrix(data[\"Body\"].values, max_len)\n",
    "    batch['Tags'] = categorical_vectorizer.transform(data[categorical_columns].apply(dict, axis=1))\n",
    "    \n",
    "    if word_dropout != 0:\n",
    "        batch[\"Body\"] = apply_word_dropout(batch[\"Body\"], 1. - word_dropout)\n",
    "    \n",
    "    if target_column in data.columns:\n",
    "        batch[target_column] = data[target_column].values\n",
    "    \n",
    "    return batch\n",
    "\n",
    "def apply_word_dropout(matrix, keep_prop, replace_with=UNK_IX, pad_ix=PAD_IX,):\n",
    "    dropout_mask = np.random.choice(2, np.shape(matrix), p=[keep_prop, 1 - keep_prop])\n",
    "    dropout_mask &= matrix != pad_ix\n",
    "    return np.choose(dropout_mask, [matrix, np.full_like(matrix, replace_with)])"
   ]
  },
  {
   "cell_type": "code",
   "execution_count": 54,
   "metadata": {},
   "outputs": [
    {
     "data": {
      "text/plain": [
       "{'Title': array([[19291, 13432, 12538,  4180, 17202, 10416,     1,     1,     1,\n",
       "             1],\n",
       "        [12153,  6425, 22870, 12463, 22100, 10709,  4843, 19744, 12437,\n",
       "         16990],\n",
       "        [23687, 13070, 18588, 20958, 19412,  3703,     1,     1,     1,\n",
       "             1]], dtype=int32),\n",
       " 'Body': array([[12276,  4787, 22437, 22100, 10024,  4180, 20355, 12538, 15354,\n",
       "         17202],\n",
       "        [12538, 21908,  7071,  9815, 16273, 23685, 19408, 10416, 22100,\n",
       "          8985],\n",
       "        [ 3378, 16759,  3569, 12276, 23534, 14330, 12954, 12153, 19641,\n",
       "          4180]], dtype=int32),\n",
       " 'Tags': array([[0., 0., 0., ..., 0., 0., 0.],\n",
       "        [0., 0., 0., ..., 0., 0., 0.],\n",
       "        [0., 0., 0., ..., 0., 0., 1.]], dtype=float32),\n",
       " 'target': array([2, 2, 0])}"
      ]
     },
     "execution_count": 54,
     "metadata": {},
     "output_type": "execute_result"
    }
   ],
   "source": [
    "make_batch(data_train[:3], max_len=10)"
   ]
  },
  {
   "cell_type": "code",
   "execution_count": 55,
   "metadata": {},
   "outputs": [],
   "source": [
    "import numpy as np\n",
    "import tensorflow as tf\n",
    "from tensorflow import keras"
   ]
  },
  {
   "cell_type": "code",
   "execution_count": 56,
   "metadata": {},
   "outputs": [],
   "source": [
    "import keras.layers as L"
   ]
  },
  {
   "cell_type": "code",
   "execution_count": 57,
   "metadata": {},
   "outputs": [],
   "source": [
    "def build_model(n_tokens=len(tokens), n_cat_features=len(categorical_vectorizer.vocabulary_), hid_size=64):\n",
    "    \"\"\" Build a model that maps three data sources to a single linear output: predicted log1p(salary) \"\"\"\n",
    "    \n",
    "    l_title = L.Input(shape=[None], name=\"Title\")\n",
    "    l_descr = L.Input(shape=[None], name=\"Body\")\n",
    "    l_categ = L.Input(shape=[n_cat_features], name=\"Tags\")\n",
    "    \n",
    "\n",
    "    emb = L.Embedding(len(tokens), 64)\n",
    "    l_title_emb = emb(l_title)\n",
    "    l_title_emb = L.GlobalMaxPool1D()(l_title_emb)\n",
    "\n",
    "    l_descr_emb = emb(l_descr)\n",
    "    l_descr_emb = L.Dense(128)(l_descr_emb)\n",
    "    l_descr_emb = L.GlobalMaxPool1D()(l_descr_emb)\n",
    "\n",
    "    l_cat_emb = L.Dense(128)(l_categ)\n",
    "\n",
    "\n",
    "    l_all = L.Concatenate()([l_cat_emb, l_descr_emb, l_title_emb])\n",
    "    l_all = L.Dense(123)(l_all)\n",
    "\n",
    "    output_layer = L.Dense(1)(l_all)\n",
    "\n",
    "    \n",
    "    model = keras.models.Model(inputs=[l_title, l_descr, l_categ], outputs=[output_layer])\n",
    "    model.compile('adam', 'mean_squared_error', metrics=['mean_absolute_error'])\n",
    "    return model\n",
    "    "
   ]
  },
  {
   "cell_type": "code",
   "execution_count": 58,
   "metadata": {},
   "outputs": [
    {
     "name": "stdout",
     "output_type": "stream",
     "text": [
      "Model: \"functional_1\"\n",
      "__________________________________________________________________________________________________\n",
      "Layer (type)                    Output Shape         Param #     Connected to                     \n",
      "==================================================================================================\n",
      "Body (InputLayer)               [(None, None)]       0                                            \n",
      "__________________________________________________________________________________________________\n",
      "embedding (Embedding)           (None, None, 64)     1566528     Title[0][0]                      \n",
      "                                                                 Body[0][0]                       \n",
      "__________________________________________________________________________________________________\n",
      "Title (InputLayer)              [(None, None)]       0                                            \n",
      "__________________________________________________________________________________________________\n",
      "Tags (InputLayer)               [(None, 1001)]       0                                            \n",
      "__________________________________________________________________________________________________\n",
      "dense (Dense)                   (None, None, 128)    8320        embedding[1][0]                  \n",
      "__________________________________________________________________________________________________\n",
      "dense_1 (Dense)                 (None, 128)          128256      Tags[0][0]                       \n",
      "__________________________________________________________________________________________________\n",
      "global_max_pooling1d_1 (GlobalM (None, 128)          0           dense[0][0]                      \n",
      "__________________________________________________________________________________________________\n",
      "global_max_pooling1d (GlobalMax (None, 64)           0           embedding[0][0]                  \n",
      "__________________________________________________________________________________________________\n",
      "concatenate (Concatenate)       (None, 320)          0           dense_1[0][0]                    \n",
      "                                                                 global_max_pooling1d_1[0][0]     \n",
      "                                                                 global_max_pooling1d[0][0]       \n",
      "__________________________________________________________________________________________________\n",
      "dense_2 (Dense)                 (None, 123)          39483       concatenate[0][0]                \n",
      "__________________________________________________________________________________________________\n",
      "dense_3 (Dense)                 (None, 1)            124         dense_2[0][0]                    \n",
      "==================================================================================================\n",
      "Total params: 1,742,711\n",
      "Trainable params: 1,742,711\n",
      "Non-trainable params: 0\n",
      "__________________________________________________________________________________________________\n"
     ]
    },
    {
     "name": "stderr",
     "output_type": "stream",
     "text": [
      "/Users/tessergey/ml/anaconda3/lib/python3.8/site-packages/tensorflow/python/keras/engine/functional.py:540: UserWarning: Input dict contained keys ['target'] which did not match any model input. They will be ignored by the model.\n",
      "  warnings.warn(\n"
     ]
    }
   ],
   "source": [
    "model = build_model()\n",
    "model.summary()\n",
    "\n",
    "dummy_pred = model.predict(make_batch(data_train[:100]))\n",
    "dummy_loss = model.train_on_batch(make_batch(data_train[:100]), data_train['target'][:100])[0]\n",
    "assert dummy_pred.shape == (100, 1)\n",
    "assert len(np.unique(dummy_pred)) > 20, \"model returns suspiciously few unique outputs. Check your initialization\"\n",
    "assert np.ndim(dummy_loss) == 0 and 0. <= dummy_loss <= 250., \"make sure you minimize MSE\""
   ]
  },
  {
   "cell_type": "code",
   "execution_count": 59,
   "metadata": {},
   "outputs": [],
   "source": [
    "def iterate_minibatches(data, batch_size=256, shuffle=True, cycle=False, **kwargs):\n",
    "    \"\"\" iterates minibatches of data in random order \"\"\"\n",
    "    while True:\n",
    "        indices = np.arange(len(data))\n",
    "        if shuffle:\n",
    "            indices = np.random.permutation(indices)\n",
    "\n",
    "        for start in range(0, len(indices), batch_size):\n",
    "            batch = make_batch(data.iloc[indices[start : start + batch_size]], **kwargs)\n",
    "            target = batch.pop(target_column)\n",
    "            yield batch, target\n",
    "        \n",
    "        if not cycle: break"
   ]
  },
  {
   "cell_type": "code",
   "execution_count": 60,
   "metadata": {},
   "outputs": [
    {
     "name": "stdout",
     "output_type": "stream",
     "text": [
      "WARNING:tensorflow:From <ipython-input-60-737e07b76cf5>:7: Model.fit_generator (from tensorflow.python.keras.engine.training) is deprecated and will be removed in a future version.\n",
      "Instructions for updating:\n",
      "Please use Model.fit, which supports generators.\n",
      "Epoch 1/3\n",
      "100/100 [==============================] - 81s 809ms/step - loss: 0.3827 - mean_absolute_error: 0.4867 - val_loss: 0.1152 - val_mean_absolute_error: 0.2721\n",
      "Epoch 2/3\n",
      "100/100 [==============================] - 86s 861ms/step - loss: 0.0933 - mean_absolute_error: 0.2381 - val_loss: 0.0889 - val_mean_absolute_error: 0.2313\n",
      "Epoch 3/3\n",
      "100/100 [==============================] - 77s 773ms/step - loss: 0.0778 - mean_absolute_error: 0.2143 - val_loss: 0.0846 - val_mean_absolute_error: 0.2244\n"
     ]
    },
    {
     "data": {
      "text/plain": [
       "<tensorflow.python.keras.callbacks.History at 0x7fe55fb717c0>"
      ]
     },
     "execution_count": 60,
     "metadata": {},
     "output_type": "execute_result"
    }
   ],
   "source": [
    "batch_size = 256\n",
    "epochs = 3            # definitely too small\n",
    "steps_per_epoch = 100  # for full pass over data: (len(data_train) - 1) // batch_size + 1\n",
    "\n",
    "model = build_model()\n",
    "\n",
    "model.fit_generator(iterate_minibatches(data_train, batch_size, cycle=True, word_dropout=0.05), \n",
    "                    epochs=epochs, steps_per_epoch=steps_per_epoch,\n",
    "                    \n",
    "                    validation_data=iterate_minibatches(data_val, batch_size, cycle=True),\n",
    "                    validation_steps=data_val.shape[0] // batch_size\n",
    "                   )"
   ]
  },
  {
   "cell_type": "code",
   "execution_count": 61,
   "metadata": {},
   "outputs": [
    {
     "name": "stdout",
     "output_type": "stream",
     "text": [
      "Train results:\n",
      "Mean square error: 0.05915\n",
      "Mean absolute error: 0.18467\n",
      "Val results:\n",
      "Mean square error: 0.08490\n",
      "Mean absolute error: 0.22486\n"
     ]
    }
   ],
   "source": [
    "def print_metrics(model, data, batch_size=batch_size, name=\"\", **kw):\n",
    "    squared_error = abs_error = num_samples = 0.0\n",
    "    for batch_x, batch_y in iterate_minibatches(data, batch_size=batch_size, shuffle=False, **kw):\n",
    "        batch_pred = model.predict(batch_x)[:, 0]\n",
    "        squared_error += np.sum(np.square(batch_pred - batch_y))\n",
    "        abs_error += np.sum(np.abs(batch_pred - batch_y))\n",
    "        num_samples += len(batch_y)\n",
    "    print(\"%s results:\" % (name or \"\"))\n",
    "    print(\"Mean square error: %.5f\" % (squared_error / num_samples))\n",
    "    print(\"Mean absolute error: %.5f\" % (abs_error / num_samples))\n",
    "    return squared_error, abs_error\n",
    "    \n",
    "print_metrics(model, data_train, name='Train')\n",
    "print_metrics(model, data_val, name='Val');"
   ]
  },
  {
   "cell_type": "markdown",
   "metadata": {},
   "source": [
    "# Part 5. Предсказание для test.csv"
   ]
  },
  {
   "cell_type": "markdown",
   "metadata": {},
   "source": [
    "### Предобработка "
   ]
  },
  {
   "cell_type": "code",
   "execution_count": 62,
   "metadata": {},
   "outputs": [],
   "source": [
    "test = pd.read_parquet('/Users/tessergey/Downloads/lab1/test.parquet', engine='fastparquet')"
   ]
  },
  {
   "cell_type": "code",
   "execution_count": 63,
   "metadata": {},
   "outputs": [
    {
     "data": {
      "text/html": [
       "<div>\n",
       "<style scoped>\n",
       "    .dataframe tbody tr th:only-of-type {\n",
       "        vertical-align: middle;\n",
       "    }\n",
       "\n",
       "    .dataframe tbody tr th {\n",
       "        vertical-align: top;\n",
       "    }\n",
       "\n",
       "    .dataframe thead th {\n",
       "        text-align: right;\n",
       "    }\n",
       "</style>\n",
       "<table border=\"1\" class=\"dataframe\">\n",
       "  <thead>\n",
       "    <tr style=\"text-align: right;\">\n",
       "      <th></th>\n",
       "      <th>Body</th>\n",
       "      <th>Tags</th>\n",
       "      <th>Title</th>\n",
       "    </tr>\n",
       "    <tr>\n",
       "      <th>Id</th>\n",
       "      <th></th>\n",
       "      <th></th>\n",
       "      <th></th>\n",
       "    </tr>\n",
       "  </thead>\n",
       "  <tbody>\n",
       "    <tr>\n",
       "      <th>46785369</th>\n",
       "      <td>I was given a decision tree with sample data i...</td>\n",
       "      <td>&lt;math&gt;&lt;machine-learning&gt;&lt;artificial-intelligen...</td>\n",
       "      <td>Desecion trees ended up with same given tree a...</td>\n",
       "    </tr>\n",
       "    <tr>\n",
       "      <th>38908667</th>\n",
       "      <td>&lt;p&gt;I am moving a test application over to Xcod...</td>\n",
       "      <td>&lt;ios&gt;&lt;swift&gt;&lt;swift3&gt;&lt;xcode8&gt;&lt;nserror&gt;</td>\n",
       "      <td>Value of type 'Error' has no member 'code'</td>\n",
       "    </tr>\n",
       "    <tr>\n",
       "      <th>44703012</th>\n",
       "      <td>&lt;p&gt;I would like to be able to perform linting ...</td>\n",
       "      <td>&lt;jenkins&gt;&lt;jenkins-pipeline&gt;</td>\n",
       "      <td>How do I lint Jenkins pipelines from the comma...</td>\n",
       "    </tr>\n",
       "    <tr>\n",
       "      <th>34910435</th>\n",
       "      <td>&lt;p&gt;I’m using &lt;a href=\"https://github.com/ftlab...</td>\n",
       "      <td>&lt;javascript&gt;&lt;css&gt;&lt;mobile-safari&gt;&lt;fastclick.js&gt;...</td>\n",
       "      <td>Is there a way to prevent fastclick from firin...</td>\n",
       "    </tr>\n",
       "    <tr>\n",
       "      <th>51632121</th>\n",
       "      <td>I have some 5 Test cases and I want them to ke...</td>\n",
       "      <td>&lt;android&gt;&lt;testing&gt;&lt;appium&gt;&lt;katalon-studio&gt;</td>\n",
       "      <td>How to loop test cases in katalon Studio?</td>\n",
       "    </tr>\n",
       "  </tbody>\n",
       "</table>\n",
       "</div>"
      ],
      "text/plain": [
       "                                                       Body  \\\n",
       "Id                                                            \n",
       "46785369  I was given a decision tree with sample data i...   \n",
       "38908667  <p>I am moving a test application over to Xcod...   \n",
       "44703012  <p>I would like to be able to perform linting ...   \n",
       "34910435  <p>I’m using <a href=\"https://github.com/ftlab...   \n",
       "51632121  I have some 5 Test cases and I want them to ke...   \n",
       "\n",
       "                                                       Tags  \\\n",
       "Id                                                            \n",
       "46785369  <math><machine-learning><artificial-intelligen...   \n",
       "38908667              <ios><swift><swift3><xcode8><nserror>   \n",
       "44703012                        <jenkins><jenkins-pipeline>   \n",
       "34910435  <javascript><css><mobile-safari><fastclick.js>...   \n",
       "51632121         <android><testing><appium><katalon-studio>   \n",
       "\n",
       "                                                      Title  \n",
       "Id                                                           \n",
       "46785369  Desecion trees ended up with same given tree a...  \n",
       "38908667         Value of type 'Error' has no member 'code'  \n",
       "44703012  How do I lint Jenkins pipelines from the comma...  \n",
       "34910435  Is there a way to prevent fastclick from firin...  \n",
       "51632121          How to loop test cases in katalon Studio?  "
      ]
     },
     "execution_count": 63,
     "metadata": {},
     "output_type": "execute_result"
    }
   ],
   "source": [
    "test.head()"
   ]
  },
  {
   "cell_type": "code",
   "execution_count": 70,
   "metadata": {},
   "outputs": [],
   "source": [
    "#Создание нового столбца text, который объединил три остальных текстовых столбца \n",
    "test[\"text\"] = test[\"Tags\"] + \" \" + test[\"Title\"] + \" \" + test[\"Body\"]\n",
    "#Удаление ненужных уже столбцов\n",
    "test.drop(['Tags','Title','Body'], axis = 1, inplace = True)"
   ]
  },
  {
   "cell_type": "code",
   "execution_count": 71,
   "metadata": {},
   "outputs": [
    {
     "data": {
      "text/html": [
       "<div>\n",
       "<style scoped>\n",
       "    .dataframe tbody tr th:only-of-type {\n",
       "        vertical-align: middle;\n",
       "    }\n",
       "\n",
       "    .dataframe tbody tr th {\n",
       "        vertical-align: top;\n",
       "    }\n",
       "\n",
       "    .dataframe thead th {\n",
       "        text-align: right;\n",
       "    }\n",
       "</style>\n",
       "<table border=\"1\" class=\"dataframe\">\n",
       "  <thead>\n",
       "    <tr style=\"text-align: right;\">\n",
       "      <th></th>\n",
       "      <th>text</th>\n",
       "    </tr>\n",
       "    <tr>\n",
       "      <th>Id</th>\n",
       "      <th></th>\n",
       "    </tr>\n",
       "  </thead>\n",
       "  <tbody>\n",
       "    <tr>\n",
       "      <th>46785369</th>\n",
       "      <td>&lt;math&gt;&lt;machine-learning&gt;&lt;artificial-intelligen...</td>\n",
       "    </tr>\n",
       "    <tr>\n",
       "      <th>38908667</th>\n",
       "      <td>&lt;ios&gt;&lt;swift&gt;&lt;swift3&gt;&lt;xcode8&gt;&lt;nserror&gt; value of...</td>\n",
       "    </tr>\n",
       "    <tr>\n",
       "      <th>44703012</th>\n",
       "      <td>&lt;jenkins&gt;&lt;jenkins-pipeline&gt; how do i lint jenk...</td>\n",
       "    </tr>\n",
       "    <tr>\n",
       "      <th>34910435</th>\n",
       "      <td>&lt;javascript&gt;&lt;css&gt;&lt;mobile-safari&gt;&lt;fastclick.js&gt;...</td>\n",
       "    </tr>\n",
       "    <tr>\n",
       "      <th>51632121</th>\n",
       "      <td>&lt;android&gt;&lt;testing&gt;&lt;appium&gt;&lt;katalon-studio&gt; how...</td>\n",
       "    </tr>\n",
       "  </tbody>\n",
       "</table>\n",
       "</div>"
      ],
      "text/plain": [
       "                                                       text\n",
       "Id                                                         \n",
       "46785369  <math><machine-learning><artificial-intelligen...\n",
       "38908667  <ios><swift><swift3><xcode8><nserror> value of...\n",
       "44703012  <jenkins><jenkins-pipeline> how do i lint jenk...\n",
       "34910435  <javascript><css><mobile-safari><fastclick.js>...\n",
       "51632121  <android><testing><appium><katalon-studio> how..."
      ]
     },
     "execution_count": 71,
     "metadata": {},
     "output_type": "execute_result"
    }
   ],
   "source": [
    "#Приведение всех букв к нижнему регистру \n",
    "test[\"text\"] = test[\"text\"].str.lower()\n",
    "test.head()"
   ]
  },
  {
   "cell_type": "code",
   "execution_count": 73,
   "metadata": {},
   "outputs": [
    {
     "data": {
      "text/html": [
       "<div>\n",
       "<style scoped>\n",
       "    .dataframe tbody tr th:only-of-type {\n",
       "        vertical-align: middle;\n",
       "    }\n",
       "\n",
       "    .dataframe tbody tr th {\n",
       "        vertical-align: top;\n",
       "    }\n",
       "\n",
       "    .dataframe thead th {\n",
       "        text-align: right;\n",
       "    }\n",
       "</style>\n",
       "<table border=\"1\" class=\"dataframe\">\n",
       "  <thead>\n",
       "    <tr style=\"text-align: right;\">\n",
       "      <th></th>\n",
       "      <th>text</th>\n",
       "    </tr>\n",
       "    <tr>\n",
       "      <th>Id</th>\n",
       "      <th></th>\n",
       "    </tr>\n",
       "  </thead>\n",
       "  <tbody>\n",
       "    <tr>\n",
       "      <th>46785369</th>\n",
       "      <td>math machine learning artificial intelligence...</td>\n",
       "    </tr>\n",
       "    <tr>\n",
       "      <th>38908667</th>\n",
       "      <td>ios swift swift xcode nserror value of type e...</td>\n",
       "    </tr>\n",
       "    <tr>\n",
       "      <th>44703012</th>\n",
       "      <td>jenkins jenkins pipeline how do i lint jenkin...</td>\n",
       "    </tr>\n",
       "    <tr>\n",
       "      <th>34910435</th>\n",
       "      <td>javascript css mobile safari fastclick js fas...</td>\n",
       "    </tr>\n",
       "    <tr>\n",
       "      <th>51632121</th>\n",
       "      <td>android testing appium katalon studio how to ...</td>\n",
       "    </tr>\n",
       "  </tbody>\n",
       "</table>\n",
       "</div>"
      ],
      "text/plain": [
       "                                                       text\n",
       "Id                                                         \n",
       "46785369   math machine learning artificial intelligence...\n",
       "38908667   ios swift swift xcode nserror value of type e...\n",
       "44703012   jenkins jenkins pipeline how do i lint jenkin...\n",
       "34910435   javascript css mobile safari fastclick js fas...\n",
       "51632121   android testing appium katalon studio how to ..."
      ]
     },
     "execution_count": 73,
     "metadata": {},
     "output_type": "execute_result"
    }
   ],
   "source": [
    "#Отчистка специальных знаков и знаков пунктуации \n",
    "import re\n",
    "def preprocess(whole_text, with_dots):\n",
    "    if with_dots == True:\n",
    "        whole_text = re.sub(r'[^(a-zA-Z.)\\s]',' ', whole_text)\n",
    "    else:\n",
    "        whole_text = re.sub(r'[^(a-zA-Z)\\s]',' ', whole_text)\n",
    "    whole_text = re.sub(' +', ' ', whole_text)\n",
    "    return whole_text\n",
    "\n",
    "test[\"text\"] = test[\"text\"].apply(preprocess, with_dots = True)\n",
    "#test[\"text\"] = test[\"text\"].apply(preprocess, with_dots = False)\n",
    "test.head()"
   ]
  },
  {
   "cell_type": "code",
   "execution_count": 74,
   "metadata": {},
   "outputs": [
    {
     "name": "stderr",
     "output_type": "stream",
     "text": [
      "[nltk_data] Downloading package punkt to /Users/tessergey/nltk_data...\n",
      "[nltk_data]   Package punkt is already up-to-date!\n",
      "[nltk_data] Downloading package wordnet to\n",
      "[nltk_data]     /Users/tessergey/nltk_data...\n",
      "[nltk_data]   Package wordnet is already up-to-date!\n",
      "[nltk_data] Downloading package stopwords to\n",
      "[nltk_data]     /Users/tessergey/nltk_data...\n",
      "[nltk_data]   Package stopwords is already up-to-date!\n"
     ]
    },
    {
     "data": {
      "text/plain": [
       "True"
      ]
     },
     "execution_count": 74,
     "metadata": {},
     "output_type": "execute_result"
    }
   ],
   "source": [
    "import nltk\n",
    "from nltk.corpus import stopwords \n",
    "from nltk.tokenize import word_tokenize   \n",
    "from nltk.stem import WordNetLemmatizer \n",
    "from nltk.tokenize import sent_tokenize\n",
    "\n",
    "nltk.download('punkt')\n",
    "nltk.download('wordnet')\n",
    "nltk.download('stopwords')"
   ]
  },
  {
   "cell_type": "code",
   "execution_count": 75,
   "metadata": {},
   "outputs": [],
   "source": [
    " import spacy\n",
    "spacyEnglishObject = spacy.load('en', disable=['parser', 'ner'])\n",
    "\n",
    "#Функция которая лемнтизирует предложение \n",
    "def preprocess_sentence(sentence):\n",
    "    parsedSentence = spacyEnglishObject(sentence)\n",
    "    filtered_sentence = \" \".join([token.lemma_ for token in parsedSentence])\n",
    "    return filtered_sentence"
   ]
  },
  {
   "cell_type": "code",
   "execution_count": 76,
   "metadata": {},
   "outputs": [
    {
     "data": {
      "text/html": [
       "<div>\n",
       "<style scoped>\n",
       "    .dataframe tbody tr th:only-of-type {\n",
       "        vertical-align: middle;\n",
       "    }\n",
       "\n",
       "    .dataframe tbody tr th {\n",
       "        vertical-align: top;\n",
       "    }\n",
       "\n",
       "    .dataframe thead th {\n",
       "        text-align: right;\n",
       "    }\n",
       "</style>\n",
       "<table border=\"1\" class=\"dataframe\">\n",
       "  <thead>\n",
       "    <tr style=\"text-align: right;\">\n",
       "      <th></th>\n",
       "      <th>text</th>\n",
       "    </tr>\n",
       "    <tr>\n",
       "      <th>Id</th>\n",
       "      <th></th>\n",
       "    </tr>\n",
       "  </thead>\n",
       "  <tbody>\n",
       "    <tr>\n",
       "      <th>46785369</th>\n",
       "      <td>math machine learn artificial intelligence d...</td>\n",
       "    </tr>\n",
       "    <tr>\n",
       "      <th>38908667</th>\n",
       "      <td>ios swift swift xcode nserror value of type ...</td>\n",
       "    </tr>\n",
       "    <tr>\n",
       "      <th>44703012</th>\n",
       "      <td>jenkins jenkins pipeline how do i lint jenki...</td>\n",
       "    </tr>\n",
       "    <tr>\n",
       "      <th>34910435</th>\n",
       "      <td>javascript css mobile safari fastclick js fa...</td>\n",
       "    </tr>\n",
       "    <tr>\n",
       "      <th>51632121</th>\n",
       "      <td>android testing appium katalon studio how to...</td>\n",
       "    </tr>\n",
       "  </tbody>\n",
       "</table>\n",
       "</div>"
      ],
      "text/plain": [
       "                                                       text\n",
       "Id                                                         \n",
       "46785369    math machine learn artificial intelligence d...\n",
       "38908667    ios swift swift xcode nserror value of type ...\n",
       "44703012    jenkins jenkins pipeline how do i lint jenki...\n",
       "34910435    javascript css mobile safari fastclick js fa...\n",
       "51632121    android testing appium katalon studio how to..."
      ]
     },
     "execution_count": 76,
     "metadata": {},
     "output_type": "execute_result"
    }
   ],
   "source": [
    "#Применение функции к каждой строке\n",
    "test['text'] = test['text'].apply(lambda x: preprocess_sentence(x))\n",
    "test.head()"
   ]
  },
  {
   "cell_type": "code",
   "execution_count": 78,
   "metadata": {},
   "outputs": [],
   "source": [
    "from wordcloud import WordCloud, STOPWORDS\n",
    "from nltk.corpus import stopwords\n",
    "myStopList = set(STOPWORDS)\n",
    "myStopList.update([\"p\", \"div\", \"-PRON-\", \"gt\", \"t\", \"td\", \"lt\"])"
   ]
  },
  {
   "cell_type": "code",
   "execution_count": 79,
   "metadata": {},
   "outputs": [],
   "source": [
    "#remove stop words\n",
    "def remove_stop_words(sentence):\n",
    "    word_tokens = word_tokenize(sentence)\n",
    "    filtered_sentence = ' '.join([w for w in word_tokens if w not in myStopList])\n",
    "    return filtered_sentence"
   ]
  },
  {
   "cell_type": "code",
   "execution_count": 80,
   "metadata": {},
   "outputs": [],
   "source": [
    "test[\"text\"] = test[\"text\"].apply(lambda x: remove_stop_words(x))"
   ]
  },
  {
   "cell_type": "markdown",
   "metadata": {},
   "source": [
    "### Векторизация test "
   ]
  },
  {
   "cell_type": "code",
   "execution_count": 85,
   "metadata": {},
   "outputs": [],
   "source": [
    "df1 = test[[\"text\"]]"
   ]
  },
  {
   "cell_type": "code",
   "execution_count": 86,
   "metadata": {},
   "outputs": [],
   "source": [
    "df2 = df1.apply(lambda x: ','.join(x.astype(str)), axis=1)"
   ]
  },
  {
   "cell_type": "code",
   "execution_count": 87,
   "metadata": {},
   "outputs": [],
   "source": [
    "test_tok = [tokenizer.tokenize(u) for u in df2]"
   ]
  },
  {
   "cell_type": "code",
   "execution_count": 88,
   "metadata": {},
   "outputs": [],
   "source": [
    "test_w2v_model = Word2Vec(test_tok, min_count=1,size= 50,workers=3, window =3, sg = 1)"
   ]
  },
  {
   "cell_type": "code",
   "execution_count": null,
   "metadata": {},
   "outputs": [],
   "source": []
  },
  {
   "cell_type": "code",
   "execution_count": 89,
   "metadata": {},
   "outputs": [],
   "source": [
    "test_vector = get_vectors(test['text'], test_w2v_model)"
   ]
  },
  {
   "cell_type": "markdown",
   "metadata": {},
   "source": [
    "### Обучение и предсказание"
   ]
  },
  {
   "cell_type": "markdown",
   "metadata": {},
   "source": [
    "Для генерации меток классов будет использоваться алгоритм AdaBoost, который в качестве базового классификатора принимает RandomForest. AdaBoost показал относительно высокую точность предсказаний на валидационной выборке, а также менее остальных подвержен переобучению, что важно, ведь, обучение будет происходить на всем векторе word2vec_own_vectors. "
   ]
  },
  {
   "cell_type": "code",
   "execution_count": 96,
   "metadata": {},
   "outputs": [],
   "source": [
    "from sklearn.ensemble import AdaBoostClassifier\n",
    "abc = AdaBoostClassifier(base_estimator = rf, n_estimators = 200)\n",
    "abc = abc.fit(word2vec_own_vector, train[\"target\"])"
   ]
  },
  {
   "cell_type": "code",
   "execution_count": 105,
   "metadata": {},
   "outputs": [],
   "source": [
    "prediction = abc.predict(test_vector)"
   ]
  },
  {
   "cell_type": "code",
   "execution_count": 106,
   "metadata": {},
   "outputs": [
    {
     "data": {
      "text/plain": [
       "array([2, 2, 2, 0, 1, 2, 2, 2, 0, 2])"
      ]
     },
     "execution_count": 106,
     "metadata": {},
     "output_type": "execute_result"
    }
   ],
   "source": [
    "prediction[:10]"
   ]
  },
  {
   "cell_type": "markdown",
   "metadata": {},
   "source": [
    "#### Сохранение ответов в файл"
   ]
  },
  {
   "cell_type": "code",
   "execution_count": 107,
   "metadata": {},
   "outputs": [],
   "source": [
    "result = test.copy()"
   ]
  },
  {
   "cell_type": "code",
   "execution_count": 109,
   "metadata": {},
   "outputs": [],
   "source": [
    "result[\"Predicted\"] = prediction"
   ]
  },
  {
   "cell_type": "code",
   "execution_count": 111,
   "metadata": {},
   "outputs": [],
   "source": [
    "result.drop(['text'], axis = 1, inplace = True)"
   ]
  },
  {
   "cell_type": "code",
   "execution_count": 112,
   "metadata": {},
   "outputs": [
    {
     "data": {
      "text/html": [
       "<div>\n",
       "<style scoped>\n",
       "    .dataframe tbody tr th:only-of-type {\n",
       "        vertical-align: middle;\n",
       "    }\n",
       "\n",
       "    .dataframe tbody tr th {\n",
       "        vertical-align: top;\n",
       "    }\n",
       "\n",
       "    .dataframe thead th {\n",
       "        text-align: right;\n",
       "    }\n",
       "</style>\n",
       "<table border=\"1\" class=\"dataframe\">\n",
       "  <thead>\n",
       "    <tr style=\"text-align: right;\">\n",
       "      <th></th>\n",
       "      <th>Predicted</th>\n",
       "    </tr>\n",
       "    <tr>\n",
       "      <th>Id</th>\n",
       "      <th></th>\n",
       "    </tr>\n",
       "  </thead>\n",
       "  <tbody>\n",
       "    <tr>\n",
       "      <th>46785369</th>\n",
       "      <td>2</td>\n",
       "    </tr>\n",
       "    <tr>\n",
       "      <th>38908667</th>\n",
       "      <td>2</td>\n",
       "    </tr>\n",
       "    <tr>\n",
       "      <th>44703012</th>\n",
       "      <td>2</td>\n",
       "    </tr>\n",
       "    <tr>\n",
       "      <th>34910435</th>\n",
       "      <td>0</td>\n",
       "    </tr>\n",
       "    <tr>\n",
       "      <th>51632121</th>\n",
       "      <td>1</td>\n",
       "    </tr>\n",
       "  </tbody>\n",
       "</table>\n",
       "</div>"
      ],
      "text/plain": [
       "          Predicted\n",
       "Id                 \n",
       "46785369          2\n",
       "38908667          2\n",
       "44703012          2\n",
       "34910435          0\n",
       "51632121          1"
      ]
     },
     "execution_count": 112,
     "metadata": {},
     "output_type": "execute_result"
    }
   ],
   "source": [
    "result.head()"
   ]
  },
  {
   "cell_type": "code",
   "execution_count": 113,
   "metadata": {},
   "outputs": [],
   "source": [
    "result.to_csv('result.csv', index=True)"
   ]
  },
  {
   "cell_type": "code",
   "execution_count": null,
   "metadata": {},
   "outputs": [],
   "source": []
  }
 ],
 "metadata": {
  "kernelspec": {
   "display_name": "Python 3",
   "language": "python",
   "name": "python3"
  },
  "language_info": {
   "codemirror_mode": {
    "name": "ipython",
    "version": 3
   },
   "file_extension": ".py",
   "mimetype": "text/x-python",
   "name": "python",
   "nbconvert_exporter": "python",
   "pygments_lexer": "ipython3",
   "version": "3.8.3"
  }
 },
 "nbformat": 4,
 "nbformat_minor": 4
}
